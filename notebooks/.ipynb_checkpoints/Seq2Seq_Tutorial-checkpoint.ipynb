{
 "cells": [
  {
   "cell_type": "code",
   "execution_count": null,
   "metadata": {
    "colab": {
     "base_uri": "https://localhost:8080/"
    },
    "id": "Wq0wdp-jnkw6",
    "outputId": "541d5734-3a49-4dab-e8d2-703a52462a79"
   },
   "outputs": [
    {
     "name": "stdout",
     "output_type": "stream",
     "text": [
      "--2022-04-20 08:14:34--  https://www.manythings.org/anki/rus-eng.zip\n",
      "Resolving www.manythings.org (www.manythings.org)... 104.21.92.44, 172.67.186.54, 2606:4700:3030::6815:5c2c, ...\n",
      "Connecting to www.manythings.org (www.manythings.org)|104.21.92.44|:443... connected.\n",
      "HTTP request sent, awaiting response... 200 OK\n",
      "Length: 14683939 (14M) [application/zip]\n",
      "Saving to: ‘rus-eng.zip’\n",
      "\n",
      "rus-eng.zip         100%[===================>]  14.00M  --.-KB/s    in 0.1s    \n",
      "\n",
      "2022-04-20 08:14:35 (93.4 MB/s) - ‘rus-eng.zip’ saved [14683939/14683939]\n",
      "\n",
      "Archive:  rus-eng.zip\n",
      "  inflating: rus.txt                 \n",
      "  inflating: _about.txt              \n"
     ]
    }
   ],
   "source": [
    "!wget https://www.manythings.org/anki/rus-eng.zip\n",
    "!unzip rus-eng.zip"
   ]
  },
  {
   "cell_type": "code",
   "execution_count": null,
   "metadata": {
    "id": "N-hsRIzjkUdl"
   },
   "outputs": [],
   "source": [
    "from __future__ import unicode_literals, print_function, division\n",
    "from io import open\n",
    "import unicodedata\n",
    "import string\n",
    "import re\n",
    "import random\n",
    "import numpy as np\n",
    "import pandas as pd\n",
    "\n",
    "import torch\n",
    "import torch.nn as nn\n",
    "from torch import optim\n",
    "import matplotlib.pyplot as plt\n",
    "from IPython.display import clear_output\n",
    "import torch.nn.functional as F\n",
    "from torch.utils.data import Dataset, DataLoader\n",
    "from keras.preprocessing.sequence import pad_sequences\n",
    "from tensorflow.keras.utils import Progbar\n",
    "\n",
    "if torch.cuda.is_available():\n",
    "  dev = \"cuda\"\n",
    "else:\n",
    "  dev = 'cpu'\n",
    "\n",
    "device = torch.device(dev)"
   ]
  },
  {
   "cell_type": "code",
   "execution_count": null,
   "metadata": {
    "colab": {
     "base_uri": "https://localhost:8080/"
    },
    "id": "fWheV5KzHAgU",
    "outputId": "0b7ff217-c45e-4981-902d-3e03e974d1f2"
   },
   "outputs": [
    {
     "name": "stdout",
     "output_type": "stream",
     "text": [
      "NVIDIA-SMI has failed because it couldn't communicate with the NVIDIA driver. Make sure that the latest NVIDIA driver is installed and running.\n",
      "\n"
     ]
    }
   ],
   "source": [
    "!nvidia-smi"
   ]
  },
  {
   "cell_type": "code",
   "execution_count": null,
   "metadata": {
    "id": "6ovNeEoov6AG"
   },
   "outputs": [],
   "source": []
  },
  {
   "cell_type": "markdown",
   "metadata": {
    "id": "SDNUmKLfv6R0"
   },
   "source": [
    "Опредим класс, который отвечает за словарь языка."
   ]
  },
  {
   "cell_type": "code",
   "execution_count": null,
   "metadata": {
    "id": "v1GQNOQVpCT5"
   },
   "outputs": [],
   "source": [
    "SOS_token = 0\n",
    "EOS_token = 1\n",
    "\n",
    "\n",
    "class Lang:\n",
    "    def __init__(self, name):\n",
    "        self.name = name\n",
    "        self.word2index = {}\n",
    "        self.word2count = {}\n",
    "        self.index2word = {0: \"SOS\", 1: \"EOS\"}\n",
    "        self.word2index = {\"SOS\":0, \"EOS\": 1}\n",
    "        self.n_words = 2  \n",
    "\n",
    "    def addSentence(self, sentence):\n",
    "        for word in sentence.split(' '):\n",
    "            self.addWord(word)\n",
    "\n",
    "    def addWord(self, word):\n",
    "        if word not in self.word2index:\n",
    "            self.word2index[word] = self.n_words\n",
    "            self.word2count[word] = 1\n",
    "            self.index2word[self.n_words] = word\n",
    "            self.n_words += 1\n",
    "        else:\n",
    "            self.word2count[word] += 1"
   ]
  },
  {
   "cell_type": "code",
   "execution_count": null,
   "metadata": {
    "id": "-jQrQ3mcv0hn"
   },
   "outputs": [],
   "source": []
  },
  {
   "cell_type": "markdown",
   "metadata": {
    "id": "kQCUa542v028"
   },
   "source": [
    "Подготовим функции предобработки данных и чтения. "
   ]
  },
  {
   "cell_type": "code",
   "execution_count": null,
   "metadata": {
    "id": "4094EjzapGCy"
   },
   "outputs": [],
   "source": [
    "def normalizeString(s):\n",
    "    s = s.lower()\n",
    "    s = re.sub(r\"([.!?])\", r\" \\1\", s)\n",
    "    s = re.sub(r\"[^a-zA-Zа-яйёьъА-Яй]+\", r\" \", s)\n",
    "    s = s.strip()\n",
    "    return s"
   ]
  },
  {
   "cell_type": "code",
   "execution_count": null,
   "metadata": {
    "colab": {
     "base_uri": "https://localhost:8080/"
    },
    "id": "6JIFyuW4pPh_",
    "outputId": "b54b6132-50ea-4ad0-d8f0-2b074b0db840"
   },
   "outputs": [
    {
     "data": {
      "text/plain": [
       "('ru',\n",
       " 'en',\n",
       " [['марш', 'go'],\n",
       "  ['иди', 'go'],\n",
       "  ['идите', 'go'],\n",
       "  ['здравствуйте', 'hi'],\n",
       "  ['привет', 'hi']])"
      ]
     },
     "execution_count": 6,
     "metadata": {},
     "output_type": "execute_result"
    }
   ],
   "source": [
    "def readLangs(filename, lang1, lang2, reverse=False):\n",
    "    pairs_array = []\n",
    "    lines = open(filename, encoding='utf-8').read().strip().split('\\n')\n",
    "\n",
    "    for line in lines:\n",
    "      pair = list(map(normalizeString, line.split('\\t')[:2]))\n",
    "      pairs_array.append(pair)\n",
    "\n",
    "    if reverse:\n",
    "        pairs_array = [list(reversed(p)) for p in pairs_array]\n",
    "        input_lang = Lang(lang2)\n",
    "        output_lang = Lang(lang1)\n",
    "    else:\n",
    "        input_lang = Lang(lang1)\n",
    "        output_lang = Lang(lang2)\n",
    "\n",
    "    return input_lang, output_lang, pairs_array\n",
    "\n",
    "input_lang, output_lang, pairs = readLangs('rus.txt', 'en', 'ru', True)\n",
    "input_lang.name, output_lang.name, pairs[:5]"
   ]
  },
  {
   "cell_type": "markdown",
   "metadata": {
    "id": "GtkNJ82mwCBq"
   },
   "source": [
    "Отфильтруем наш датасет, чтобы остались только предложения, которые начинаются на строки из списка. Так мы сможем быстрее увидеть способность модели обучаться. "
   ]
  },
  {
   "cell_type": "code",
   "execution_count": null,
   "metadata": {
    "colab": {
     "base_uri": "https://localhost:8080/"
    },
    "id": "Y2WOC82ap7XV",
    "outputId": "f44333e0-78fa-4ef5-ac59-d04601bb6ef4"
   },
   "outputs": [
    {
     "name": "stdout",
     "output_type": "stream",
     "text": [
      "Read 440219 sentence pairs\n",
      "Trimmed to 27491 sentence pairs\n",
      "Counting words...\n",
      "Counted words:\n",
      "ru 10070\n",
      "en 4176\n",
      "['ты можешь говорить с кем хочешь', 'you are free to talk with anyone']\n"
     ]
    }
   ],
   "source": [
    "MAX_LENGTH = 10\n",
    "\n",
    "eng_prefixes = (\n",
    "    \"i am \", \"i m \",\n",
    "    \"he is\", \"he s \",\n",
    "    \"she is\", \"she s \",\n",
    "    \"you are\", \"you re \",\n",
    "    \"we are\", \"we re \",\n",
    "    \"they are\", \"they re \"\n",
    ")\n",
    "\n",
    "def filter_pairs(p):\n",
    "    return len(p[0].split(' ')) < MAX_LENGTH and len(p[1].split(' ')) < MAX_LENGTH and p[1].startswith(eng_prefixes)\n",
    "\n",
    "def prepareData(input_lang, output_lang, pairs):\n",
    "    print(\"Read %s sentence pairs\" % len(pairs))\n",
    "    reduced_pairs = list(filter(filter_pairs, pairs))\n",
    "    print(\"Trimmed to %s sentence pairs\" % len(reduced_pairs))\n",
    "    print(\"Counting words...\")\n",
    "    for pair in reduced_pairs:\n",
    "        input_lang.addSentence(pair[0])\n",
    "        output_lang.addSentence(pair[1])\n",
    "    print(\"Counted words:\")\n",
    "    print(input_lang.name, input_lang.n_words)\n",
    "    print(output_lang.name, output_lang.n_words)\n",
    "    random.shuffle(reduced_pairs)\n",
    "    return input_lang, output_lang, reduced_pairs\n",
    "\n",
    "input_lang, output_lang, reduced_pairs = prepareData(input_lang, output_lang, pairs)\n",
    "print(random.choice(reduced_pairs))"
   ]
  },
  {
   "cell_type": "markdown",
   "metadata": {
    "id": "w4_qlqK-wUT8"
   },
   "source": [
    "Каждая будет представлено в формате кортежа, где первый элемент - вектор индексов русского языка, второй - английского. Каждый вектор в размера - (длина предложения, индекс слова(из словаря класса для языка)) . Для батчевого обучения, нам надо будет сделать каждое предложение одинаковой длины. "
   ]
  },
  {
   "cell_type": "code",
   "execution_count": null,
   "metadata": {
    "colab": {
     "base_uri": "https://localhost:8080/"
    },
    "id": "O7kuZ2svjKvG",
    "outputId": "c81135d0-1f91-4452-fb8f-b63a9d6f5f93"
   },
   "outputs": [
    {
     "name": "stdout",
     "output_type": "stream",
     "text": [
      "['ценой я доволен', 'i m happy with the price']\n",
      "(tensor([[   0],\n",
      "        [5779],\n",
      "        [  10],\n",
      "        [ 213],\n",
      "        [   1],\n",
      "        [   1],\n",
      "        [   1],\n",
      "        [   1],\n",
      "        [   1],\n",
      "        [   1]]), tensor([[   0],\n",
      "        [   2],\n",
      "        [   3],\n",
      "        [ 100],\n",
      "        [ 511],\n",
      "        [ 325],\n",
      "        [2606],\n",
      "        [   1],\n",
      "        [   1],\n",
      "        [   1]]))\n"
     ]
    }
   ],
   "source": [
    "def pad(x, length=None):\n",
    "    if length is None:\n",
    "        length = max([len(sentence) for sentence in x])\n",
    "    return pad_sequences(x, maxlen = length, padding = 'EOS')\n",
    "\n",
    "def indexesFromSentence(lang, sentence):\n",
    "    return [lang.word2index['SOS']] + [lang.word2index[word] for word in sentence.split(' ')]\n",
    "\n",
    "\n",
    "def tensorFromSentence(lang, sentence, max_len):\n",
    "    indexes = pad(indexesFromSentence(lang, sentence), max_len)\n",
    "    return torch.tensor(indexes, dtype=torch.long, device=device).view(-1,1)\n",
    "\n",
    "def pad(x, length):\n",
    "    if len(x) < length:\n",
    "      x += [EOS_token] * (length - len(x))\n",
    "    return x\n",
    "\n",
    "def tensorsFromPair(pair, max_len):\n",
    "    input_tensor = tensorFromSentence(input_lang, pair[0], max_len)\n",
    "    target_tensor = tensorFromSentence(output_lang, pair[1], max_len)\n",
    "    return (input_tensor, target_tensor)\n",
    "\n",
    "def test():\n",
    "  random_pair = random.choice(reduced_pairs)\n",
    "  print(random_pair)\n",
    "  print(tensorsFromPair(random_pair, MAX_LENGTH))\n",
    "\n",
    "test()"
   ]
  },
  {
   "cell_type": "markdown",
   "metadata": {
    "id": "yIVjw0e4w9-2"
   },
   "source": [
    "Для батчевого обучения сделаем классы Dataset и DataLoader. Каждый батч размерности - (количество батчей, длина предложения, индекс слова)."
   ]
  },
  {
   "cell_type": "code",
   "execution_count": null,
   "metadata": {
    "colab": {
     "base_uri": "https://localhost:8080/"
    },
    "id": "yDbtOLeVh8qz",
    "outputId": "a1e3572b-76b1-4022-8b5b-bb5b8183d609"
   },
   "outputs": [
    {
     "data": {
      "text/plain": [
       "(tensor([[[   0],\n",
       "          [ 289],\n",
       "          [ 293],\n",
       "          [ 149],\n",
       "          [   1],\n",
       "          [   1],\n",
       "          [   1],\n",
       "          [   1],\n",
       "          [   1],\n",
       "          [   1]],\n",
       " \n",
       "         [[   0],\n",
       "          [  43],\n",
       "          [ 277],\n",
       "          [1184],\n",
       "          [1091],\n",
       "          [6663],\n",
       "          [   1],\n",
       "          [   1],\n",
       "          [   1],\n",
       "          [   1]]]), tensor([[[   0],\n",
       "          [ 131],\n",
       "          [  68],\n",
       "          [  22],\n",
       "          [ 133],\n",
       "          [ 388],\n",
       "          [   1],\n",
       "          [   1],\n",
       "          [   1],\n",
       "          [   1]],\n",
       " \n",
       "         [[   0],\n",
       "          [  19],\n",
       "          [  20],\n",
       "          [ 128],\n",
       "          [ 105],\n",
       "          [1146],\n",
       "          [2526],\n",
       "          [   1],\n",
       "          [   1],\n",
       "          [   1]]]))"
      ]
     },
     "execution_count": 9,
     "metadata": {},
     "output_type": "execute_result"
    }
   ],
   "source": [
    "class MTDataset(Dataset):\n",
    "  def __init__(self, training_pairs, max_sent_len = 10):\n",
    "    self.training_pairs = training_pairs\n",
    "    self.max_sent_len = max_sent_len\n",
    "\n",
    "  def __len__(self):\n",
    "    return len(self.training_pairs)\n",
    "\n",
    "  def __getitem__(self, idx):\n",
    "    pair = self.training_pairs[idx]\n",
    "    tensor_pair = tensorsFromPair(pair, MAX_LENGTH)\n",
    "    return tensor_pair\n",
    "\n",
    "\n",
    "def test__MTDataset():\n",
    "  BATCH_SIZE = 2\n",
    "  mt_dataset = MTDataset(reduced_pairs)\n",
    "  mt_dataloder = DataLoader(mt_dataset, batch_size=BATCH_SIZE, drop_last=True)\n",
    "\n",
    "  for batch in mt_dataloder:\n",
    "    x = batch\n",
    "  return x[0], x[1]\n",
    "\n",
    "test__MTDataset()"
   ]
  },
  {
   "cell_type": "code",
   "execution_count": null,
   "metadata": {
    "id": "kU8Szk2sybTA"
   },
   "outputs": [],
   "source": []
  },
  {
   "cell_type": "markdown",
   "metadata": {
    "id": "ii59jn1dybt-"
   },
   "source": [
    "### Моделирование\n",
    "\n",
    "\n",
    "Определим классы энкодера, декодера и процесса обучения. Протестируем каждый метод. "
   ]
  },
  {
   "cell_type": "code",
   "execution_count": null,
   "metadata": {
    "id": "jDu4GQK_9fQS"
   },
   "outputs": [],
   "source": [
    "class EncoderRNN(nn.Module):\n",
    "    def __init__(self, input_size, hidden_size):\n",
    "        super(EncoderRNN, self).__init__()\n",
    "        self.hidden_size = hidden_size\n",
    "\n",
    "        self.embedding = nn.Embedding(input_size, hidden_size)\n",
    "        self.gru = nn.GRU(hidden_size, hidden_size)\n",
    "\n",
    "    def forward(self, input, hidden, batch_size):\n",
    "        #вход в pytorch в RNN моделях - (длина элемента на вход на текущем шаге, размер батча, размер скрытого слоя) - поэтому сделаем reshape\n",
    "        # https://pytorch.org/docs/stable/generated/torch.nn.GRU.html\n",
    "        embedded = self.embedding(input).reshape(1, batch_size,  self.hidden_size)\n",
    "        output = embedded\n",
    "        output, hidden = self.gru(output, hidden)\n",
    "        return output, hidden\n",
    "\n",
    "    def initHidden(self, batch_size):\n",
    "        return torch.zeros(1, batch_size, self.hidden_size, device=device)\n",
    "\n",
    "\n",
    "def test_encoder():\n",
    "  BATCH_SIZE = 2\n",
    "\n",
    "  mt_dataset = MTDataset(reduced_pairs)\n",
    "  mt_dataloder = DataLoader(mt_dataset, batch_size=BATCH_SIZE, drop_last=True)\n",
    "\n",
    "  TEST_BATCH = list(mt_dataloder)[0]\n",
    "  MAX_LENGTH = 10\n",
    "  HIDDEN_SIZE = 15\n",
    "  encoder = EncoderRNN(input_lang.n_words, HIDDEN_SIZE).to(device)\n",
    "  # для каждого элемента батча - свой hidden state\n",
    "  encoder_hidden = encoder.initHidden(BATCH_SIZE)\n",
    "  input_tensor, target_tensor = TEST_BATCH[0], TEST_BATCH[1]\n",
    "  input_length = input_tensor.shape[1]\n",
    "  for ei in range(input_length):\n",
    "    encoder_output, encoder_hidden = encoder(input_tensor[:, ei, :], encoder_hidden, BATCH_SIZE)\n",
    "\n",
    "\n",
    "  assert encoder_output.shape == torch.Size([1, BATCH_SIZE, 15])\n",
    "\n",
    "test_encoder()"
   ]
  },
  {
   "cell_type": "markdown",
   "metadata": {
    "id": "_a80X8eWy8m5"
   },
   "source": [
    "Аналогично с декордером. "
   ]
  },
  {
   "cell_type": "code",
   "execution_count": null,
   "metadata": {
    "colab": {
     "base_uri": "https://localhost:8080/"
    },
    "id": "LUblgXrruLn7",
    "outputId": "ec1f8db4-2a8b-43a3-bd12-54e7e3ea3af6"
   },
   "outputs": [
    {
     "name": "stdout",
     "output_type": "stream",
     "text": [
      "[[0.9999999 1.0000006]]\n",
      "tensor([[[2489],\n",
      "         [1306]]])\n"
     ]
    }
   ],
   "source": [
    "class DecoderRNN(nn.Module):\n",
    "    def __init__(self, hidden_size, output_size):\n",
    "        super(DecoderRNN, self).__init__()\n",
    "        self.hidden_size = hidden_size\n",
    "        self.embedding = nn.Embedding(output_size, hidden_size)\n",
    "        self.gru = nn.GRU(hidden_size, hidden_size)\n",
    "        self.out = nn.Linear(hidden_size, output_size)\n",
    "        self.softmax = nn.LogSoftmax(dim=2)\n",
    "\n",
    "    def forward(self, input, hidden, batch_size):\n",
    "        output = self.embedding(input).reshape(1, batch_size,  self.hidden_size)\n",
    "        output, hidden = self.gru(output, hidden)\n",
    "        linear_proj = self.out(output)\n",
    "        output = self.softmax(linear_proj)\n",
    "        return output, hidden\n",
    "\n",
    "\n",
    "def test_decoder():\n",
    "  BATCH_SIZE = 2\n",
    "\n",
    "  mt_dataset = MTDataset(reduced_pairs)\n",
    "  mt_dataloder = DataLoader(mt_dataset, batch_size=BATCH_SIZE, drop_last=True)\n",
    "\n",
    "  TEST_BATCH = list(mt_dataloder)[0]\n",
    "  MAX_LENGTH = 10\n",
    "  HIDDEN_SIZE = 15\n",
    "  decoder = DecoderRNN(HIDDEN_SIZE, output_lang.n_words).to(device)\n",
    "\n",
    "  input_tensor, target_tensor = TEST_BATCH[0], TEST_BATCH[1]\n",
    "  decoder_input = torch.tensor([[SOS_token] * BATCH_SIZE],dtype=torch.long, device=device).view(1, BATCH_SIZE, 1)\n",
    "  decoder_hidden = torch.rand(1, BATCH_SIZE, HIDDEN_SIZE).to(device)#encoder_hidden\n",
    "\n",
    "  target_length = target_tensor.shape[1]\n",
    "  for di in range(target_length):\n",
    "    decoder_output, decoder_hidden = decoder(decoder_input, decoder_hidden, BATCH_SIZE)\n",
    "    topv, topi = decoder_output.topk(1)\n",
    "    decoder_input = topi.reshape(1, BATCH_SIZE, 1)\n",
    "  #проверим что в результате у нас выход из декодера - (размер батча, распределние по vocab) - должен получится массив размера количетсво примеров в батче из 1. \n",
    "  print((np.exp(1) ** decoder_output.detach().cpu().numpy()).sum(2))\n",
    "  print(decoder_input)\n",
    "\n",
    "test_decoder()"
   ]
  },
  {
   "cell_type": "code",
   "execution_count": null,
   "metadata": {
    "colab": {
     "base_uri": "https://localhost:8080/"
    },
    "id": "cPAsFwsuEQJ3",
    "outputId": "8ae78d3e-e6b5-47b0-ed07-b602eb79e3de"
   },
   "outputs": [
    {
     "data": {
      "text/plain": [
       "43.15223693847656"
      ]
     },
     "execution_count": 12,
     "metadata": {},
     "output_type": "execute_result"
    }
   ],
   "source": [
    "def train_on_batch(input_tensor, target_tensor, encoder, decoder, \n",
    "                    encoder_optimizer, decoder_optimizer, criterion, \n",
    "                    batch_size, max_length=MAX_LENGTH):\n",
    "    encoder_hidden = encoder.initHidden(batch_size)\n",
    "\n",
    "    encoder_optimizer.zero_grad()\n",
    "    decoder_optimizer.zero_grad()\n",
    "\n",
    "    HIDDEN_SIZE = 15\n",
    "\n",
    "    input_length = input_tensor.shape[1]\n",
    "    for ei in range(input_length):\n",
    "      encoder_output, encoder_hidden = encoder(input_tensor[:, ei, :], encoder_hidden, batch_size)\n",
    "    \n",
    "    decoder_input = torch.tensor([[SOS_token] * batch_size],dtype=torch.long, device=device).view(1, batch_size, 1)\n",
    "    decoder_hidden = encoder_hidden\n",
    "\n",
    "    target_length = target_tensor.shape[1]\n",
    "    loss = 0\n",
    "    for di in range(target_length):\n",
    "      decoder_output, decoder_hidden = decoder(decoder_input, decoder_hidden, batch_size)\n",
    "      topv, topi = decoder_output.topk(1)\n",
    "      decoder_input = topi.reshape(1, batch_size, 1)\n",
    "      #на вход функции ошибки - распределение выхода, верные индексы на данном этапе. \n",
    "      loss += criterion(decoder_output.squeeze(), target_tensor[:, di, :].squeeze())\n",
    "\n",
    "    loss = loss / batch_size\n",
    "    loss.backward()\n",
    "\n",
    "    encoder_optimizer.step()\n",
    "    decoder_optimizer.step()\n",
    "\n",
    "    return loss.item()\n",
    "\n",
    "def test__train_on_batch():\n",
    "  BATCH_SIZE = 2\n",
    "\n",
    "  mt_dataset = MTDataset(reduced_pairs)\n",
    "  mt_dataloder = DataLoader(mt_dataset, batch_size=BATCH_SIZE, drop_last=True)\n",
    "\n",
    "  TEST_BATCH = list(mt_dataloder)[0]\n",
    "\n",
    "  HIDDEN_SIZE = 15\n",
    "  LEARNING_RATE = 1e-3\n",
    "  encoder = EncoderRNN(input_lang.n_words, HIDDEN_SIZE).to(device)\n",
    "  decoder = DecoderRNN(HIDDEN_SIZE, output_lang.n_words).to(device)\n",
    "\n",
    "  encoder_optimizer = optim.Adam(encoder.parameters(), lr=LEARNING_RATE)\n",
    "  decoder_optimizer = optim.Adam(decoder.parameters(), lr=LEARNING_RATE)\n",
    "\n",
    "  input_tensor, target_tensor = TEST_BATCH[0].view(BATCH_SIZE, MAX_LENGTH, 1), TEST_BATCH[1].view(BATCH_SIZE, MAX_LENGTH, 1)\n",
    "\n",
    "  criterion = nn.NLLLoss()\n",
    "\n",
    "  loss = train_on_batch(input_tensor, target_tensor, encoder, decoder, \n",
    "                        encoder_optimizer, decoder_optimizer, criterion, \n",
    "                        BATCH_SIZE)\n",
    "  return loss\n",
    "\n",
    "test__train_on_batch()"
   ]
  },
  {
   "cell_type": "code",
   "execution_count": null,
   "metadata": {
    "colab": {
     "base_uri": "https://localhost:8080/"
    },
    "id": "HJFu4WGSFNfE",
    "outputId": "bb02bdbb-fbfe-48bb-bc79-b2e6bc3462a3"
   },
   "outputs": [
    {
     "data": {
      "text/plain": [
       "['mood',\n",
       " 'broom',\n",
       " 'clear',\n",
       " 'clear',\n",
       " 'defenseless',\n",
       " 'cocaine',\n",
       " 'defenseless',\n",
       " 'defenseless',\n",
       " 'defenseless',\n",
       " 'defenseless']"
      ]
     },
     "execution_count": 13,
     "metadata": {},
     "output_type": "execute_result"
    }
   ],
   "source": [
    "def evaluate_sample(encoder, decoder, sentence):\n",
    "    with torch.no_grad():\n",
    "        input_tensor = tensorFromSentence(input_lang, sentence, MAX_LENGTH).view(1, MAX_LENGTH, 1)\n",
    "        input_length = input_tensor.size()[1]\n",
    "        encoder_hidden = encoder.initHidden(1)\n",
    "\n",
    "        for ei in range(input_length):\n",
    "          encoder_output, encoder_hidden = encoder(input_tensor[:, ei, :],\n",
    "                                                     encoder_hidden, 1)\n",
    "\n",
    "        decoder_input = torch.tensor([[SOS_token] * 1],dtype=torch.long, device=device).view(1, 1, 1)\n",
    "        decoder_hidden = encoder_hidden\n",
    "        decoded_words = []\n",
    "\n",
    "        for di in range(MAX_LENGTH):\n",
    "          decoder_output, decoder_hidden = decoder(decoder_input, decoder_hidden, 1)\n",
    "          topv, topi = decoder_output.data.topk(1)\n",
    "          decoder_input = topi.reshape(1, 1, 1)\n",
    "          decoded_words.append(output_lang.index2word[topi.item()])\n",
    "    return decoded_words\n",
    "\n",
    "\n",
    "def test__evaluate_sample():\n",
    "  HIDDEN_SIZE = 15\n",
    "  encoder = EncoderRNN(input_lang.n_words, HIDDEN_SIZE).to(device)\n",
    "  decoder = DecoderRNN(HIDDEN_SIZE, output_lang.n_words).to(device)\n",
    "\n",
    "  sentence = 'я иду домой'\n",
    "  pred = evaluate_sample(encoder, decoder, sentence)\n",
    "  return pred\n",
    "\n",
    "test__evaluate_sample()"
   ]
  },
  {
   "cell_type": "code",
   "execution_count": null,
   "metadata": {
    "id": "BA-P45--lxFZ"
   },
   "outputs": [],
   "source": []
  },
  {
   "cell_type": "code",
   "execution_count": null,
   "metadata": {
    "colab": {
     "base_uri": "https://localhost:8080/"
    },
    "id": "VsV4Yiu1lxW0",
    "outputId": "11ab86f7-2fe9-4eac-a370-aa42bd2a1cdc"
   },
   "outputs": [
    {
     "name": "stdout",
     "output_type": "stream",
     "text": [
      "Example BLEU score:  0.8408964276313782\n",
      "Example BLEU score:  1.0\n"
     ]
    }
   ],
   "source": [
    "from torchtext.data.metrics import bleu_score\n",
    "# from tqdm import tqdm_notebook\n",
    "\n",
    "\n",
    "candidate_corpus_v1 = [['My', 'full', 'pytorch', 'test'], ['Another', 'Sentence']]\n",
    "references_corpus_v1 = [[['My', 'full', 'pytorch', 'test'], ['test','text']], [['No', 'Match']]]\n",
    "\n",
    "candidate_corpus_v2 = [['My', 'full', 'pytorch', 'test']]\n",
    "references_corpus_v2 = [[['My', 'full', 'pytorch', 'test']]]\n",
    "\n",
    "print('Example BLEU score: ', bleu_score(candidate_corpus_v1, references_corpus_v1))\n",
    "print('Example BLEU score: ', bleu_score(candidate_corpus_v2, references_corpus_v2))"
   ]
  },
  {
   "cell_type": "code",
   "execution_count": null,
   "metadata": {
    "id": "eU4eZyTXp0GG"
   },
   "outputs": [],
   "source": [
    "def sentenceFromTesor(batch):\n",
    "    batch_size = batch[0].shape[0]\n",
    "    input_batch = batch[0].cpu().numpy().reshape(batch_size, MAX_LENGTH)\n",
    "    target_batch = batch[1].cpu().numpy().reshape(batch_size, MAX_LENGTH)\n",
    "    print(input_batch)\n",
    "    input_list = []\n",
    "    for idx_list in input_batch:\n",
    "      sent = [input_lang.index2word[idx] for idx in idx_list]\n",
    "      sent = list(filter(lambda x: x != 'SOS' and x != 'EOS', sent))\n",
    "      input_list.append(sent)\n",
    "\n",
    "    target_list = []\n",
    "    for idx_list in target_batch:\n",
    "      sent = [output_lang.index2word[idx] for idx in idx_list]\n",
    "      sent = list(filter(lambda x: x != 'SOS' and x != 'EOS', sent))\n",
    "      target_list.append(sent)\n",
    "    return input_list, target_list\n",
    "\n",
    "def test__sentenceFromTesor():\n",
    "  BATCH_SIZE = 2\n",
    "\n",
    "  mt_dataset = MTDataset(reduced_pairs)\n",
    "  mt_dataloder = DataLoader(mt_dataset, batch_size=BATCH_SIZE, drop_last=True)\n",
    "\n",
    "  TEST_BATCH = list(mt_dataloder)[0]\n",
    "  print(sentenceFromTesor(TEST_BATCH))"
   ]
  },
  {
   "cell_type": "markdown",
   "metadata": {
    "id": "aHNlSJZZl1LY"
   },
   "source": [
    "### Evaluate on batch sample"
   ]
  },
  {
   "cell_type": "markdown",
   "metadata": {
    "id": "aSDRgMIiz6Fq"
   },
   "source": [
    "Для проверки работы нашей модели обучимся на 1 батче до полного совпадения по BLEU и ошибки равной нулю."
   ]
  },
  {
   "cell_type": "code",
   "execution_count": null,
   "metadata": {
    "colab": {
     "base_uri": "https://localhost:8080/",
     "height": 1000
    },
    "id": "_ey_VJ6tl4NH",
    "outputId": "06cb1ee8-751e-4c8c-d4e3-8ad06a3823c2"
   },
   "outputs": [
    {
     "data": {
      "image/png": "[encoded data removed]",
      "text/plain": [
       "<Figure size 1296x576 with 2 Axes>"
      ]
     },
     "metadata": {
      "needs_background": "light"
     },
     "output_type": "display_data"
    },
    {
     "name": "stdout",
     "output_type": "stream",
     "text": [
      "< мы неудачники\n",
      "= we re losers\n",
      "= we re losers\n",
      "\n",
      "< мы не собираемся сдаваться\n",
      "= we re not going to give up\n",
      "= we re not going to give up\n",
      "\n",
      "< ты наблюдательная\n",
      "= you re observant\n",
      "= you re observant\n",
      "\n",
      "< я на это рассчитываю\n",
      "= i m counting on it\n",
      "= i m counting on it\n",
      "\n",
      "< я уверен что том не умеет плавать\n",
      "= i m sure tom can t swim\n",
      "= i m sure tom can t swim\n",
      "\n",
      "< мне понадобится еще немного времени\n",
      "= i m going to need some more time\n",
      "= i m going to need some more time\n",
      "\n",
      "< мы празднуем юбилей\n",
      "= we re celebrating our anniversary\n",
      "= we re celebrating our anniversary\n",
      "\n",
      "< я уверен что кто нибудь это сделает\n",
      "= i m sure someone will do it\n",
      "= i m sure someone will do it\n",
      "\n"
     ]
    }
   ],
   "source": [
    "EPOCH_NUM = 300\n",
    "LEARNING_RATE = 1e-3\n",
    "SHOW_EVERY = 5\n",
    "BATCH_SIZE = 8\n",
    "\n",
    "mt_dataset = MTDataset(reduced_pairs)\n",
    "mt_dataloder = DataLoader(mt_dataset, batch_size=BATCH_SIZE, drop_last=True)\n",
    "\n",
    "TEST_BATCH = list(mt_dataloder)[0]\n",
    "\n",
    "debug_f = open('debug_progress_log.txt', 'w')\n",
    "\n",
    "input_tensor, target_tensor = TEST_BATCH[0].view(BATCH_SIZE, MAX_LENGTH, 1), TEST_BATCH[1].view(BATCH_SIZE, MAX_LENGTH, 1)\n",
    "input_sentences, target_sentences = sentenceFromTesor(TEST_BATCH)\n",
    "\n",
    "ewma = lambda x, span: pd.DataFrame({'x': x})['x'].ewm(span=span).mean().values\n",
    "\n",
    "hidden_size = 256\n",
    "encoder = EncoderRNN(input_lang.n_words, hidden_size).to(device)\n",
    "decoder = DecoderRNN(hidden_size, output_lang.n_words).to(device)\n",
    "\n",
    "encoder_optimizer = optim.Adam(encoder.parameters(), lr=LEARNING_RATE)\n",
    "decoder_optimizer = optim.Adam(decoder.parameters(), lr=LEARNING_RATE)\n",
    "\n",
    "criterion = nn.NLLLoss()\n",
    "loss_array = []\n",
    "bleu_array = []\n",
    "\n",
    "for epoch in range(EPOCH_NUM):\n",
    "  loss = train_on_batch(input_tensor, target_tensor, encoder, decoder, \n",
    "                        encoder_optimizer, decoder_optimizer, criterion,\n",
    "                        batch_size=BATCH_SIZE)\n",
    "\n",
    "  if epoch % SHOW_EVERY == 0:\n",
    "    loss_array.append(loss)\n",
    "    translated_list = []\n",
    "\n",
    "    for sentence in input_sentences:\n",
    "      input_sent = \" \".join(sentence)\n",
    "      translated_sentence = evaluate_sample(encoder, decoder, input_sent)\n",
    "      translated_sentence = list(filter(lambda x: x!= 'EOS' and x != 'SOS', translated_sentence))\n",
    "      translated_list.append(translated_sentence)\n",
    "  \n",
    "    with open('debug_progress_log.txt', 'a') as f:\n",
    "      debug_f.write(f'Epoch = {epoch}, current loss = {loss_array[-1]}\\n')\n",
    "      debug_f.write(f'>{\" \".join(input_sentences[-1])}\\n')\n",
    "      debug_f.write(f'={\" \".join(target_sentences[-1])}\\n')\n",
    "      debug_f.write(f'<{\" \".join(translated_list[-1])}\\n')\n",
    "      debug_f.write('####################\\n')\n",
    "\n",
    "    ref_sentences = [[ref] for ref in target_sentences]\n",
    "    score = bleu_score(translated_list, ref_sentences)\n",
    "    bleu_array.append(score)\n",
    "\n",
    "    clear_output(True)\n",
    "    plt.figure(figsize=[18, 8])\n",
    "    plt.subplot(1, 2, 1), plt.title('train loss'), plt.grid()\n",
    "    plt.scatter(np.arange(len(loss_array)), loss_array, alpha=0.12)\n",
    "    plt.plot(ewma(loss_array, span=10))\n",
    "\n",
    "    plt.subplot(1, 2, 2), plt.title('bleu score'), plt.grid()\n",
    "    plt.scatter(np.arange(len(bleu_array)), bleu_array, alpha=0.12)\n",
    "    plt.plot(ewma(bleu_array, span=10))\n",
    "    plt.show()\n",
    "\n",
    "\n",
    "for true, target, translated in zip(input_sentences, target_sentences, translated_list):\n",
    "  print('<', \" \".join(true))\n",
    "  print('=', \" \".join(target))\n",
    "  print('=', \" \".join(translated))\n",
    "  print()"
   ]
  },
  {
   "cell_type": "markdown",
   "metadata": {
    "id": "8Mja2Q2xmKGK"
   },
   "source": [
    "### Train on full set\n",
    "\n",
    "Теперь обучимся на полном сете. "
   ]
  },
  {
   "cell_type": "code",
   "execution_count": null,
   "metadata": {
    "colab": {
     "base_uri": "https://localhost:8080/",
     "height": 889
    },
    "id": "pJW7HCGFxDDf",
    "outputId": "0657cf20-d10d-465b-997e-dc97a5183adc"
   },
   "outputs": [
    {
     "data": {
      "image/png": "[encoded data removed]",
      "text/plain": [
       "<Figure size 1296x576 with 2 Axes>"
      ]
     },
     "metadata": {
      "needs_background": "light"
     },
     "output_type": "display_data"
    },
    {
     "name": "stdout",
     "output_type": "stream",
     "text": [
      " 30/214 [===>..........................] - ETA: 1:33"
     ]
    },
    {
     "ename": "KeyboardInterrupt",
     "evalue": "ignored",
     "output_type": "error",
     "traceback": [
      "\u001b[0;31m---------------------------------------------------------------------------\u001b[0m",
      "\u001b[0;31mKeyboardInterrupt\u001b[0m                         Traceback (most recent call last)",
      "\u001b[0;32m<ipython-input-17-b60f4cadb192>\u001b[0m in \u001b[0;36m<module>\u001b[0;34m()\u001b[0m\n\u001b[1;32m     31\u001b[0m     loss = train_on_batch(input_tensor, target_tensor, encoder, decoder, \n\u001b[1;32m     32\u001b[0m                           \u001b[0mencoder_optimizer\u001b[0m\u001b[0;34m,\u001b[0m \u001b[0mdecoder_optimizer\u001b[0m\u001b[0;34m,\u001b[0m \u001b[0mcriterion\u001b[0m\u001b[0;34m,\u001b[0m\u001b[0;34m\u001b[0m\u001b[0;34m\u001b[0m\u001b[0m\n\u001b[0;32m---> 33\u001b[0;31m                           batch_size=BATCH_SIZE)\n\u001b[0m\u001b[1;32m     34\u001b[0m     \u001b[0mepoch_loss\u001b[0m \u001b[0;34m+=\u001b[0m \u001b[0mloss\u001b[0m\u001b[0;34m\u001b[0m\u001b[0;34m\u001b[0m\u001b[0m\n\u001b[1;32m     35\u001b[0m     \u001b[0mbar\u001b[0m\u001b[0;34m.\u001b[0m\u001b[0madd\u001b[0m\u001b[0;34m(\u001b[0m\u001b[0;36m1\u001b[0m\u001b[0;34m)\u001b[0m\u001b[0;34m\u001b[0m\u001b[0;34m\u001b[0m\u001b[0m\n",
      "\u001b[0;32m<ipython-input-12-03150f40c3e0>\u001b[0m in \u001b[0;36mtrain_on_batch\u001b[0;34m(input_tensor, target_tensor, encoder, decoder, encoder_optimizer, decoder_optimizer, criterion, batch_size, max_length)\u001b[0m\n\u001b[1;32m     26\u001b[0m \u001b[0;34m\u001b[0m\u001b[0m\n\u001b[1;32m     27\u001b[0m     \u001b[0mloss\u001b[0m \u001b[0;34m=\u001b[0m \u001b[0mloss\u001b[0m \u001b[0;34m/\u001b[0m \u001b[0mbatch_size\u001b[0m\u001b[0;34m\u001b[0m\u001b[0;34m\u001b[0m\u001b[0m\n\u001b[0;32m---> 28\u001b[0;31m     \u001b[0mloss\u001b[0m\u001b[0;34m.\u001b[0m\u001b[0mbackward\u001b[0m\u001b[0;34m(\u001b[0m\u001b[0;34m)\u001b[0m\u001b[0;34m\u001b[0m\u001b[0;34m\u001b[0m\u001b[0m\n\u001b[0m\u001b[1;32m     29\u001b[0m \u001b[0;34m\u001b[0m\u001b[0m\n\u001b[1;32m     30\u001b[0m     \u001b[0mencoder_optimizer\u001b[0m\u001b[0;34m.\u001b[0m\u001b[0mstep\u001b[0m\u001b[0;34m(\u001b[0m\u001b[0;34m)\u001b[0m\u001b[0;34m\u001b[0m\u001b[0;34m\u001b[0m\u001b[0m\n",
      "\u001b[0;32m/usr/local/lib/python3.7/dist-packages/torch/_tensor.py\u001b[0m in \u001b[0;36mbackward\u001b[0;34m(self, gradient, retain_graph, create_graph, inputs)\u001b[0m\n\u001b[1;32m    305\u001b[0m                 \u001b[0mcreate_graph\u001b[0m\u001b[0;34m=\u001b[0m\u001b[0mcreate_graph\u001b[0m\u001b[0;34m,\u001b[0m\u001b[0;34m\u001b[0m\u001b[0;34m\u001b[0m\u001b[0m\n\u001b[1;32m    306\u001b[0m                 inputs=inputs)\n\u001b[0;32m--> 307\u001b[0;31m         \u001b[0mtorch\u001b[0m\u001b[0;34m.\u001b[0m\u001b[0mautograd\u001b[0m\u001b[0;34m.\u001b[0m\u001b[0mbackward\u001b[0m\u001b[0;34m(\u001b[0m\u001b[0mself\u001b[0m\u001b[0;34m,\u001b[0m \u001b[0mgradient\u001b[0m\u001b[0;34m,\u001b[0m \u001b[0mretain_graph\u001b[0m\u001b[0;34m,\u001b[0m \u001b[0mcreate_graph\u001b[0m\u001b[0;34m,\u001b[0m \u001b[0minputs\u001b[0m\u001b[0;34m=\u001b[0m\u001b[0minputs\u001b[0m\u001b[0;34m)\u001b[0m\u001b[0;34m\u001b[0m\u001b[0;34m\u001b[0m\u001b[0m\n\u001b[0m\u001b[1;32m    308\u001b[0m \u001b[0;34m\u001b[0m\u001b[0m\n\u001b[1;32m    309\u001b[0m     \u001b[0;32mdef\u001b[0m \u001b[0mregister_hook\u001b[0m\u001b[0;34m(\u001b[0m\u001b[0mself\u001b[0m\u001b[0;34m,\u001b[0m \u001b[0mhook\u001b[0m\u001b[0;34m)\u001b[0m\u001b[0;34m:\u001b[0m\u001b[0;34m\u001b[0m\u001b[0;34m\u001b[0m\u001b[0m\n",
      "\u001b[0;32m/usr/local/lib/python3.7/dist-packages/torch/autograd/__init__.py\u001b[0m in \u001b[0;36mbackward\u001b[0;34m(tensors, grad_tensors, retain_graph, create_graph, grad_variables, inputs)\u001b[0m\n\u001b[1;32m    154\u001b[0m     Variable._execution_engine.run_backward(\n\u001b[1;32m    155\u001b[0m         \u001b[0mtensors\u001b[0m\u001b[0;34m,\u001b[0m \u001b[0mgrad_tensors_\u001b[0m\u001b[0;34m,\u001b[0m \u001b[0mretain_graph\u001b[0m\u001b[0;34m,\u001b[0m \u001b[0mcreate_graph\u001b[0m\u001b[0;34m,\u001b[0m \u001b[0minputs\u001b[0m\u001b[0;34m,\u001b[0m\u001b[0;34m\u001b[0m\u001b[0;34m\u001b[0m\u001b[0m\n\u001b[0;32m--> 156\u001b[0;31m         allow_unreachable=True, accumulate_grad=True)  # allow_unreachable flag\n\u001b[0m\u001b[1;32m    157\u001b[0m \u001b[0;34m\u001b[0m\u001b[0m\n\u001b[1;32m    158\u001b[0m \u001b[0;34m\u001b[0m\u001b[0m\n",
      "\u001b[0;31mKeyboardInterrupt\u001b[0m: "
     ]
    }
   ],
   "source": [
    "EPOCH_NUM = 50\n",
    "LEARNING_RATE = 1e-3\n",
    "SHOW_EVERY = 1\n",
    "BATCH_SIZE = 128\n",
    "\n",
    "\n",
    "f = open('progress_log.txt', 'w')\n",
    "\n",
    "mt_dataset = MTDataset(reduced_pairs)\n",
    "mt_dataloder = DataLoader(mt_dataset, batch_size=BATCH_SIZE, drop_last=True)\n",
    "\n",
    "ewma = lambda x, span: pd.DataFrame({'x': x})['x'].ewm(span=span).mean().values\n",
    "\n",
    "hidden_size = 256\n",
    "encoder = EncoderRNN(input_lang.n_words, hidden_size).to(device)\n",
    "decoder = DecoderRNN(hidden_size, output_lang.n_words).to(device)\n",
    "\n",
    "\n",
    "encoder_optimizer = optim.Adam(encoder.parameters(), lr=LEARNING_RATE)\n",
    "decoder_optimizer = optim.Adam(decoder.parameters(), lr=LEARNING_RATE)\n",
    "\n",
    "criterion = nn.NLLLoss()\n",
    "loss_array = []\n",
    "bleu_array = []\n",
    "\n",
    "for epoch in range(EPOCH_NUM):\n",
    "  bar = Progbar(len(mt_dataloder))\n",
    "  epoch_loss = 0\n",
    "  for batch_id, batch in enumerate(mt_dataloder):\n",
    "    input_tensor, target_tensor = batch[0].view(BATCH_SIZE, MAX_LENGTH, 1), batch[1].view(BATCH_SIZE, MAX_LENGTH, 1)\n",
    "    loss = train_on_batch(input_tensor, target_tensor, encoder, decoder, \n",
    "                          encoder_optimizer, decoder_optimizer, criterion, \n",
    "                          batch_size=BATCH_SIZE)\n",
    "    epoch_loss += loss\n",
    "    bar.add(1)\n",
    "  \n",
    "  if epoch % SHOW_EVERY == 0:\n",
    "    input_sentences, target_sentences = sentenceFromTesor(batch)\n",
    "    loss_array.append(epoch_loss / len(mt_dataloder))\n",
    "    translated_list = []\n",
    "\n",
    "    for sentence in input_sentences:\n",
    "      input_sent = \" \".join(sentence)\n",
    "      translated_sentence = evaluate_sample(encoder, decoder, input_sent)\n",
    "      translated_sentence = list(filter(lambda x: x!= 'EOS' and x != 'SOS', translated_sentence))\n",
    "      translated_list.append(translated_sentence)\n",
    "  \n",
    "    with open('debug_progress_log.txt', 'a') as f:\n",
    "      debug_f.write(f'Epoch = {epoch}, current loss = {loss_array[-1]}\\n')\n",
    "      debug_f.write(f'>{\" \".join(input_sentences[-1])}\\n')\n",
    "      debug_f.write(f'={\" \".join(target_sentences[-1])}\\n')\n",
    "      debug_f.write(f'<{\" \".join(translated_list[-1])}\\n')\n",
    "      debug_f.write('####################\\n')\n",
    "\n",
    "    ref_sentences = [[ref] for ref in target_sentences]\n",
    "    score = bleu_score(translated_list, ref_sentences)\n",
    "    bleu_array.append(score)\n",
    "\n",
    "    clear_output(True)\n",
    "    plt.figure(figsize=[18, 8])\n",
    "    plt.subplot(1, 2, 1), plt.title('train loss'), plt.grid()\n",
    "    plt.scatter(np.arange(len(loss_array)), loss_array, alpha=0.12)\n",
    "    plt.plot(ewma(loss_array, span=10))\n",
    "\n",
    "    plt.subplot(1, 2, 2), plt.title('bleu score'), plt.grid()\n",
    "    plt.scatter(np.arange(len(bleu_array)), bleu_array, alpha=0.12)\n",
    "    plt.plot(ewma(bleu_array, span=10))\n",
    "    plt.show()"
   ]
  },
  {
   "cell_type": "code",
   "execution_count": null,
   "metadata": {
    "colab": {
     "base_uri": "https://localhost:8080/"
    },
    "id": "Hhylyb-xuvlv",
    "outputId": "49ad2906-e678-44d8-939a-02f38658fe6c"
   },
   "outputs": [
    {
     "name": "stdout",
     "output_type": "stream",
     "text": [
      "> ты докапываешься до мелочей\n",
      "= you re splitting hairs\n",
      "< you re splitting hairs\n",
      "\n",
      "> я не уверена что ты готова\n",
      "= i m not sure you re ready\n",
      "< i m not sure that you ready\n",
      "\n",
      "> я в курсе что ты уже закончил\n",
      "= i m aware you ve already finished\n",
      "< i m aware you ve already finished\n",
      "\n",
      "> я нисколько не удивлён\n",
      "= i m not the least surprised\n",
      "< i m not the only one\n",
      "\n",
      "> они все равны\n",
      "= they re all equal\n",
      "< they re all equal\n",
      "\n",
      "> он мой бывший ученик\n",
      "= he s a former student of mine\n",
      "< he is a former student of student\n",
      "\n",
      "> я не пытаюсь заставить тебя чувствовать себя виноватым\n",
      "= i m not trying to make you feel guilty\n",
      "< i m not trying to help you feel\n",
      "\n",
      "> я тощая\n",
      "= i m skinny\n",
      "< i m rich\n",
      "\n",
      "> вы замечательный человек\n",
      "= you re a wonderful human being\n",
      "< you re a wonderful man\n",
      "\n",
      "> мне знакома эта ситуация\n",
      "= i m familiar with the situation\n",
      "< i m interested in the subject\n",
      "\n"
     ]
    }
   ],
   "source": [
    "def evaluateRandomly(pairs, encoder, decoder, n = 10):\n",
    "    for i in range(n):\n",
    "        pair = random.choice(pairs)\n",
    "        print('>', pair[0])\n",
    "        print('=', pair[1])\n",
    "        output_sentence = evaluate_sample(encoder, decoder, pair[0])\n",
    "        output_sentence = list(filter(lambda x: x!= 'EOS' and x != 'SOS', output_sentence))\n",
    "        print('<', \" \".join(output_sentence))\n",
    "        print('')\n",
    "\n",
    "evaluateRandomly(reduced_pairs, encoder, decoder)"
   ]
  },
  {
   "cell_type": "code",
   "execution_count": null,
   "metadata": {
    "colab": {
     "base_uri": "https://localhost:8080/",
     "height": 35
    },
    "id": "laIChpQkONEj",
    "outputId": "73fdea1f-faed-454e-f107-c34f966f633c"
   },
   "outputs": [
    {
     "data": {
      "application/vnd.google.colaboratory.intrinsic+json": {
       "type": "string"
      },
      "text/plain": [
       "'i m not very hungry'"
      ]
     },
     "execution_count": 19,
     "metadata": {},
     "output_type": "execute_result"
    }
   ],
   "source": [
    "def translate(sentence):\n",
    "  output_sentence = evaluate_sample(encoder, decoder, sentence)\n",
    "  output_sentence = list(filter(lambda x: x!= 'EOS' and x != 'SOS', output_sentence))\n",
    "  return \" \".join(output_sentence)\n",
    "\n",
    "translate('я не очень голоден')"
   ]
  }
 ],
 "metadata": {
  "colab": {
   "collapsed_sections": [],
   "name": "Seq2Seq_Tutorial.ipynb",
   "provenance": []
  },
  "kernelspec": {
   "display_name": "Python 3 (ipykernel)",
   "language": "python",
   "name": "python3"
  },
  "language_info": {
   "codemirror_mode": {
    "name": "ipython",
    "version": 3
   },
   "file_extension": ".py",
   "mimetype": "text/x-python",
   "name": "python",
   "nbconvert_exporter": "python",
   "pygments_lexer": "ipython3",
   "version": "3.9.7"
  }
 },
 "nbformat": 4,
 "nbformat_minor": 4
}
