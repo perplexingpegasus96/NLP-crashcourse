{
 "cells": [
  {
   "cell_type": "code",
   "execution_count": null,
   "metadata": {
    "colab": {
     "base_uri": "https://localhost:8080/"
    },
    "executionInfo": {
     "elapsed": 34360,
     "status": "ok",
     "timestamp": 1635700750488,
     "user": {
      "displayName": "Олег Дмитриевич Сомов",
      "photoUrl": "https://lh3.googleusercontent.com/a/default-user=s64",
      "userId": "03877505905935419968"
     },
     "user_tz": -180
    },
    "id": "jIVzMC4PIZCX",
    "outputId": "8e63bd99-c306-4a52-d34f-6129918fa9ef"
   },
   "outputs": [
    {
     "name": "stdout",
     "output_type": "stream",
     "text": [
      "Collecting transformers\n",
      "  Downloading transformers-4.12.2-py3-none-any.whl (3.1 MB)\n",
      "\u001b[K     |████████████████████████████████| 3.1 MB 8.6 MB/s \n",
      "\u001b[?25hRequirement already satisfied: packaging>=20.0 in /usr/local/lib/python3.7/dist-packages (from transformers) (21.0)\n",
      "Collecting huggingface-hub>=0.0.17\n",
      "  Downloading huggingface_hub-0.0.19-py3-none-any.whl (56 kB)\n",
      "\u001b[K     |████████████████████████████████| 56 kB 5.8 MB/s \n",
      "\u001b[?25hRequirement already satisfied: regex!=2019.12.17 in /usr/local/lib/python3.7/dist-packages (from transformers) (2019.12.20)\n",
      "Collecting sacremoses\n",
      "  Downloading sacremoses-0.0.46-py3-none-any.whl (895 kB)\n",
      "\u001b[K     |████████████████████████████████| 895 kB 72.9 MB/s \n",
      "\u001b[?25hRequirement already satisfied: tqdm>=4.27 in /usr/local/lib/python3.7/dist-packages (from transformers) (4.62.3)\n",
      "Requirement already satisfied: filelock in /usr/local/lib/python3.7/dist-packages (from transformers) (3.3.0)\n",
      "Collecting pyyaml>=5.1\n",
      "  Downloading PyYAML-6.0-cp37-cp37m-manylinux_2_5_x86_64.manylinux1_x86_64.manylinux_2_12_x86_64.manylinux2010_x86_64.whl (596 kB)\n",
      "\u001b[K     |████████████████████████████████| 596 kB 79.1 MB/s \n",
      "\u001b[?25hRequirement already satisfied: requests in /usr/local/lib/python3.7/dist-packages (from transformers) (2.23.0)\n",
      "Requirement already satisfied: importlib-metadata in /usr/local/lib/python3.7/dist-packages (from transformers) (4.8.1)\n",
      "Requirement already satisfied: numpy>=1.17 in /usr/local/lib/python3.7/dist-packages (from transformers) (1.19.5)\n",
      "Collecting tokenizers<0.11,>=0.10.1\n",
      "  Downloading tokenizers-0.10.3-cp37-cp37m-manylinux_2_5_x86_64.manylinux1_x86_64.manylinux_2_12_x86_64.manylinux2010_x86_64.whl (3.3 MB)\n",
      "\u001b[K     |████████████████████████████████| 3.3 MB 69.4 MB/s \n",
      "\u001b[?25hRequirement already satisfied: typing-extensions in /usr/local/lib/python3.7/dist-packages (from huggingface-hub>=0.0.17->transformers) (3.7.4.3)\n",
      "Requirement already satisfied: pyparsing>=2.0.2 in /usr/local/lib/python3.7/dist-packages (from packaging>=20.0->transformers) (2.4.7)\n",
      "Requirement already satisfied: zipp>=0.5 in /usr/local/lib/python3.7/dist-packages (from importlib-metadata->transformers) (3.6.0)\n",
      "Requirement already satisfied: chardet<4,>=3.0.2 in /usr/local/lib/python3.7/dist-packages (from requests->transformers) (3.0.4)\n",
      "Requirement already satisfied: urllib3!=1.25.0,!=1.25.1,<1.26,>=1.21.1 in /usr/local/lib/python3.7/dist-packages (from requests->transformers) (1.24.3)\n",
      "Requirement already satisfied: idna<3,>=2.5 in /usr/local/lib/python3.7/dist-packages (from requests->transformers) (2.10)\n",
      "Requirement already satisfied: certifi>=2017.4.17 in /usr/local/lib/python3.7/dist-packages (from requests->transformers) (2021.5.30)\n",
      "Requirement already satisfied: joblib in /usr/local/lib/python3.7/dist-packages (from sacremoses->transformers) (1.0.1)\n",
      "Requirement already satisfied: six in /usr/local/lib/python3.7/dist-packages (from sacremoses->transformers) (1.15.0)\n",
      "Requirement already satisfied: click in /usr/local/lib/python3.7/dist-packages (from sacremoses->transformers) (7.1.2)\n",
      "Installing collected packages: pyyaml, tokenizers, sacremoses, huggingface-hub, transformers\n",
      "  Attempting uninstall: pyyaml\n",
      "    Found existing installation: PyYAML 3.13\n",
      "    Uninstalling PyYAML-3.13:\n",
      "      Successfully uninstalled PyYAML-3.13\n",
      "Successfully installed huggingface-hub-0.0.19 pyyaml-6.0 sacremoses-0.0.46 tokenizers-0.10.3 transformers-4.12.2\n",
      "Collecting sentencepiece\n",
      "  Downloading sentencepiece-0.1.96-cp37-cp37m-manylinux_2_17_x86_64.manylinux2014_x86_64.whl (1.2 MB)\n",
      "\u001b[K     |████████████████████████████████| 1.2 MB 8.5 MB/s \n",
      "\u001b[?25hInstalling collected packages: sentencepiece\n",
      "Successfully installed sentencepiece-0.1.96\n",
      "Requirement already satisfied: huggingface_hub in /usr/local/lib/python3.7/dist-packages (0.0.19)\n",
      "Requirement already satisfied: importlib-metadata in /usr/local/lib/python3.7/dist-packages (from huggingface_hub) (4.8.1)\n",
      "Requirement already satisfied: requests in /usr/local/lib/python3.7/dist-packages (from huggingface_hub) (2.23.0)\n",
      "Requirement already satisfied: filelock in /usr/local/lib/python3.7/dist-packages (from huggingface_hub) (3.3.0)\n",
      "Requirement already satisfied: packaging>=20.9 in /usr/local/lib/python3.7/dist-packages (from huggingface_hub) (21.0)\n",
      "Requirement already satisfied: pyyaml in /usr/local/lib/python3.7/dist-packages (from huggingface_hub) (6.0)\n",
      "Requirement already satisfied: tqdm in /usr/local/lib/python3.7/dist-packages (from huggingface_hub) (4.62.3)\n",
      "Requirement already satisfied: typing-extensions in /usr/local/lib/python3.7/dist-packages (from huggingface_hub) (3.7.4.3)\n",
      "Requirement already satisfied: pyparsing>=2.0.2 in /usr/local/lib/python3.7/dist-packages (from packaging>=20.9->huggingface_hub) (2.4.7)\n",
      "Requirement already satisfied: zipp>=0.5 in /usr/local/lib/python3.7/dist-packages (from importlib-metadata->huggingface_hub) (3.6.0)\n",
      "Requirement already satisfied: urllib3!=1.25.0,!=1.25.1,<1.26,>=1.21.1 in /usr/local/lib/python3.7/dist-packages (from requests->huggingface_hub) (1.24.3)\n",
      "Requirement already satisfied: chardet<4,>=3.0.2 in /usr/local/lib/python3.7/dist-packages (from requests->huggingface_hub) (3.0.4)\n",
      "Requirement already satisfied: certifi>=2017.4.17 in /usr/local/lib/python3.7/dist-packages (from requests->huggingface_hub) (2021.5.30)\n",
      "Requirement already satisfied: idna<3,>=2.5 in /usr/local/lib/python3.7/dist-packages (from requests->huggingface_hub) (2.10)\n",
      "Reading package lists... Done\n",
      "Building dependency tree       \n",
      "Reading state information... Done\n",
      "The following package was automatically installed and is no longer required:\n",
      "  libnvidia-common-460\n",
      "Use 'apt autoremove' to remove it.\n",
      "The following additional packages will be installed:\n",
      "  libomp5\n",
      "Suggested packages:\n",
      "  libomp-doc\n",
      "The following NEW packages will be installed:\n",
      "  libomp-dev libomp5\n",
      "0 upgraded, 2 newly installed, 0 to remove and 37 not upgraded.\n",
      "Need to get 239 kB of archives.\n",
      "After this operation, 804 kB of additional disk space will be used.\n",
      "Get:1 http://archive.ubuntu.com/ubuntu bionic/universe amd64 libomp5 amd64 5.0.1-1 [234 kB]\n",
      "Get:2 http://archive.ubuntu.com/ubuntu bionic/universe amd64 libomp-dev amd64 5.0.1-1 [5,088 B]\n",
      "Fetched 239 kB in 1s (210 kB/s)\n",
      "Selecting previously unselected package libomp5:amd64.\n",
      "(Reading database ... 155062 files and directories currently installed.)\n",
      "Preparing to unpack .../libomp5_5.0.1-1_amd64.deb ...\n",
      "Unpacking libomp5:amd64 (5.0.1-1) ...\n",
      "Selecting previously unselected package libomp-dev.\n",
      "Preparing to unpack .../libomp-dev_5.0.1-1_amd64.deb ...\n",
      "Unpacking libomp-dev (5.0.1-1) ...\n",
      "Setting up libomp5:amd64 (5.0.1-1) ...\n",
      "Setting up libomp-dev (5.0.1-1) ...\n",
      "Processing triggers for libc-bin (2.27-3ubuntu1.3) ...\n",
      "/sbin/ldconfig.real: /usr/local/lib/python3.7/dist-packages/ideep4py/lib/libmkldnn.so.0 is not a symbolic link\n",
      "\n",
      "Collecting faiss-gpu\n",
      "  Downloading faiss_gpu-1.7.1.post2-cp37-cp37m-manylinux_2_17_x86_64.manylinux2014_x86_64.whl (89.7 MB)\n",
      "\u001b[K     |████████████████████████████████| 89.7 MB 8.3 kB/s \n",
      "\u001b[?25hInstalling collected packages: faiss-gpu\n",
      "Successfully installed faiss-gpu-1.7.1.post2\n"
     ]
    }
   ],
   "source": [
    "!pip install transformers\n",
    "!pip install sentencepiece\n",
    "!pip install huggingface_hub\n",
    "!apt install libomp-dev\n",
    "!pip install faiss-gpu"
   ]
  },
  {
   "cell_type": "markdown",
   "metadata": {
    "id": "GAuErIsvtMwD"
   },
   "source": [
    "In this work I will implement triplet loss approach for intent classification. Intent classification problem is very common in dialogue systems, because there can be a great amount of intet classes, each carrying its own system responce behaviour. \n",
    "\n",
    "Metric learning seems like a legit approach to this problem, because there can be numerous number of intent classes with imbalanced number of samples and we want to build such system, where we can fastly retrain our model with new samples. Also we would not want to overfit our model to a certain set of samples, instead we want to learn a metric which would be able to distinguish between different classes.\n",
    "\n",
    "\n",
    "We can do it by learning a non linear function $F$ which will take an input vector $x \\in R^m$, transform it in a new vector $x^* \\in R^n$, where usually $n < m$. This function will transform vectors from $R^m$ in $R^n$ space in a such way that classes from one class will lie near each other and different classes will lie far away from each other. After this transformation we can use simple metric algorithms such as KNN in order to do classification.\n",
    "\n",
    "We will be using triplet loss function with random sampling in order to learn desired fucntion capability.\n",
    "\n",
    "This work is inspired by a Facebook paper - https://arxiv.org/abs/1503.03832\n"
   ]
  },
  {
   "cell_type": "markdown",
   "metadata": {
    "id": "q70wPOIRyRse"
   },
   "source": [
    "*As our base embeddings we will be using Hugging Face BERT-bert embeddings. The training will be conducted on GPU*"
   ]
  },
  {
   "cell_type": "code",
   "execution_count": null,
   "metadata": {
    "colab": {
     "base_uri": "https://localhost:8080/",
     "height": 248,
     "referenced_widgets": [
      "cd172012c711408db79339a74d1851f3",
      "3d6d2d8a2bec4da1bae75ce0801a829e",
      "61b4dd9044f743a5969a17ba315e9a28",
      "7ab75aef8b384023935cf93ac18a60ec",
      "bc79606c61e34a099d569b7842707a4b",
      "40a196cc153c4e52a6068a0e7024edf1",
      "57a8a75e5c7d47959c46d7ef4fd435a1",
      "0be9156cb916492fa37e90cab8fda852",
      "b6af28417912422fb016550afee6c5ef",
      "dba3938cf0794a1294c3d23c86449894",
      "54bdb4fabf8540c7b0f81c60717f0d1a",
      "704c6cb34d514038b21a70604e5005d7",
      "676c67e7bfdf49b3b7390a352484689e",
      "f9f68531e63e48c681a8d4d2f2c506de",
      "dc14e995157e4d549e43332c4e403493",
      "1715cc323d0348e8aab521fd7ed72c3c",
      "016377aaf08b4c6986b50d70b026051a",
      "feafc7ffdf884027bf96d004d1673236",
      "f3762151d4a04e938b9fa98887517c71",
      "ae25691dd31e49e09761286f9f50fac1",
      "7cd1e0cf10074c669140dec626e2b6d2",
      "86696c48f72c4b9e85ba11e120a82568",
      "f4387a29dd97449680952a51e1c39f94",
      "700dd20f826e489d99dce9af5cb54f8a",
      "048e47b7a4a044d8bd4bb37d687995f2",
      "1f72de080c384701b1f8e824194dd384",
      "4a81874fb5004a3fb21c1ef31510261b",
      "27fd7e4cf1ce4d44ab1421659d7adf7b",
      "dfa8aee408ce4dda957bf4c8495b4600",
      "5c8a1fc0566d43628ddd045880c4df89",
      "2b289d380f2e437982559cbbc36b8616",
      "0607ca95d67c468d8683e91d389ba2f1",
      "05ae7684176549708fcdba7c9aa53259",
      "c7c7f37994e1412a8402cfb249307849",
      "63a42da7ece94743ac9ea9a960e0b189",
      "11a596128c5a41a488635b8a5c361869",
      "3629cdcbe61f42c982332af84f651915",
      "8081cd7e87304f819d3a61bfdfc25fce",
      "2e9edd92e3ee49c680cde0ba32693a1e",
      "257087da6faf40a7bc73edaf0e7a4b76",
      "0c54f487a224483a931a9e962fe65068",
      "9eef4a5ac89d41128845510341e47a76",
      "a7b31795a3ee4c12bde02fc21c652ecf",
      "06e04620d8a64cd188260d5b048d7243",
      "3e283c698b364cb7844c7e9e400606b5",
      "d23958f71a4145be8c6ef5ff49935a88",
      "d2aee5f5aedb4ded840651505dcbb0a3",
      "8dfc9d65cc484e3aa9ea5d0333e4364c",
      "295eccd2a7664fcea35d4556ba0956fb",
      "5a4f0b1b7d1e4678b4898a6c8156ee81",
      "c34b88a714024649b3c8ae10360c01be",
      "531295e390c340bfbc2696665bf9bb03",
      "1910fd776d884d32bb5b3e5accecdc1e",
      "1b325a57b5e34e85af26253c311f3111",
      "ad0056e83a824742b2a68a84cde0fb20"
     ]
    },
    "executionInfo": {
     "elapsed": 40767,
     "status": "ok",
     "timestamp": 1635700791247,
     "user": {
      "displayName": "Олег Дмитриевич Сомов",
      "photoUrl": "https://lh3.googleusercontent.com/a/default-user=s64",
      "userId": "03877505905935419968"
     },
     "user_tz": -180
    },
    "id": "UBK_kmp4JVHZ",
    "outputId": "3bab8446-8598-4f38-83c0-f94f292bea25"
   },
   "outputs": [
    {
     "data": {
      "application/vnd.jupyter.widget-view+json": {
       "model_id": "cd172012c711408db79339a74d1851f3",
       "version_major": 2,
       "version_minor": 0
      },
      "text/plain": [
       "Downloading:   0%|          | 0.00/226k [00:00<?, ?B/s]"
      ]
     },
     "metadata": {},
     "output_type": "display_data"
    },
    {
     "data": {
      "application/vnd.jupyter.widget-view+json": {
       "model_id": "704c6cb34d514038b21a70604e5005d7",
       "version_major": 2,
       "version_minor": 0
      },
      "text/plain": [
       "Downloading:   0%|          | 0.00/28.0 [00:00<?, ?B/s]"
      ]
     },
     "metadata": {},
     "output_type": "display_data"
    },
    {
     "data": {
      "application/vnd.jupyter.widget-view+json": {
       "model_id": "f4387a29dd97449680952a51e1c39f94",
       "version_major": 2,
       "version_minor": 0
      },
      "text/plain": [
       "Downloading:   0%|          | 0.00/455k [00:00<?, ?B/s]"
      ]
     },
     "metadata": {},
     "output_type": "display_data"
    },
    {
     "data": {
      "application/vnd.jupyter.widget-view+json": {
       "model_id": "c7c7f37994e1412a8402cfb249307849",
       "version_major": 2,
       "version_minor": 0
      },
      "text/plain": [
       "Downloading:   0%|          | 0.00/570 [00:00<?, ?B/s]"
      ]
     },
     "metadata": {},
     "output_type": "display_data"
    },
    {
     "data": {
      "application/vnd.jupyter.widget-view+json": {
       "model_id": "3e283c698b364cb7844c7e9e400606b5",
       "version_major": 2,
       "version_minor": 0
      },
      "text/plain": [
       "Downloading:   0%|          | 0.00/420M [00:00<?, ?B/s]"
      ]
     },
     "metadata": {},
     "output_type": "display_data"
    },
    {
     "name": "stderr",
     "output_type": "stream",
     "text": [
      "Some weights of the model checkpoint at bert-base-uncased were not used when initializing BertModel: ['cls.seq_relationship.weight', 'cls.predictions.decoder.weight', 'cls.predictions.bias', 'cls.predictions.transform.dense.bias', 'cls.predictions.transform.LayerNorm.weight', 'cls.predictions.transform.dense.weight', 'cls.predictions.transform.LayerNorm.bias', 'cls.seq_relationship.bias']\n",
      "- This IS expected if you are initializing BertModel from the checkpoint of a model trained on another task or with another architecture (e.g. initializing a BertForSequenceClassification model from a BertForPreTraining model).\n",
      "- This IS NOT expected if you are initializing BertModel from the checkpoint of a model that you expect to be exactly identical (initializing a BertForSequenceClassification model from a BertForSequenceClassification model).\n"
     ]
    }
   ],
   "source": [
    "import numpy as np\n",
    "import pandas as pd\n",
    "from sklearn.model_selection import train_test_split\n",
    "from sklearn.model_selection import cross_val_score\n",
    "from sklearn.metrics import classification_report\n",
    "import torch\n",
    "import torch.nn as nn\n",
    "from copy import deepcopy\n",
    "from torch import optim\n",
    "from torch.autograd import Variable\n",
    "from IPython.display import clear_output\n",
    "from tensorflow.keras.utils import Progbar\n",
    "from sklearn.neighbors import KNeighborsClassifier\n",
    "import transformers\n",
    "import warnings\n",
    "import faiss\n",
    "import itertools\n",
    "import json\n",
    "import random\n",
    "from sklearn.metrics import pairwise\n",
    "import matplotlib.pyplot as plt\n",
    "from tqdm import tqdm\n",
    "from sklearn.metrics import classification_report\n",
    "from transformers import BertModel, BertTokenizer\n",
    "from torch.utils.data import Dataset as TorchDataset\n",
    "from torch.utils.data import DataLoader\n",
    "from sklearn import preprocessing\n",
    "\n",
    "torch.manual_seed(42)\n",
    "np.random.seed(42)\n",
    "\n",
    "\n",
    "warnings.filterwarnings('ignore')\n",
    "\n",
    "if torch.cuda.is_available():  \n",
    "  dev = \"cuda:0\" \n",
    "else:  \n",
    "  dev = \"cpu\"  \n",
    "\n",
    "TOKENIZER = BertTokenizer.from_pretrained(\"bert-base-uncased\")\n",
    "DEVICE = torch.device(dev)  \n",
    "FROZEN_BERT = BertModel.from_pretrained('bert-base-uncased').to(DEVICE)\n",
    "%matplotlib inline"
   ]
  },
  {
   "cell_type": "markdown",
   "metadata": {
    "id": "YGdsmPfEydtA"
   },
   "source": [
    "The training, validation and test set I wiil be using OOS classification dataset. It contains 3 types of dataset - full, imbalanced and small datasets. Since I want to mimic the intent classification problem which occures a lot in dialogue systems - class imbalance, so I will be using imbalaced OOS dataset.\n",
    "The paper for dataset - https://www.aclweb.org/anthology/D19-1131.pdf"
   ]
  },
  {
   "cell_type": "code",
   "execution_count": null,
   "metadata": {
    "colab": {
     "base_uri": "https://localhost:8080/"
    },
    "executionInfo": {
     "elapsed": 867,
     "status": "ok",
     "timestamp": 1635700792100,
     "user": {
      "displayName": "Олег Дмитриевич Сомов",
      "photoUrl": "https://lh3.googleusercontent.com/a/default-user=s64",
      "userId": "03877505905935419968"
     },
     "user_tz": -180
    },
    "id": "wmcmLKOSFZlK",
    "outputId": "76cd8c44-2825-4223-8405-ce919407b635"
   },
   "outputs": [
    {
     "name": "stdout",
     "output_type": "stream",
     "text": [
      "Cloning into 'oos-eval'...\n",
      "remote: Enumerating objects: 69, done.\u001b[K\n",
      "remote: Counting objects: 100% (19/19), done.\u001b[K\n",
      "remote: Compressing objects: 100% (3/3), done.\u001b[K\n",
      "remote: Total 69 (delta 16), reused 16 (delta 16), pack-reused 50\u001b[K\n",
      "Unpacking objects: 100% (69/69), done.\n"
     ]
    }
   ],
   "source": [
    "!git clone https://github.com/clinc/oos-eval.git"
   ]
  },
  {
   "cell_type": "code",
   "execution_count": null,
   "metadata": {
    "colab": {
     "base_uri": "https://localhost:8080/",
     "height": 221
    },
    "executionInfo": {
     "elapsed": 599,
     "status": "ok",
     "timestamp": 1635700792697,
     "user": {
      "displayName": "Олег Дмитриевич Сомов",
      "photoUrl": "https://lh3.googleusercontent.com/a/default-user=s64",
      "userId": "03877505905935419968"
     },
     "user_tz": -180
    },
    "id": "VymwCVw5UR2V",
    "outputId": "24959f2d-19af-4042-95b4-1409428c26eb"
   },
   "outputs": [
    {
     "name": "stdout",
     "output_type": "stream",
     "text": [
      "Total size:  (23700, 2)\n"
     ]
    },
    {
     "data": {
      "text/html": [
       "<div>\n",
       "<style scoped>\n",
       "    .dataframe tbody tr th:only-of-type {\n",
       "        vertical-align: middle;\n",
       "    }\n",
       "\n",
       "    .dataframe tbody tr th {\n",
       "        vertical-align: top;\n",
       "    }\n",
       "\n",
       "    .dataframe thead th {\n",
       "        text-align: right;\n",
       "    }\n",
       "</style>\n",
       "<table border=\"1\" class=\"dataframe\">\n",
       "  <thead>\n",
       "    <tr style=\"text-align: right;\">\n",
       "      <th></th>\n",
       "      <th>intents</th>\n",
       "      <th>targets</th>\n",
       "    </tr>\n",
       "  </thead>\n",
       "  <tbody>\n",
       "    <tr>\n",
       "      <th>0</th>\n",
       "      <td>set a warning for when my bank account starts ...</td>\n",
       "      <td>oos</td>\n",
       "    </tr>\n",
       "    <tr>\n",
       "      <th>1</th>\n",
       "      <td>a show on broadway</td>\n",
       "      <td>oos</td>\n",
       "    </tr>\n",
       "    <tr>\n",
       "      <th>2</th>\n",
       "      <td>who has the best record in the nfl</td>\n",
       "      <td>oos</td>\n",
       "    </tr>\n",
       "    <tr>\n",
       "      <th>3</th>\n",
       "      <td>how do i find the area of a circle</td>\n",
       "      <td>oos</td>\n",
       "    </tr>\n",
       "    <tr>\n",
       "      <th>4</th>\n",
       "      <td>how many onions do i have on hand</td>\n",
       "      <td>oos</td>\n",
       "    </tr>\n",
       "  </tbody>\n",
       "</table>\n",
       "</div>"
      ],
      "text/plain": [
       "                                             intents targets\n",
       "0  set a warning for when my bank account starts ...     oos\n",
       "1                                 a show on broadway     oos\n",
       "2                 who has the best record in the nfl     oos\n",
       "3                 how do i find the area of a circle     oos\n",
       "4                  how many onions do i have on hand     oos"
      ]
     },
     "execution_count": 4,
     "metadata": {},
     "output_type": "execute_result"
    }
   ],
   "source": [
    "def to_df(input_array):\n",
    "  numpy_array = np.array(input_array)\n",
    "  intents = numpy_array[:, 0]\n",
    "  targets = numpy_array[:, 1]\n",
    "  df = pd.DataFrame()\n",
    "  df['intents'] = intents\n",
    "  df['targets'] = targets\n",
    "  return df\n",
    "\n",
    "data_full = json.load(open('/content/oos-eval/data/data_full.json', 'r'))\n",
    "\n",
    "dataset_list = []\n",
    "for key in data_full:\n",
    "  df = to_df(data_full[key])\n",
    "  dataset_list.append(df)\n",
    "\n",
    "total_df = pd.concat(dataset_list, axis=0, sort=False).reset_index(drop=True)\n",
    "print('Total size: ', total_df.shape)\n",
    "total_df.head()"
   ]
  },
  {
   "cell_type": "markdown",
   "metadata": {
    "id": "q_uGdtFoPE_9"
   },
   "source": [
    "We will split files in following fashion - 60% classes to train, 20% to dev, 20% to test."
   ]
  },
  {
   "cell_type": "code",
   "execution_count": null,
   "metadata": {
    "colab": {
     "base_uri": "https://localhost:8080/"
    },
    "executionInfo": {
     "elapsed": 5,
     "status": "ok",
     "timestamp": 1635700793930,
     "user": {
      "displayName": "Олег Дмитриевич Сомов",
      "photoUrl": "https://lh3.googleusercontent.com/a/default-user=s64",
      "userId": "03877505905935419968"
     },
     "user_tz": -180
    },
    "id": "pVjvj6KnOtbq",
    "outputId": "88c08256-ded9-465e-adb8-826b141417e2"
   },
   "outputs": [
    {
     "name": "stdout",
     "output_type": "stream",
     "text": [
      "Train shape: (13500, 2), classes: 90\n",
      "Val shape: (4500, 2), classes: 30\n",
      "Seen test shape: (3420, 2), classes: 31\n",
      "Unseen test shape: (2280, 2), classes: 31\n"
     ]
    }
   ],
   "source": [
    "classes_list = list(set(total_df.targets.tolist()))\n",
    "random.shuffle(classes_list)\n",
    "\n",
    "TRAIN_SPLIT = 0.6\n",
    "train_classes, eval_classes = classes_list[:int(len(classes_list)*TRAIN_SPLIT)], classes_list[int(len(classes_list)*TRAIN_SPLIT):]\n",
    "TEST_SPLIT = 0.5\n",
    "val_classes, test_classes = eval_classes[:int(len(eval_classes)*TEST_SPLIT)], eval_classes[int(len(eval_classes)*TEST_SPLIT):]\n",
    "\n",
    "train_df = total_df[total_df.targets.isin(train_classes)]\n",
    "val_df = total_df[total_df.targets.isin(val_classes)]\n",
    "test_df = total_df[total_df.targets.isin(test_classes)]\n",
    "X_test_seen, X_test_unseen, y_test_seen, y_test_unseen = train_test_split(test_df['intents'].to_list(), test_df['targets'].to_list(), \n",
    "                                                                          test_size=0.4, random_state=42)\n",
    "seen_test_df = pd.DataFrame({'intents': X_test_seen,\n",
    "                             'targets': y_test_seen})\n",
    "unseen_test_df = pd.DataFrame({'intents': X_test_unseen,\n",
    "                             'targets': y_test_unseen})\n",
    "\n",
    "#classes from train & val does not intersect\n",
    "assert len(set(train_df.targets.tolist()).intersection(val_df.targets.tolist())) == 0\n",
    "#classes from train & test does not intersect\n",
    "assert len(set(train_df.targets.tolist()).intersection(test_df.targets.tolist())) == 0\n",
    "#classes from val & test does not intersect\n",
    "assert len(set(val_df.targets.tolist()).intersection(test_df.targets.tolist())) == 0\n",
    "#classes from seen test & unseen test intersect fully\n",
    "assert len(set(seen_test_df.targets.tolist()).intersection(unseen_test_df.targets.tolist())) == len(test_classes)\n",
    "\n",
    "print(f'Train shape: {train_df.shape}, classes: {len(train_df.targets.value_counts())}')\n",
    "print(f'Val shape: {val_df.shape}, classes: {len(val_df.targets.value_counts())}')\n",
    "print(f'Seen test shape: {seen_test_df.shape}, classes: {len(seen_test_df.targets.value_counts())}')\n",
    "print(f'Unseen test shape: {unseen_test_df.shape}, classes: {len(unseen_test_df.targets.value_counts())}')"
   ]
  },
  {
   "cell_type": "markdown",
   "metadata": {
    "id": "geIwR9_W0khF"
   },
   "source": [
    "Here I will prepare data for input into BERT-base model. We will tokenize, pad it and mask padded symbols in order not to confuse BERT."
   ]
  },
  {
   "cell_type": "code",
   "execution_count": null,
   "metadata": {
    "colab": {
     "base_uri": "https://localhost:8080/"
    },
    "collapsed": true,
    "executionInfo": {
     "elapsed": 593,
     "status": "ok",
     "timestamp": 1635700794520,
     "user": {
      "displayName": "Олег Дмитриевич Сомов",
      "photoUrl": "https://lh3.googleusercontent.com/a/default-user=s64",
      "userId": "03877505905935419968"
     },
     "user_tz": -180
    },
    "id": "X9mK2dQtZOkB",
    "jupyter": {
     "outputs_hidden": true
    },
    "outputId": "1e8293b5-d654-46a8-9bd0-f182e1e12fb6",
    "tags": []
   },
   "outputs": [
    {
     "data": {
      "text/plain": [
       "tensor([[-7.9588e-01, -2.4578e-01, -8.3082e-01,  6.7608e-01,  5.5406e-01,\n",
       "         -5.7891e-02,  7.3652e-01,  1.6235e-01, -4.4965e-01, -9.9988e-01,\n",
       "         -2.7525e-01,  8.6535e-01,  9.7135e-01,  4.4013e-01,  9.0157e-01,\n",
       "         -5.3342e-01, -3.1664e-01, -4.1415e-01,  3.1627e-01, -1.2740e-01,\n",
       "          4.9049e-01,  9.9991e-01,  1.6662e-01,  9.6635e-02,  3.7986e-01,\n",
       "          9.7159e-01, -7.6144e-01,  9.0673e-01,  9.4718e-01,  5.5351e-01,\n",
       "         -4.7194e-01, -3.4664e-02, -9.8909e-01, -1.1515e-01, -9.4033e-01,\n",
       "         -9.8549e-01,  1.8738e-01, -6.7372e-01,  5.4439e-03,  2.2855e-01,\n",
       "         -8.8937e-01,  1.0872e-01,  9.9984e-01,  9.9845e-02,  3.5894e-01,\n",
       "         -1.4926e-01, -9.9999e-01,  1.3791e-01, -8.0076e-01,  7.4017e-01,\n",
       "          7.9485e-01,  6.7085e-01,  2.9789e-02,  3.7836e-01,  2.8681e-01,\n",
       "         -1.0542e-01, -1.7777e-01,  7.7549e-02, -1.1649e-01, -4.7824e-01,\n",
       "         -4.7618e-01,  2.6904e-01, -8.4538e-01, -8.8193e-01,  8.0556e-01,\n",
       "          7.1235e-01, -1.4072e-01, -1.5387e-01,  8.5462e-03, -3.8517e-01,\n",
       "          6.6700e-01,  9.8384e-02,  2.8472e-01, -8.4023e-01,  3.1239e-01,\n",
       "          1.2921e-01, -5.4914e-01,  1.0000e+00, -4.5875e-01, -9.6844e-01,\n",
       "          8.2694e-01,  4.2182e-01,  4.6561e-01, -1.0402e-01,  2.8960e-01,\n",
       "         -1.0000e+00,  5.1559e-01, -5.1243e-02, -9.8621e-01,  1.5618e-01,\n",
       "          5.5098e-01, -8.6604e-02,  1.9214e-01,  4.2364e-01, -3.9685e-01,\n",
       "         -3.2821e-01, -1.5138e-01, -8.4898e-01, -2.0727e-01, -2.9396e-01,\n",
       "         -7.7185e-02, -1.2407e-01, -2.5699e-01, -2.2102e-01,  1.7891e-01,\n",
       "         -2.7562e-01, -2.3544e-01,  6.2316e-02, -3.1480e-01,  6.1760e-01,\n",
       "          3.1978e-01, -2.1613e-01,  3.6261e-01, -9.4711e-01,  4.2876e-01,\n",
       "         -5.9719e-02, -9.8045e-01, -4.7445e-01, -9.8779e-01,  6.1445e-01,\n",
       "         -2.5435e-01, -3.1415e-01,  8.9624e-01,  1.1739e-01,  1.3270e-01,\n",
       "         -6.6598e-02, -6.2557e-01, -1.0000e+00, -6.3145e-01, -6.2687e-01,\n",
       "         -4.9473e-02, -1.4691e-01, -9.6979e-01, -9.5029e-01,  4.8419e-01,\n",
       "          8.9329e-01, -6.1540e-02,  9.9934e-01, -2.3188e-01,  9.2340e-01,\n",
       "         -2.1148e-01, -6.0864e-01,  5.2170e-01, -1.5389e-01,  7.3822e-01,\n",
       "         -8.2209e-02, -3.9579e-01, -3.2722e-02,  6.0793e-02,  4.4139e-01,\n",
       "         -4.2205e-01, -1.6680e-01, -6.2369e-01, -8.9635e-01, -2.9633e-01,\n",
       "          9.3276e-01, -4.7140e-01, -7.9582e-01,  1.5762e-01, -8.5583e-02,\n",
       "         -4.5904e-01,  8.2210e-01,  5.8453e-01,  1.9266e-01, -2.2425e-01,\n",
       "          3.0725e-01, -1.9133e-01,  4.6930e-01, -6.9808e-01,  5.7637e-02,\n",
       "          2.8849e-01, -1.5034e-01, -7.2085e-01, -9.7179e-01, -2.7724e-01,\n",
       "          4.6743e-01,  9.8750e-01,  5.4221e-01,  1.5526e-01,  5.5817e-01,\n",
       "         -2.9279e-02,  6.8080e-01, -9.5808e-01,  9.7475e-01, -2.2123e-01,\n",
       "          1.8833e-01, -2.5229e-01,  4.0153e-01, -8.1986e-01,  1.4228e-01,\n",
       "          6.3627e-01, -4.7170e-01, -7.8213e-01, -5.4292e-03, -4.6236e-01,\n",
       "         -1.7542e-01, -7.1266e-01,  3.9397e-01, -1.8109e-01, -1.3816e-01,\n",
       "          5.5397e-02,  8.5713e-01,  9.1321e-01,  6.8645e-01,  1.6802e-01,\n",
       "          6.7622e-01, -8.4466e-01, -3.2151e-01, -5.8273e-02,  1.2362e-01,\n",
       "          2.3070e-01,  9.9091e-01, -7.8230e-01, -1.0195e-01, -9.2548e-01,\n",
       "         -9.8132e-01, -1.1016e-01, -8.3552e-01, -9.2093e-02, -5.5020e-01,\n",
       "          5.0176e-01,  1.3278e-01,  7.6296e-02,  3.2308e-01, -9.2218e-01,\n",
       "         -6.0059e-01,  1.8172e-01, -1.7671e-01,  4.0713e-01, -6.8244e-02,\n",
       "          6.6176e-01,  9.1445e-01, -3.3668e-01,  3.0718e-01,  9.2551e-01,\n",
       "         -7.9402e-01, -7.6095e-01,  6.8912e-01, -7.6176e-02,  6.5034e-01,\n",
       "         -4.6541e-01,  9.6643e-01,  8.6713e-01,  7.7747e-01, -9.1731e-01,\n",
       "         -6.0259e-01, -5.0611e-01, -5.4453e-01, -9.1052e-02, -3.1410e-01,\n",
       "          7.4440e-01,  4.3838e-01,  2.7285e-01,  5.1116e-01, -5.3896e-01,\n",
       "          9.7121e-01, -6.6328e-01, -9.4847e-01, -7.1089e-01,  1.2769e-01,\n",
       "         -9.8651e-01,  8.4325e-01,  3.1543e-01,  3.5565e-01, -3.4483e-01,\n",
       "         -3.3977e-01, -9.4711e-01,  7.5662e-01, -4.2925e-02,  9.4512e-01,\n",
       "         -8.9052e-02, -8.6876e-01, -4.2455e-01, -9.2870e-01, -3.6590e-01,\n",
       "         -1.1879e-02, -4.1329e-02, -2.4627e-01, -9.1787e-01,  3.5137e-01,\n",
       "          3.4290e-01,  3.2399e-01, -6.2559e-01,  9.8662e-01,  1.0000e+00,\n",
       "          9.4354e-01,  8.6778e-01,  7.8946e-01, -9.9913e-01, -7.4415e-01,\n",
       "          9.9994e-01, -9.7902e-01, -1.0000e+00, -8.9024e-01, -5.3767e-01,\n",
       "          6.0725e-02, -1.0000e+00, -1.2918e-01,  1.5079e-01, -8.8475e-01,\n",
       "          4.5778e-01,  9.5505e-01,  9.4374e-01, -1.0000e+00,  6.7684e-01,\n",
       "          8.8640e-01, -5.6092e-01,  9.1891e-01, -3.1164e-01,  9.6561e-01,\n",
       "          5.5893e-01,  1.9241e-01, -7.2517e-02,  1.4467e-01, -8.5337e-01,\n",
       "         -7.4697e-01, -2.6750e-01, -6.3687e-01,  9.9286e-01,  2.7102e-03,\n",
       "         -6.6908e-01, -8.7668e-01,  5.7706e-02, -1.0832e-01, -9.4915e-02,\n",
       "         -9.6465e-01, -5.8874e-02,  5.8073e-01,  7.2862e-01, -4.8646e-02,\n",
       "          2.1158e-01, -4.1478e-01,  2.0883e-01, -6.9112e-02,  2.9186e-02,\n",
       "          5.3670e-01, -9.1422e-01, -2.1336e-01, -3.6388e-01, -2.0578e-01,\n",
       "         -4.1774e-01, -9.4849e-01,  9.4269e-01, -2.7715e-01,  8.0990e-01,\n",
       "          1.0000e+00,  5.3992e-01, -7.7997e-01,  4.9361e-01, -1.8175e-02,\n",
       "         -3.6883e-01,  1.0000e+00,  7.7528e-01, -9.7883e-01, -4.2190e-01,\n",
       "          5.3596e-01, -3.8169e-01, -4.8720e-01,  9.9801e-01, -1.2028e-01,\n",
       "         -3.8657e-01,  7.8497e-03,  9.7849e-01, -9.8708e-01,  9.8659e-01,\n",
       "         -7.3723e-01, -9.5154e-01,  9.4672e-01,  9.2050e-01, -7.2041e-01,\n",
       "         -6.1845e-01,  9.7136e-02, -5.0932e-01,  1.8990e-01, -8.4832e-01,\n",
       "          6.7068e-01,  2.1237e-01,  6.4654e-02,  7.9360e-01, -6.2906e-01,\n",
       "         -4.0686e-01,  7.7773e-03, -5.5198e-01, -1.3114e-01,  8.5249e-01,\n",
       "          5.4192e-01, -2.7193e-01, -1.2808e-01, -3.3651e-01, -2.8867e-01,\n",
       "         -9.4514e-01,  6.0512e-01,  1.0000e+00, -2.4220e-01,  7.4767e-01,\n",
       "         -1.2939e-01,  5.5739e-02, -2.3103e-01,  3.9799e-01,  4.5130e-01,\n",
       "         -1.0063e-01, -7.6903e-01,  7.4088e-01, -8.9135e-01, -9.8595e-01,\n",
       "          7.0767e-01,  5.0686e-02, -1.4069e-01,  9.9985e-01,  5.8391e-01,\n",
       "          1.8343e-01,  3.0616e-01,  9.4302e-01, -1.8892e-01,  3.4538e-01,\n",
       "          6.8517e-01,  9.7683e-01, -1.1880e-01,  4.8692e-01,  5.8791e-01,\n",
       "         -7.3454e-01, -2.5798e-01, -4.9403e-01, -7.1287e-02, -8.8629e-01,\n",
       "          1.0761e-01, -9.3645e-01,  9.5218e-01,  8.7308e-01,  2.5877e-01,\n",
       "          5.4817e-02,  6.5260e-01,  1.0000e+00, -6.1046e-01,  5.5443e-01,\n",
       "          2.0678e-01,  7.2388e-01, -9.9937e-01, -6.5641e-01, -2.6759e-01,\n",
       "          1.1179e-01, -5.3386e-01, -1.7453e-01,  1.9949e-01, -9.4487e-01,\n",
       "          6.3624e-01,  6.3629e-01, -9.6304e-01, -9.8686e-01, -4.0183e-01,\n",
       "          5.7369e-01, -6.3388e-02, -9.5398e-01, -5.7121e-01, -4.3277e-01,\n",
       "          4.4161e-01, -2.5371e-01, -9.2842e-01,  1.2010e-01, -1.1860e-01,\n",
       "          4.0641e-01, -5.4754e-02,  4.9631e-01,  6.8033e-01,  8.0616e-01,\n",
       "         -6.4061e-01, -1.2569e-01,  9.3551e-02, -6.5439e-01,  7.2869e-01,\n",
       "         -6.0304e-01, -7.7157e-01, -4.8570e-02,  1.0000e+00, -4.8712e-01,\n",
       "          8.3111e-01,  6.9707e-01,  5.2111e-01, -6.1910e-02,  4.7459e-02,\n",
       "          9.1541e-01,  2.2291e-01, -5.2784e-01, -5.7595e-01, -2.2995e-01,\n",
       "         -2.9082e-01,  3.9377e-01,  1.5515e-01,  4.8648e-01,  7.4013e-01,\n",
       "          6.4255e-01, -6.3673e-02,  1.2173e-01, -2.7875e-01,  9.9029e-01,\n",
       "         -5.3837e-04, -5.2930e-02, -2.2577e-01, -9.9675e-03, -2.6681e-01,\n",
       "         -1.0426e-01,  1.0000e+00,  1.4564e-01,  4.5052e-01, -9.9078e-01,\n",
       "         -7.7805e-01, -8.3318e-01,  1.0000e+00,  8.6147e-01, -5.2900e-01,\n",
       "          5.5311e-01,  7.1539e-01,  1.1090e-01,  6.0061e-01, -1.8073e-01,\n",
       "         -2.2785e-01,  2.3288e-01,  1.1433e-01,  9.3025e-01, -5.3674e-01,\n",
       "         -9.6439e-01, -5.6289e-01,  2.3484e-01, -9.3018e-01,  9.9951e-01,\n",
       "         -3.6109e-01, -9.6362e-02, -2.7331e-01,  1.9440e-01, -2.3339e-01,\n",
       "         -1.0731e-02, -9.7464e-01,  8.1607e-02,  2.0611e-01,  9.5367e-01,\n",
       "          5.0368e-02, -5.0311e-01, -8.0536e-01,  6.9937e-01,  7.5169e-01,\n",
       "         -7.4618e-01, -9.2994e-01,  9.6236e-01, -9.7432e-01,  6.2306e-01,\n",
       "          1.0000e+00,  2.2210e-01, -3.2318e-01,  1.0438e-01, -1.3403e-01,\n",
       "          9.7788e-02, -4.9614e-01,  4.9599e-01, -9.2742e-01, -2.0106e-01,\n",
       "         -1.0306e-01,  1.5963e-01,  5.0407e-02, -3.1193e-01,  6.8854e-01,\n",
       "          7.7279e-02, -4.6353e-01, -4.1387e-01,  5.9378e-02,  3.0101e-01,\n",
       "          7.6480e-01, -1.8996e-01, -5.7610e-02, -6.8452e-03, -4.4413e-03,\n",
       "         -8.8521e-01, -1.0623e-01, -3.6743e-01, -9.9993e-01,  3.7683e-01,\n",
       "         -1.0000e+00,  5.4131e-01, -2.2653e-01,  6.4706e-02,  7.6123e-01,\n",
       "          1.6290e-01,  5.0973e-01, -6.5760e-01, -5.3718e-01,  7.2848e-01,\n",
       "          7.0637e-01, -3.2533e-01, -3.4296e-01, -6.1590e-01,  2.7124e-01,\n",
       "          1.1509e-01,  1.4807e-01, -5.8231e-01,  5.8948e-01, -4.6496e-02,\n",
       "          1.0000e+00,  4.5690e-02, -5.8005e-01, -9.0715e-01,  2.3396e-02,\n",
       "         -1.2332e-01,  1.0000e+00, -6.1396e-01, -9.5647e-01,  3.2928e-01,\n",
       "         -5.2907e-01, -7.2745e-01,  2.5382e-01, -8.3038e-02, -7.5142e-01,\n",
       "         -9.2554e-01,  9.0781e-01,  7.2954e-01, -6.0467e-01,  5.2611e-01,\n",
       "         -2.8199e-01, -4.4753e-01,  9.9910e-02,  7.1562e-01,  9.8014e-01,\n",
       "          3.7691e-01,  6.9887e-01,  1.4293e-01, -2.1624e-01,  9.5642e-01,\n",
       "          1.3139e-01,  2.2371e-01, -1.1304e-01,  1.0000e+00,  2.5565e-01,\n",
       "         -8.8043e-01, -3.2459e-03, -9.2156e-01, -7.9467e-02, -9.0867e-01,\n",
       "          1.4297e-02,  1.6048e-01,  8.6142e-01, -1.7393e-01,  9.3264e-01,\n",
       "         -6.4047e-01, -8.4797e-02, -7.6698e-01, -1.5496e-01,  3.2840e-01,\n",
       "         -9.2172e-01, -9.7628e-01, -9.8379e-01,  5.6806e-01, -3.8208e-01,\n",
       "          9.7998e-03,  3.1949e-02, -6.9748e-02,  1.7806e-01,  3.3231e-01,\n",
       "         -1.0000e+00,  9.3239e-01,  4.4067e-01,  8.0706e-01,  9.4951e-01,\n",
       "          7.2979e-01,  4.8387e-01,  2.7464e-01, -9.7785e-01, -9.0412e-01,\n",
       "         -1.3648e-01, -1.4635e-01,  6.5298e-01,  4.9286e-01,  8.5076e-01,\n",
       "          3.8371e-01, -3.9351e-01,  6.8126e-02, -2.1291e-01, -5.3228e-01,\n",
       "         -9.9390e-01,  4.1104e-01, -2.3948e-01, -8.0877e-01,  9.5546e-01,\n",
       "         -4.3648e-01,  1.9287e-02,  9.0346e-03, -6.5699e-01,  7.8392e-01,\n",
       "          7.1037e-01,  1.4167e-01, -1.0224e-01,  4.2523e-01,  8.5496e-01,\n",
       "          8.7125e-01,  9.8110e-01, -6.0331e-01,  6.6352e-01, -4.5016e-01,\n",
       "          4.3468e-01,  7.7277e-01, -9.0802e-01,  3.6555e-02,  1.8150e-01,\n",
       "         -3.3352e-01,  1.6148e-01, -7.6632e-02, -8.8352e-01,  7.1048e-01,\n",
       "         -1.9987e-01,  4.2020e-01, -2.4921e-01,  1.1850e-01, -3.5911e-01,\n",
       "          1.6973e-02, -5.8695e-01, -6.8897e-01,  5.6881e-01, -1.1924e-02,\n",
       "          8.6588e-01,  8.1015e-01, -7.0258e-02, -4.5831e-01, -1.2488e-01,\n",
       "         -5.0052e-01, -9.0533e-01,  7.1548e-01,  3.5032e-02,  3.1802e-02,\n",
       "          5.8445e-01, -2.0564e-01,  8.7900e-01,  1.5315e-01, -2.4787e-01,\n",
       "         -1.9692e-01, -3.9097e-01,  6.5970e-01, -1.7220e-01, -4.2910e-01,\n",
       "         -5.0595e-01,  6.2454e-01,  1.2606e-01,  9.9988e-01, -5.0757e-01,\n",
       "         -7.4366e-01, -1.1899e-01, -1.5122e-01,  3.1648e-01, -4.9249e-01,\n",
       "         -1.0000e+00,  2.8275e-01, -2.1276e-01,  5.8425e-01, -6.7244e-01,\n",
       "          5.0419e-01, -5.6081e-01, -9.4989e-01, -1.3468e-01,  2.5968e-01,\n",
       "          6.2584e-01, -2.9522e-01, -7.1008e-01,  4.0033e-01,  2.3178e-04,\n",
       "          9.3399e-01,  7.6521e-01, -2.5661e-01,  3.9967e-01,  5.5656e-01,\n",
       "         -5.7108e-01, -6.1493e-01,  8.5153e-01]], device='cuda:0')"
      ]
     },
     "execution_count": 6,
     "metadata": {},
     "output_type": "execute_result"
    }
   ],
   "source": [
    "MAX_LEN= 512\n",
    "\n",
    "def create_tranformer_input(sample_list):\n",
    "  tokens_ids_list, attention_masks_list = [], []\n",
    "  for sample in sample_list:\n",
    "    tokenized_sample = TOKENIZER.tokenize(sample)\n",
    "    tokenized_sample = ['[CLS]'] + tokenized_sample + ['[SEP]']\n",
    "\n",
    "    if len(tokenized_sample) < MAX_LEN:\n",
    "      tokenized_sample = tokenized_sample + ['[PAD]'] * (MAX_LEN - len(tokenized_sample))\n",
    "    else:\n",
    "      tokenized_sample = tokenized_sample[:MAX_LEN - 1] + ['[PAD]']\n",
    "    \n",
    "    tokens_ids = TOKENIZER.convert_tokens_to_ids(tokenized_sample)\n",
    "    tokens_ids = torch.Tensor(tokens_ids).long().resize_((1,MAX_LEN)).to(DEVICE)\n",
    "\n",
    "    attention_mask = (tokens_ids != 0).long().resize_((1,MAX_LEN)).to(DEVICE)\n",
    "\n",
    "    tokens_ids_list.append(tokens_ids)\n",
    "    attention_masks_list.append(attention_mask)\n",
    "  tokens_ids = torch.cat(tokens_ids_list, axis=0)\n",
    "  attention_masks = torch.cat(attention_masks_list, axis=0)\n",
    "  \n",
    "  return tokens_ids, attention_masks\n",
    "\n",
    "def encode_data(text_samples, bert_encoder, batch_size=256, verbose=True):\n",
    "    encoded_data = []\n",
    "    bert_encoder.eval()\n",
    "    tokens_ids, attention_mask = create_tranformer_input(text_samples)\n",
    "    with torch.no_grad():\n",
    "        if verbose:\n",
    "          bar = Progbar(int(len(tokens_ids)/batch_size))\n",
    "        for batch_number in range(0, tokens_ids.shape[0], batch_size):\n",
    "          samples_vector = tokens_ids[batch_number:batch_number + batch_size]\n",
    "          attention_vector = attention_mask[batch_number:batch_number + batch_size]\n",
    "          outputs = bert_encoder.forward(samples_vector, attention_mask=attention_vector)\n",
    "          pooler_output = outputs['pooler_output']\n",
    "          encoded_data.append(pooler_output)\n",
    "          if verbose:\n",
    "            bar.add(1)\n",
    "    encoded_data = torch.cat(encoded_data, dim=0)\n",
    "    return encoded_data\n",
    "\n",
    "encode_data(['hi, hi'], FROZEN_BERT, 1, False)"
   ]
  },
  {
   "cell_type": "code",
   "execution_count": null,
   "metadata": {
    "colab": {
     "base_uri": "https://localhost:8080/"
    },
    "executionInfo": {
     "elapsed": 408059,
     "status": "ok",
     "timestamp": 1635701202577,
     "user": {
      "displayName": "Олег Дмитриевич Сомов",
      "photoUrl": "https://lh3.googleusercontent.com/a/default-user=s64",
      "userId": "03877505905935419968"
     },
     "user_tz": -180
    },
    "id": "zyffchbFZabO",
    "outputId": "9f01c96e-6f26-43e7-e627-1564419ce16d"
   },
   "outputs": [
    {
     "name": "stdout",
     "output_type": "stream",
     "text": [
      "52/52 [==============================] - 214s 4s/step\n",
      "53/52 [==============================] - 219s 4s/step\n",
      "Train shape:  torch.Size([13500, 768])\n",
      "17/17 [==============================] - 62s 4s/step\n",
      "18/17 [===============================] - 66s 4s/step\n",
      "Val shape:  torch.Size([4500, 768])\n",
      "13/13 [==============================] - 45s 4s/step\n",
      "14/13 [================================] - 49s 4s/step\n",
      "Train shape:  torch.Size([3420, 768])\n",
      "8/8 [==============================] - 23s 3s/step\n",
      "9/8 [=================================] - 27s 3s/step\n",
      "Train shape:  torch.Size([2280, 768])\n"
     ]
    }
   ],
   "source": [
    "train_embeddings = encode_data(train_df['intents'].to_list(), FROZEN_BERT)\n",
    "print('Train shape: ', train_embeddings.shape)\n",
    "\n",
    "val_embeddings = encode_data(val_df['intents'].to_list(), FROZEN_BERT)\n",
    "print('Val shape: ', val_embeddings.shape)\n",
    "\n",
    "seen_test_embeddings = encode_data(seen_test_df['intents'].to_list(), FROZEN_BERT)\n",
    "print('Train shape: ',seen_test_embeddings.shape)\n",
    "\n",
    "unseen_test_embeddings = encode_data(unseen_test_df['intents'].to_list(), FROZEN_BERT)\n",
    "print('Train shape: ',unseen_test_embeddings.shape)"
   ]
  },
  {
   "cell_type": "code",
   "execution_count": null,
   "metadata": {
    "colab": {
     "base_uri": "https://localhost:8080/"
    },
    "executionInfo": {
     "elapsed": 17,
     "status": "ok",
     "timestamp": 1635701202577,
     "user": {
      "displayName": "Олег Дмитриевич Сомов",
      "photoUrl": "https://lh3.googleusercontent.com/a/default-user=s64",
      "userId": "03877505905935419968"
     },
     "user_tz": -180
    },
    "id": "T7enHQzDAfo7",
    "outputId": "128574d2-56cf-4cb1-f2f0-7ab2398c1a30"
   },
   "outputs": [
    {
     "data": {
      "text/plain": [
       "torch.Size([13500, 768])"
      ]
     },
     "execution_count": 8,
     "metadata": {},
     "output_type": "execute_result"
    }
   ],
   "source": [
    "train_embeddings.shape"
   ]
  },
  {
   "cell_type": "markdown",
   "metadata": {
    "id": "g1qhg63-d-1G"
   },
   "source": [
    "Lets look at the embeddigns that we have in TSNE."
   ]
  },
  {
   "cell_type": "code",
   "execution_count": null,
   "metadata": {
    "id": "UKJEs3C5efN7"
   },
   "outputs": [],
   "source": [
    "def get_indexes_of_samples(target_array):\n",
    "    labels_dict = {}\n",
    "    distinct_labels = set(target_array)\n",
    "    for label in distinct_labels:\n",
    "        labels_dict[label] = [i for i,val in enumerate(target_array) if val==label]\n",
    "    return labels_dict"
   ]
  },
  {
   "cell_type": "code",
   "execution_count": null,
   "metadata": {
    "colab": {
     "base_uri": "https://localhost:8080/",
     "height": 737
    },
    "executionInfo": {
     "elapsed": 30100,
     "status": "ok",
     "timestamp": 1635701232664,
     "user": {
      "displayName": "Олег Дмитриевич Сомов",
      "photoUrl": "https://lh3.googleusercontent.com/a/default-user=s64",
      "userId": "03877505905935419968"
     },
     "user_tz": -180
    },
    "id": "gUEcIEPA-chn",
    "outputId": "8186f0b5-2f71-456f-8e86-6b074e92628b"
   },
   "outputs": [
    {
     "name": "stdout",
     "output_type": "stream",
     "text": [
      "CPU times: user 1min 4s, sys: 140 ms, total: 1min 4s\n",
      "Wall time: 29.2 s\n"
     ]
    },
    {
     "data": {
      "image/png": "[encoded data removed]",
      "text/plain": [
       "<Figure size 1080x864 with 1 Axes>"
      ]
     },
     "metadata": {
      "needs_background": "light"
     },
     "output_type": "display_data"
    }
   ],
   "source": [
    "%%time\n",
    "from sklearn.manifold import TSNE\n",
    "plt.figure(figsize=(15,12))\n",
    "\n",
    "\n",
    "tsne = TSNE()\n",
    "tsne_original_val_emb = tsne.fit_transform(unseen_test_embeddings.cpu())\n",
    "val_classes_indexes = get_indexes_of_samples(unseen_test_df['targets'].values)\n",
    "\n",
    "for key, val in val_classes_indexes.items():\n",
    "    plt.scatter(x=tsne_original_val_emb[val,0],y=tsne_original_val_emb[val,1],label=key)"
   ]
  },
  {
   "cell_type": "markdown",
   "metadata": {
    "id": "ITjnOeiI1JTU"
   },
   "source": [
    "### Baseline model\n",
    "\n"
   ]
  },
  {
   "cell_type": "code",
   "execution_count": null,
   "metadata": {
    "colab": {
     "base_uri": "https://localhost:8080/"
    },
    "executionInfo": {
     "elapsed": 23,
     "status": "ok",
     "timestamp": 1635701232664,
     "user": {
      "displayName": "Олег Дмитриевич Сомов",
      "photoUrl": "https://lh3.googleusercontent.com/a/default-user=s64",
      "userId": "03877505905935419968"
     },
     "user_tz": -180
    },
    "id": "zEpuPUSDAWlj",
    "outputId": "616c1161-6da0-49ca-dfde-e01881766a5e"
   },
   "outputs": [
    {
     "data": {
      "text/plain": [
       "((21420, 768), 21420)"
      ]
     },
     "execution_count": 11,
     "metadata": {},
     "output_type": "execute_result"
    }
   ],
   "source": [
    "storage_embeddings = np.concatenate([train_embeddings.cpu().detach().numpy(), \n",
    "                                val_embeddings.cpu().detach().numpy(),\n",
    "                                seen_test_embeddings.cpu().detach().numpy()], axis=0)\n",
    "classes_array = train_df['targets'].to_list() + val_df['targets'].to_list() + seen_test_df['targets'].to_list()\n",
    "storage_embeddings.shape, len(classes_array)"
   ]
  },
  {
   "cell_type": "code",
   "execution_count": null,
   "metadata": {
    "colab": {
     "base_uri": "https://localhost:8080/"
    },
    "executionInfo": {
     "elapsed": 21,
     "status": "ok",
     "timestamp": 1635701232665,
     "user": {
      "displayName": "Олег Дмитриевич Сомов",
      "photoUrl": "https://lh3.googleusercontent.com/a/default-user=s64",
      "userId": "03877505905935419968"
     },
     "user_tz": -180
    },
    "id": "jsbHX8dTDS5y",
    "outputId": "610c21bb-73c8-49ed-d157-de6e5b4878e4"
   },
   "outputs": [
    {
     "data": {
      "text/plain": [
       "who_made_you                 150\n",
       "spelling                     150\n",
       "pto_request_status           150\n",
       "find_phone                   150\n",
       "replacement_card_duration    150\n",
       "                            ... \n",
       "greeting                     150\n",
       "timezone                     150\n",
       "pay_bill                     150\n",
       "damaged_card                 150\n",
       "report_fraud                 150\n",
       "Name: targets, Length: 90, dtype: int64"
      ]
     },
     "execution_count": 12,
     "metadata": {},
     "output_type": "execute_result"
    }
   ],
   "source": [
    "train_df.targets.value_counts()"
   ]
  },
  {
   "cell_type": "code",
   "execution_count": null,
   "metadata": {
    "colab": {
     "base_uri": "https://localhost:8080/",
     "height": 35
    },
    "executionInfo": {
     "elapsed": 19,
     "status": "ok",
     "timestamp": 1635701232665,
     "user": {
      "displayName": "Олег Дмитриевич Сомов",
      "photoUrl": "https://lh3.googleusercontent.com/a/default-user=s64",
      "userId": "03877505905935419968"
     },
     "user_tz": -180
    },
    "id": "2xzzF6UVW-XK",
    "outputId": "dc9870e8-7b92-476a-aaae-62f7a4943a7a"
   },
   "outputs": [
    {
     "data": {
      "application/vnd.google.colaboratory.intrinsic+json": {
       "type": "string"
      },
      "text/plain": [
       "'how_old_are_you'"
      ]
     },
     "execution_count": 13,
     "metadata": {},
     "output_type": "execute_result"
    }
   ],
   "source": [
    "class KnnIndex:\n",
    "  def __init__(self, embeddings, classes_array, encoder):\n",
    "    self.bert_encoder = encoder\n",
    "\n",
    "    self.to_retrieve = 1\n",
    "\n",
    "    self.index = faiss.IndexFlatL2(embeddings.shape[1])\n",
    "    self.index.train(embeddings)\n",
    "    self.index.add(embeddings)\n",
    "\n",
    "    self.classes_array = classes_array\n",
    "\n",
    "\n",
    "  def search_index(self, text_sample):\n",
    "    vectorized_query = encode_data([text_sample], self.bert_encoder, 1, False).cpu().detach().numpy()\n",
    "    dense_search_results = self.index.search(vectorized_query, self.to_retrieve)\n",
    "    dense_index = dense_search_results[1][0][0]\n",
    "    closest_class = self.classes_array[dense_index]\n",
    "    return closest_class\n",
    "\n",
    "knn_index = KnnIndex(storage_embeddings, classes_array, FROZEN_BERT)\n",
    "knn_index.search_index('how old are you')"
   ]
  },
  {
   "cell_type": "code",
   "execution_count": null,
   "metadata": {
    "colab": {
     "base_uri": "https://localhost:8080/"
    },
    "executionInfo": {
     "elapsed": 102424,
     "status": "ok",
     "timestamp": 1635701335071,
     "user": {
      "displayName": "Олег Дмитриевич Сомов",
      "photoUrl": "https://lh3.googleusercontent.com/a/default-user=s64",
      "userId": "03877505905935419968"
     },
     "user_tz": -180
    },
    "id": "MAQM63ngCVey",
    "outputId": "8b9de8e9-8f3c-40e1-ace3-9f96024f31be"
   },
   "outputs": [
    {
     "name": "stdout",
     "output_type": "stream",
     "text": [
      "2280/2280 [==============================] - 103s 45ms/step\n"
     ]
    }
   ],
   "source": [
    "#lets evaluate\n",
    "preds = []\n",
    "bar = Progbar(len(unseen_test_df))\n",
    "test_intents = set(unseen_test_df['targets'].to_list())\n",
    "for sample in unseen_test_df['intents'].to_list():\n",
    "  pred_class = knn_index.search_index(sample)\n",
    "  if pred_class in test_intents:\n",
    "    preds.append(pred_class)\n",
    "  else:\n",
    "    preds.append('misclassified')\n",
    "  bar.add(1)"
   ]
  },
  {
   "cell_type": "code",
   "execution_count": null,
   "metadata": {
    "colab": {
     "base_uri": "https://localhost:8080/"
    },
    "executionInfo": {
     "elapsed": 430,
     "status": "ok",
     "timestamp": 1635701335485,
     "user": {
      "displayName": "Олег Дмитриевич Сомов",
      "photoUrl": "https://lh3.googleusercontent.com/a/default-user=s64",
      "userId": "03877505905935419968"
     },
     "user_tz": -180
    },
    "id": "0xseah0tJV3L",
    "outputId": "f6e3735c-af18-405e-ac48-59a5ada43add"
   },
   "outputs": [
    {
     "name": "stdout",
     "output_type": "stream",
     "text": [
      "                        precision    recall  f1-score   support\n",
      "\n",
      "                 alarm       0.42      0.84      0.56        25\n",
      "                cancel       0.20      0.55      0.29        22\n",
      "    cancel_reservation       0.33      0.82      0.47        22\n",
      "         card_declined       0.34      0.80      0.48        25\n",
      "        change_ai_name       0.44      0.82      0.57        28\n",
      "          change_speed       0.25      0.73      0.37        22\n",
      "            directions       0.40      0.79      0.53        29\n",
      "      do_you_have_pets       0.47      0.90      0.62        31\n",
      "         flight_status       0.40      0.86      0.54        29\n",
      "        freeze_account       0.34      0.69      0.46        29\n",
      "              fun_fact       0.37      0.76      0.50        37\n",
      "      ingredients_list       0.39      0.74      0.51        35\n",
      "      insurance_change       0.33      0.61      0.43        36\n",
      "       meal_suggestion       0.37      0.82      0.51        28\n",
      "measurement_conversion       0.51      0.91      0.65        35\n",
      "         misclassified       0.00      0.00      0.00      1288\n",
      "                   mpg       0.36      0.80      0.50        30\n",
      "              new_card       0.34      0.56      0.42        39\n",
      "                   oos       0.14      0.69      0.23        94\n",
      "          order_checks       0.26      0.58      0.36        24\n",
      "        redeem_rewards       0.26      0.58      0.36        24\n",
      "      report_lost_card       0.22      0.55      0.31        20\n",
      "         shopping_list       0.39      0.78      0.52        36\n",
      "           sync_device       0.41      0.85      0.56        34\n",
      "                  text       0.41      0.81      0.54        27\n",
      "                 timer       0.56      0.85      0.67        33\n",
      "      todo_list_update       0.31      1.00      0.48        20\n",
      "              transfer       0.49      0.88      0.63        32\n",
      "             translate       0.45      0.88      0.60        32\n",
      "       update_playlist       0.73      0.94      0.82        50\n",
      "                    w2       0.47      0.74      0.57        34\n",
      "          whisper_mode       0.43      0.83      0.57        30\n",
      "\n",
      "              accuracy                           0.34      2280\n",
      "             macro avg       0.37      0.75      0.49      2280\n",
      "          weighted avg       0.17      0.34      0.22      2280\n",
      "\n"
     ]
    }
   ],
   "source": [
    "print(classification_report(preds, unseen_test_df['targets'].tolist()))"
   ]
  },
  {
   "cell_type": "markdown",
   "metadata": {
    "id": "OZXvABwl3u0N"
   },
   "source": [
    "### Metric learning approach"
   ]
  },
  {
   "cell_type": "markdown",
   "metadata": {
    "id": "r2zp3egh39cV"
   },
   "source": [
    "In order to sample easily, I will form dict of classes with samples indexes for each class."
   ]
  },
  {
   "cell_type": "code",
   "execution_count": null,
   "metadata": {
    "colab": {
     "base_uri": "https://localhost:8080/"
    },
    "executionInfo": {
     "elapsed": 5,
     "status": "ok",
     "timestamp": 1635701335486,
     "user": {
      "displayName": "Олег Дмитриевич Сомов",
      "photoUrl": "https://lh3.googleusercontent.com/a/default-user=s64",
      "userId": "03877505905935419968"
     },
     "user_tz": -180
    },
    "id": "kJmeOoCnN1vW",
    "outputId": "91a0fa20-c739-4d77-90d2-27d786890f1d"
   },
   "outputs": [
    {
     "name": "stdout",
     "output_type": "stream",
     "text": [
      "Target types:  dict_keys(['tire_pressure', 'cook_time', 'thank_you', 'report_fraud', 'confirm_reservation', 'income', 'shopping_list_update', 'insurance', 'account_blocked', 'recipe', 'make_call', 'todo_list', 'vaccines', 'maybe', 'travel_alert', 'goodbye', 'last_maintenance', 'gas', 'pto_request', 'book_flight', 'where_are_you_from', 'food_last', 'bill_balance', 'uber', 'direct_deposit', 'spelling', 'credit_score', 'calculator', 'current_location', 'international_visa', 'application_status', 'ingredient_substitution', 'pto_request_status', 'order', 'improve_credit_score', 'travel_notification', 'find_phone', 'book_hotel', 'replacement_card_duration', 'play_music', 'what_is_your_name', 'jump_start', 'flip_coin', 'meeting_schedule', 'who_do_you_work_for', 'how_busy', 'calories', 'tell_joke', 'schedule_maintenance', 'oil_change_how', 'gas_type', 'tire_change', 'credit_limit_change', 'roll_dice', 'exchange_rate', 'routing', 'meaning_of_life', 'next_holiday', 'international_fees', 'definition', 'plug_type', 'what_are_your_hobbies', 'yes', 'pin_change', 'order_status', 'car_rental', 'apr', 'reset_settings', 'lost_luggage', 'bill_due', 'rollover_401k', 'change_user_name', 'transactions', 'expiration_date', 'share_location', 'repeat', 'are_you_a_bot', 'no', 'carry_on', 'min_payment', 'greeting', 'timezone', 'pay_bill', 'damaged_card', 'spending_history', 'restaurant_reservation', 'nutrition_info', 'who_made_you', 'change_volume', 'time'])\n",
      "Number of classes:  90\n"
     ]
    }
   ],
   "source": [
    "train_target_indexes_dict = get_indexes_of_samples(train_df['targets'].to_list())\n",
    "val_target_indexes_dict = get_indexes_of_samples(val_df['targets'].to_list())\n",
    "\n",
    "print('Target types: ', train_target_indexes_dict.keys())\n",
    "print('Number of classes: ', len(train_target_indexes_dict.keys()))"
   ]
  },
  {
   "cell_type": "code",
   "execution_count": null,
   "metadata": {
    "colab": {
     "base_uri": "https://localhost:8080/"
    },
    "executionInfo": {
     "elapsed": 13390,
     "status": "ok",
     "timestamp": 1635701348874,
     "user": {
      "displayName": "Олег Дмитриевич Сомов",
      "photoUrl": "https://lh3.googleusercontent.com/a/default-user=s64",
      "userId": "03877505905935419968"
     },
     "user_tz": -180
    },
    "id": "SOlMg1dN7AAl",
    "outputId": "47c697c6-ef3d-4814-fc20-18c408bf92f9"
   },
   "outputs": [
    {
     "data": {
      "text/plain": [
       "(torch.Size([13500, 512]), torch.Size([4500, 512]))"
      ]
     },
     "execution_count": 17,
     "metadata": {},
     "output_type": "execute_result"
    }
   ],
   "source": [
    "train_token_ids_array, train_attention_mask_array = create_tranformer_input(train_df['intents'].to_list())\n",
    "val_token_ids_array, val_attention_mask_array = create_tranformer_input(val_df['intents'].to_list())\n",
    "train_token_ids_array.shape, val_token_ids_array.shape"
   ]
  },
  {
   "cell_type": "markdown",
   "metadata": {
    "id": "gI23hO9n4bTd"
   },
   "source": [
    "The main key point in metric learning is sampling strategy. Here I will implement random sampling strategy. \n",
    "\n",
    "Random sampling strategy simply gets random sample from other classes excluding the anchor class."
   ]
  },
  {
   "cell_type": "code",
   "execution_count": null,
   "metadata": {
    "colab": {
     "base_uri": "https://localhost:8080/"
    },
    "executionInfo": {
     "elapsed": 22,
     "status": "ok",
     "timestamp": 1635701348874,
     "user": {
      "displayName": "Олег Дмитриевич Сомов",
      "photoUrl": "https://lh3.googleusercontent.com/a/default-user=s64",
      "userId": "03877505905935419968"
     },
     "user_tz": -180
    },
    "id": "vtH5sdbmK29Y",
    "outputId": "188a09b8-2332-409a-d46e-8ed1b48145f0"
   },
   "outputs": [
    {
     "data": {
      "text/plain": [
       "(torch.Size([2, 512]), torch.Size([2, 512]))"
      ]
     },
     "execution_count": 18,
     "metadata": {},
     "output_type": "execute_result"
    }
   ],
   "source": [
    "class TripletGenerator:\n",
    "  def __init__(self,class2idx_dict, attention_storage, token_ids_storage, batch_size):\n",
    "    self.class2idx_dict = class2idx_dict\n",
    "    self.attention_storage = attention_storage\n",
    "    self.token_ids_storage = token_ids_storage\n",
    "\n",
    "    self.classes = list(self.class2idx_dict.keys())\n",
    "    self.batch_size = batch_size\n",
    "\n",
    "  def __call__(self):\n",
    "    anchor_list, positive_list, negative_list = [], [], []\n",
    "    for _ in range(self.batch_size):\n",
    "      sample_dict = self.get_triplet()\n",
    "      anchor_list.append(sample_dict['anchor'])\n",
    "      positive_list.append(sample_dict['positive'])\n",
    "      negative_list.append(sample_dict['negative'])\n",
    "    anchor_array = np.array(anchor_list)\n",
    "    positive_array = np.array(positive_list)\n",
    "    negative_array = np.array(negative_list)\n",
    "\n",
    "    return {\"anchor\": [torch.vstack(list(anchor_array[:, 0])), torch.vstack(list(anchor_array[:, 1]))],\n",
    "            \"positive\": [torch.vstack(list(positive_array[:, 0])), torch.vstack(list(positive_array[:, 1]))],\n",
    "            \"negative\": [torch.vstack(list(negative_array[:, 0])), torch.vstack(list(negative_array[:, 1]))]\n",
    "            }\n",
    "  \n",
    "  def get_triplet(self):\n",
    "    anchor_class = random.choice(self.classes)\n",
    "    anchor_sample_idx = random.choice(self.class2idx_dict[anchor_class])\n",
    "    positive_sample_idx = TripletGenerator.random_choose(self.class2idx_dict[anchor_class], anchor_sample_idx)\n",
    "    negative_class = TripletGenerator.random_choose(self.classes, anchor_class)\n",
    "    negative_sample_idx = random.choice(self.class2idx_dict[negative_class])\n",
    "\n",
    "    anchor_token_ids, anchor_attention_mask = self.attention_storage[anchor_sample_idx], self.token_ids_storage[anchor_sample_idx]\n",
    "    positive_token_ids, positive_attention_mask = self.attention_storage[positive_sample_idx], self.token_ids_storage[positive_sample_idx]\n",
    "    negative_token_ids, negative_attention_mask = self.attention_storage[negative_sample_idx], self.token_ids_storage[negative_sample_idx]\n",
    "\n",
    "    return {\n",
    "        \"anchor\": [anchor_token_ids, anchor_attention_mask],\n",
    "        \"positive\": [positive_token_ids, positive_attention_mask],\n",
    "        \"negative\": [negative_token_ids, negative_attention_mask]\n",
    "    }\n",
    "\n",
    "  @staticmethod\n",
    "  def random_choose(sequence, exclude_sample=None, retires=5):\n",
    "        for _ in range(retires):\n",
    "            choice = random.choice(sequence)\n",
    "            if choice != exclude_sample:\n",
    "                break\n",
    "        return choice\n",
    "\n",
    "\n",
    "train_triplet_generator = TripletGenerator(train_target_indexes_dict, train_token_ids_array, train_attention_mask_array, 2)\n",
    "example_batch = train_triplet_generator()\n",
    "example_batch['anchor'][0].shape, example_batch['negative'][0].shape"
   ]
  },
  {
   "cell_type": "code",
   "execution_count": null,
   "metadata": {
    "id": "Bo-d_APRQua5"
   },
   "outputs": [],
   "source": [
    "class MetricBERT(nn.Module):\n",
    "    def __init__(self, bert_model):\n",
    "        super().__init__()\n",
    "        self.bert = deepcopy(bert_model)\n",
    "\n",
    "    def disable_bert_training(self):\n",
    "      for layer in self.bert.encoder.layer:\n",
    "        for param in layer.parameters():\n",
    "          param.requires_grad = False\n",
    "\n",
    "    def enable_some_bert_layers_training(self, layers2freeze):\n",
    "      layers4freeze = [*[self.bert.encoder.layer[:layers2freeze]] + [self.bert.embeddings]]\n",
    "      layers2train = [*self.bert.encoder.layer[layers2freeze - len(self.bert.encoder.layer):]]\n",
    "      for layer in layers4freeze:\n",
    "        for param in layer.parameters():\n",
    "          param.requires_grad = False\n",
    "\n",
    "      for layer in layers2train:\n",
    "        for param in layer.parameters():\n",
    "          param.requires_grad = True\n",
    "      \n",
    "      self.bert.pooler.requires_grad_(True)\n",
    "      \n",
    "    def forward(self, anchor_data, pos_data, neg_data):\n",
    "        SEQUENCE_IDX = 0\n",
    "        ATTENTION_MASK_IDX = 1\n",
    "\n",
    "        anchor_bert_ouput = self.bert(anchor_data[SEQUENCE_IDX], \n",
    "                                      anchor_data[ATTENTION_MASK_IDX])\n",
    "        anchor_cls_repr = anchor_bert_ouput['pooler_output']\n",
    "\n",
    "        neg_bert_output = self.bert(neg_data[SEQUENCE_IDX],\n",
    "                                    neg_data[ATTENTION_MASK_IDX])\n",
    "        neg_cls_repr = neg_bert_output['pooler_output']\n",
    "\n",
    "        pos_bert_output = self.bert(pos_data[SEQUENCE_IDX], \n",
    "                                    pos_data[ATTENTION_MASK_IDX])\n",
    "        pos_cls_repr = pos_bert_output['pooler_output']\n",
    "        \n",
    "        return anchor_cls_repr, pos_cls_repr, neg_cls_repr"
   ]
  },
  {
   "cell_type": "code",
   "execution_count": null,
   "metadata": {
    "id": "eLBXVB_ADgFz"
   },
   "outputs": [],
   "source": [
    "metric_bert = MetricBERT(FROZEN_BERT)"
   ]
  },
  {
   "cell_type": "code",
   "execution_count": null,
   "metadata": {
    "colab": {
     "base_uri": "https://localhost:8080/"
    },
    "collapsed": true,
    "executionInfo": {
     "elapsed": 18,
     "status": "ok",
     "timestamp": 1635701348875,
     "user": {
      "displayName": "Олег Дмитриевич Сомов",
      "photoUrl": "https://lh3.googleusercontent.com/a/default-user=s64",
      "userId": "03877505905935419968"
     },
     "user_tz": -180
    },
    "id": "OeUi6Ac-DsHu",
    "jupyter": {
     "outputs_hidden": true
    },
    "outputId": "dde17d9e-e9ba-4dff-d91b-e1fa9f5f8e03",
    "tags": []
   },
   "outputs": [
    {
     "name": "stdout",
     "output_type": "stream",
     "text": [
      "bert.embeddings.word_embeddings.weight True\n",
      "bert.embeddings.position_embeddings.weight True\n",
      "bert.embeddings.token_type_embeddings.weight True\n",
      "bert.embeddings.LayerNorm.weight True\n",
      "bert.embeddings.LayerNorm.bias True\n",
      "bert.encoder.layer.0.attention.self.query.weight True\n",
      "bert.encoder.layer.0.attention.self.query.bias True\n",
      "bert.encoder.layer.0.attention.self.key.weight True\n",
      "bert.encoder.layer.0.attention.self.key.bias True\n",
      "bert.encoder.layer.0.attention.self.value.weight True\n",
      "bert.encoder.layer.0.attention.self.value.bias True\n",
      "bert.encoder.layer.0.attention.output.dense.weight True\n",
      "bert.encoder.layer.0.attention.output.dense.bias True\n",
      "bert.encoder.layer.0.attention.output.LayerNorm.weight True\n",
      "bert.encoder.layer.0.attention.output.LayerNorm.bias True\n",
      "bert.encoder.layer.0.intermediate.dense.weight True\n",
      "bert.encoder.layer.0.intermediate.dense.bias True\n",
      "bert.encoder.layer.0.output.dense.weight True\n",
      "bert.encoder.layer.0.output.dense.bias True\n",
      "bert.encoder.layer.0.output.LayerNorm.weight True\n",
      "bert.encoder.layer.0.output.LayerNorm.bias True\n",
      "bert.encoder.layer.1.attention.self.query.weight True\n",
      "bert.encoder.layer.1.attention.self.query.bias True\n",
      "bert.encoder.layer.1.attention.self.key.weight True\n",
      "bert.encoder.layer.1.attention.self.key.bias True\n",
      "bert.encoder.layer.1.attention.self.value.weight True\n",
      "bert.encoder.layer.1.attention.self.value.bias True\n",
      "bert.encoder.layer.1.attention.output.dense.weight True\n",
      "bert.encoder.layer.1.attention.output.dense.bias True\n",
      "bert.encoder.layer.1.attention.output.LayerNorm.weight True\n",
      "bert.encoder.layer.1.attention.output.LayerNorm.bias True\n",
      "bert.encoder.layer.1.intermediate.dense.weight True\n",
      "bert.encoder.layer.1.intermediate.dense.bias True\n",
      "bert.encoder.layer.1.output.dense.weight True\n",
      "bert.encoder.layer.1.output.dense.bias True\n",
      "bert.encoder.layer.1.output.LayerNorm.weight True\n",
      "bert.encoder.layer.1.output.LayerNorm.bias True\n",
      "bert.encoder.layer.2.attention.self.query.weight True\n",
      "bert.encoder.layer.2.attention.self.query.bias True\n",
      "bert.encoder.layer.2.attention.self.key.weight True\n",
      "bert.encoder.layer.2.attention.self.key.bias True\n",
      "bert.encoder.layer.2.attention.self.value.weight True\n",
      "bert.encoder.layer.2.attention.self.value.bias True\n",
      "bert.encoder.layer.2.attention.output.dense.weight True\n",
      "bert.encoder.layer.2.attention.output.dense.bias True\n",
      "bert.encoder.layer.2.attention.output.LayerNorm.weight True\n",
      "bert.encoder.layer.2.attention.output.LayerNorm.bias True\n",
      "bert.encoder.layer.2.intermediate.dense.weight True\n",
      "bert.encoder.layer.2.intermediate.dense.bias True\n",
      "bert.encoder.layer.2.output.dense.weight True\n",
      "bert.encoder.layer.2.output.dense.bias True\n",
      "bert.encoder.layer.2.output.LayerNorm.weight True\n",
      "bert.encoder.layer.2.output.LayerNorm.bias True\n",
      "bert.encoder.layer.3.attention.self.query.weight True\n",
      "bert.encoder.layer.3.attention.self.query.bias True\n",
      "bert.encoder.layer.3.attention.self.key.weight True\n",
      "bert.encoder.layer.3.attention.self.key.bias True\n",
      "bert.encoder.layer.3.attention.self.value.weight True\n",
      "bert.encoder.layer.3.attention.self.value.bias True\n",
      "bert.encoder.layer.3.attention.output.dense.weight True\n",
      "bert.encoder.layer.3.attention.output.dense.bias True\n",
      "bert.encoder.layer.3.attention.output.LayerNorm.weight True\n",
      "bert.encoder.layer.3.attention.output.LayerNorm.bias True\n",
      "bert.encoder.layer.3.intermediate.dense.weight True\n",
      "bert.encoder.layer.3.intermediate.dense.bias True\n",
      "bert.encoder.layer.3.output.dense.weight True\n",
      "bert.encoder.layer.3.output.dense.bias True\n",
      "bert.encoder.layer.3.output.LayerNorm.weight True\n",
      "bert.encoder.layer.3.output.LayerNorm.bias True\n",
      "bert.encoder.layer.4.attention.self.query.weight True\n",
      "bert.encoder.layer.4.attention.self.query.bias True\n",
      "bert.encoder.layer.4.attention.self.key.weight True\n",
      "bert.encoder.layer.4.attention.self.key.bias True\n",
      "bert.encoder.layer.4.attention.self.value.weight True\n",
      "bert.encoder.layer.4.attention.self.value.bias True\n",
      "bert.encoder.layer.4.attention.output.dense.weight True\n",
      "bert.encoder.layer.4.attention.output.dense.bias True\n",
      "bert.encoder.layer.4.attention.output.LayerNorm.weight True\n",
      "bert.encoder.layer.4.attention.output.LayerNorm.bias True\n",
      "bert.encoder.layer.4.intermediate.dense.weight True\n",
      "bert.encoder.layer.4.intermediate.dense.bias True\n",
      "bert.encoder.layer.4.output.dense.weight True\n",
      "bert.encoder.layer.4.output.dense.bias True\n",
      "bert.encoder.layer.4.output.LayerNorm.weight True\n",
      "bert.encoder.layer.4.output.LayerNorm.bias True\n",
      "bert.encoder.layer.5.attention.self.query.weight True\n",
      "bert.encoder.layer.5.attention.self.query.bias True\n",
      "bert.encoder.layer.5.attention.self.key.weight True\n",
      "bert.encoder.layer.5.attention.self.key.bias True\n",
      "bert.encoder.layer.5.attention.self.value.weight True\n",
      "bert.encoder.layer.5.attention.self.value.bias True\n",
      "bert.encoder.layer.5.attention.output.dense.weight True\n",
      "bert.encoder.layer.5.attention.output.dense.bias True\n",
      "bert.encoder.layer.5.attention.output.LayerNorm.weight True\n",
      "bert.encoder.layer.5.attention.output.LayerNorm.bias True\n",
      "bert.encoder.layer.5.intermediate.dense.weight True\n",
      "bert.encoder.layer.5.intermediate.dense.bias True\n",
      "bert.encoder.layer.5.output.dense.weight True\n",
      "bert.encoder.layer.5.output.dense.bias True\n",
      "bert.encoder.layer.5.output.LayerNorm.weight True\n",
      "bert.encoder.layer.5.output.LayerNorm.bias True\n",
      "bert.encoder.layer.6.attention.self.query.weight True\n",
      "bert.encoder.layer.6.attention.self.query.bias True\n",
      "bert.encoder.layer.6.attention.self.key.weight True\n",
      "bert.encoder.layer.6.attention.self.key.bias True\n",
      "bert.encoder.layer.6.attention.self.value.weight True\n",
      "bert.encoder.layer.6.attention.self.value.bias True\n",
      "bert.encoder.layer.6.attention.output.dense.weight True\n",
      "bert.encoder.layer.6.attention.output.dense.bias True\n",
      "bert.encoder.layer.6.attention.output.LayerNorm.weight True\n",
      "bert.encoder.layer.6.attention.output.LayerNorm.bias True\n",
      "bert.encoder.layer.6.intermediate.dense.weight True\n",
      "bert.encoder.layer.6.intermediate.dense.bias True\n",
      "bert.encoder.layer.6.output.dense.weight True\n",
      "bert.encoder.layer.6.output.dense.bias True\n",
      "bert.encoder.layer.6.output.LayerNorm.weight True\n",
      "bert.encoder.layer.6.output.LayerNorm.bias True\n",
      "bert.encoder.layer.7.attention.self.query.weight True\n",
      "bert.encoder.layer.7.attention.self.query.bias True\n",
      "bert.encoder.layer.7.attention.self.key.weight True\n",
      "bert.encoder.layer.7.attention.self.key.bias True\n",
      "bert.encoder.layer.7.attention.self.value.weight True\n",
      "bert.encoder.layer.7.attention.self.value.bias True\n",
      "bert.encoder.layer.7.attention.output.dense.weight True\n",
      "bert.encoder.layer.7.attention.output.dense.bias True\n",
      "bert.encoder.layer.7.attention.output.LayerNorm.weight True\n",
      "bert.encoder.layer.7.attention.output.LayerNorm.bias True\n",
      "bert.encoder.layer.7.intermediate.dense.weight True\n",
      "bert.encoder.layer.7.intermediate.dense.bias True\n",
      "bert.encoder.layer.7.output.dense.weight True\n",
      "bert.encoder.layer.7.output.dense.bias True\n",
      "bert.encoder.layer.7.output.LayerNorm.weight True\n",
      "bert.encoder.layer.7.output.LayerNorm.bias True\n",
      "bert.encoder.layer.8.attention.self.query.weight True\n",
      "bert.encoder.layer.8.attention.self.query.bias True\n",
      "bert.encoder.layer.8.attention.self.key.weight True\n",
      "bert.encoder.layer.8.attention.self.key.bias True\n",
      "bert.encoder.layer.8.attention.self.value.weight True\n",
      "bert.encoder.layer.8.attention.self.value.bias True\n",
      "bert.encoder.layer.8.attention.output.dense.weight True\n",
      "bert.encoder.layer.8.attention.output.dense.bias True\n",
      "bert.encoder.layer.8.attention.output.LayerNorm.weight True\n",
      "bert.encoder.layer.8.attention.output.LayerNorm.bias True\n",
      "bert.encoder.layer.8.intermediate.dense.weight True\n",
      "bert.encoder.layer.8.intermediate.dense.bias True\n",
      "bert.encoder.layer.8.output.dense.weight True\n",
      "bert.encoder.layer.8.output.dense.bias True\n",
      "bert.encoder.layer.8.output.LayerNorm.weight True\n",
      "bert.encoder.layer.8.output.LayerNorm.bias True\n",
      "bert.encoder.layer.9.attention.self.query.weight True\n",
      "bert.encoder.layer.9.attention.self.query.bias True\n",
      "bert.encoder.layer.9.attention.self.key.weight True\n",
      "bert.encoder.layer.9.attention.self.key.bias True\n",
      "bert.encoder.layer.9.attention.self.value.weight True\n",
      "bert.encoder.layer.9.attention.self.value.bias True\n",
      "bert.encoder.layer.9.attention.output.dense.weight True\n",
      "bert.encoder.layer.9.attention.output.dense.bias True\n",
      "bert.encoder.layer.9.attention.output.LayerNorm.weight True\n",
      "bert.encoder.layer.9.attention.output.LayerNorm.bias True\n",
      "bert.encoder.layer.9.intermediate.dense.weight True\n",
      "bert.encoder.layer.9.intermediate.dense.bias True\n",
      "bert.encoder.layer.9.output.dense.weight True\n",
      "bert.encoder.layer.9.output.dense.bias True\n",
      "bert.encoder.layer.9.output.LayerNorm.weight True\n",
      "bert.encoder.layer.9.output.LayerNorm.bias True\n",
      "bert.encoder.layer.10.attention.self.query.weight True\n",
      "bert.encoder.layer.10.attention.self.query.bias True\n",
      "bert.encoder.layer.10.attention.self.key.weight True\n",
      "bert.encoder.layer.10.attention.self.key.bias True\n",
      "bert.encoder.layer.10.attention.self.value.weight True\n",
      "bert.encoder.layer.10.attention.self.value.bias True\n",
      "bert.encoder.layer.10.attention.output.dense.weight True\n",
      "bert.encoder.layer.10.attention.output.dense.bias True\n",
      "bert.encoder.layer.10.attention.output.LayerNorm.weight True\n",
      "bert.encoder.layer.10.attention.output.LayerNorm.bias True\n",
      "bert.encoder.layer.10.intermediate.dense.weight True\n",
      "bert.encoder.layer.10.intermediate.dense.bias True\n",
      "bert.encoder.layer.10.output.dense.weight True\n",
      "bert.encoder.layer.10.output.dense.bias True\n",
      "bert.encoder.layer.10.output.LayerNorm.weight True\n",
      "bert.encoder.layer.10.output.LayerNorm.bias True\n",
      "bert.encoder.layer.11.attention.self.query.weight True\n",
      "bert.encoder.layer.11.attention.self.query.bias True\n",
      "bert.encoder.layer.11.attention.self.key.weight True\n",
      "bert.encoder.layer.11.attention.self.key.bias True\n",
      "bert.encoder.layer.11.attention.self.value.weight True\n",
      "bert.encoder.layer.11.attention.self.value.bias True\n",
      "bert.encoder.layer.11.attention.output.dense.weight True\n",
      "bert.encoder.layer.11.attention.output.dense.bias True\n",
      "bert.encoder.layer.11.attention.output.LayerNorm.weight True\n",
      "bert.encoder.layer.11.attention.output.LayerNorm.bias True\n",
      "bert.encoder.layer.11.intermediate.dense.weight True\n",
      "bert.encoder.layer.11.intermediate.dense.bias True\n",
      "bert.encoder.layer.11.output.dense.weight True\n",
      "bert.encoder.layer.11.output.dense.bias True\n",
      "bert.encoder.layer.11.output.LayerNorm.weight True\n",
      "bert.encoder.layer.11.output.LayerNorm.bias True\n",
      "bert.pooler.dense.weight True\n",
      "bert.pooler.dense.bias True\n"
     ]
    }
   ],
   "source": [
    "for i in list(metric_bert.named_parameters()):\n",
    "  if i[1].requires_grad == True:\n",
    "    print(i[0], i[1].requires_grad)"
   ]
  },
  {
   "cell_type": "markdown",
   "metadata": {
    "id": "B-ifhRNY9EUX"
   },
   "source": [
    "In this work I am using custom loss function - triplet loss function. As a distance metric I will be using l2 distance."
   ]
  },
  {
   "cell_type": "code",
   "execution_count": null,
   "metadata": {
    "colab": {
     "base_uri": "https://localhost:8080/"
    },
    "executionInfo": {
     "elapsed": 9,
     "status": "ok",
     "timestamp": 1635701349739,
     "user": {
      "displayName": "Олег Дмитриевич Сомов",
      "photoUrl": "https://lh3.googleusercontent.com/a/default-user=s64",
      "userId": "03877505905935419968"
     },
     "user_tz": -180
    },
    "id": "1RJPm89HRJ9l",
    "outputId": "dfddb7b2-af9a-4bbf-e012-4fe9e05bdbfb"
   },
   "outputs": [
    {
     "name": "stdout",
     "output_type": "stream",
     "text": [
      "Triplet loss result: tensor([3.2361], device='cuda:0')\n"
     ]
    }
   ],
   "source": [
    "def l2_distance(a, b):\n",
    "    distance_matrix = torch.cdist(a, b, p=2)\n",
    "    diag_sum = torch.sum(torch.diagonal(distance_matrix))\n",
    "    return diag_sum\n",
    "\n",
    "def compute_loss(anchor_sample, pos_sample, neg_sample, distance_metric, delta = 1):\n",
    "    pos_sim = distance_metric(anchor_sample, pos_sample)\n",
    "    neg_sim = distance_metric(anchor_sample, neg_sample)\n",
    "    loss = torch.max(torch.Tensor([0]).to(DEVICE), delta - neg_sim + pos_sim)\n",
    "    return loss\n",
    "\n",
    "a = torch.Tensor([[1,1], [3,4]]).to(DEVICE)\n",
    "pos = torch.Tensor([[2,3], [5,6]]).to(DEVICE)\n",
    "neg = torch.Tensor([[1,1], [1,2]]).to(DEVICE)\n",
    "print('Triplet loss result:', compute_loss(a, pos, neg, l2_distance))"
   ]
  },
  {
   "cell_type": "markdown",
   "metadata": {
    "id": "KQ1qrSG29JAw"
   },
   "source": [
    "Here is presented the training of the dssm model for metric learning. As a validation metric I use recall - check if anchor to positive distance is less than anchor to negative for a given triplet.\n",
    "\n",
    "I will be using l2 distance, because in current setting cos proved itself to be not so good.\n",
    "\n"
   ]
  },
  {
   "cell_type": "code",
   "execution_count": null,
   "metadata": {
    "id": "k_zBBWDVK9vw"
   },
   "outputs": [],
   "source": [
    "torch.cuda.empty_cache()"
   ]
  },
  {
   "cell_type": "code",
   "execution_count": null,
   "metadata": {
    "colab": {
     "base_uri": "https://localhost:8080/"
    },
    "executionInfo": {
     "elapsed": 337,
     "status": "ok",
     "timestamp": 1635706228735,
     "user": {
      "displayName": "Олег Дмитриевич Сомов",
      "photoUrl": "https://lh3.googleusercontent.com/a/default-user=s64",
      "userId": "03877505905935419968"
     },
     "user_tz": -180
    },
    "id": "YzCgz_ZuKmuo",
    "outputId": "5d06c366-f485-43c5-ad90-9845383b8a04"
   },
   "outputs": [
    {
     "name": "stdout",
     "output_type": "stream",
     "text": [
      "Using device: cuda\n",
      "\n",
      "Tesla P100-PCIE-16GB\n",
      "Memory Usage:\n",
      "Allocated: 6.3 GB\n",
      "Cached:    13.0 GB\n"
     ]
    }
   ],
   "source": [
    "device = torch.device('cuda' if torch.cuda.is_available() else 'cpu')\n",
    "print('Using device:', device)\n",
    "print()\n",
    "\n",
    "#Additional Info when using cuda\n",
    "if device.type == 'cuda':\n",
    "    print(torch.cuda.get_device_name(0))\n",
    "    print('Memory Usage:')\n",
    "    print('Allocated:', round(torch.cuda.memory_allocated(0)/1024**3,1), 'GB')\n",
    "    print('Cached:   ', round(torch.cuda.memory_cached(0)/1024**3,1), 'GB')"
   ]
  },
  {
   "cell_type": "code",
   "execution_count": null,
   "metadata": {
    "id": "kp5ox-7oOMcx"
   },
   "outputs": [],
   "source": []
  },
  {
   "cell_type": "code",
   "execution_count": null,
   "metadata": {
    "colab": {
     "base_uri": "https://localhost:8080/"
    },
    "executionInfo": {
     "elapsed": 8148,
     "status": "ok",
     "timestamp": 1635701523764,
     "user": {
      "displayName": "Олег Дмитриевич Сомов",
      "photoUrl": "https://lh3.googleusercontent.com/a/default-user=s64",
      "userId": "03877505905935419968"
     },
     "user_tz": -180
    },
    "id": "P7yFXiFZIx-X",
    "outputId": "0344ffcc-ed91-4312-eba2-f3664b02134c"
   },
   "outputs": [
    {
     "name": "stdout",
     "output_type": "stream",
     "text": [
      "10/10 [==============================] - 8s 776ms/step\n"
     ]
    },
    {
     "data": {
      "text/plain": [
       "0.0011948469"
      ]
     },
     "execution_count": 26,
     "metadata": {},
     "output_type": "execute_result"
    }
   ],
   "source": [
    "import sklearn\n",
    "\n",
    "def compute_silhouette_score(number_of_classes, target_indexes_dict, token_ids_array, attention_mask_array, encoder):\n",
    "  targets = random.sample(list(target_indexes_dict.keys()), number_of_classes)\n",
    "  token_ids, attention_mask  = [], []\n",
    "  embeddings_list, targets_list=[], []\n",
    "  bar = Progbar(len(targets))\n",
    "  for target in targets:\n",
    "    samples_idx = target_indexes_dict[target]\n",
    "    random.shuffle(samples_idx)\n",
    "    samples_idx = samples_idx[:int(len(samples_idx)*0.3)]\n",
    "    token_ids, attention_masks = token_ids_array[samples_idx], token_ids_array[samples_idx]\n",
    "    with torch.no_grad():\n",
    "      embeddings = encoder.forward(token_ids, attention_masks)['pooler_output'].cpu().detach().numpy()\n",
    "    embeddings_list.append(embeddings)\n",
    "    targets_list += [target]*len(samples_idx)\n",
    "    bar.add(1)\n",
    "  embeddings_numpy = np.concatenate(embeddings_list, axis=0)\n",
    "  silhouette_score = sklearn.metrics.silhouette_score(embeddings_numpy, targets_list)\n",
    "  return silhouette_score\n",
    "\n",
    "compute_silhouette_score(10, train_target_indexes_dict, train_token_ids_array, train_attention_mask_array, FROZEN_BERT)"
   ]
  },
  {
   "cell_type": "code",
   "execution_count": null,
   "metadata": {
    "colab": {
     "base_uri": "https://localhost:8080/",
     "height": 390
    },
    "executionInfo": {
     "elapsed": 1184622,
     "status": "ok",
     "timestamp": 1635705040705,
     "user": {
      "displayName": "Олег Дмитриевич Сомов",
      "photoUrl": "https://lh3.googleusercontent.com/a/default-user=s64",
      "userId": "03877505905935419968"
     },
     "user_tz": -180
    },
    "id": "Me5QPr-GRKAX",
    "outputId": "8a83ef9d-8c1d-4131-9189-5afda50b426d"
   },
   "outputs": [
    {
     "data": {
      "image/png": "[encoded data removed]",
      "text/plain": [
       "<Figure size 1440x432 with 2 Axes>"
      ]
     },
     "metadata": {
      "needs_background": "light"
     },
     "output_type": "display_data"
    }
   ],
   "source": [
    "DISTANCE_METRIC = l2_distance\n",
    "DELTA=0.1\n",
    "LAYERS2FREEZE=9\n",
    "\n",
    "# model hyperparams\n",
    "lr = 2e-5\n",
    "DATASET_PASSES = 20\n",
    "EPOCH_STEPS = 256\n",
    "VAL_STEPS = 32\n",
    "BATCH_SIZE = 8\n",
    "\n",
    "train_generator = TripletGenerator(train_target_indexes_dict, train_token_ids_array, train_attention_mask_array, 2)\n",
    "\n",
    "val_generator = TripletGenerator(val_target_indexes_dict, val_token_ids_array, val_attention_mask_array, 2)\n",
    "\n",
    "metric_bert = MetricBERT(FROZEN_BERT)\n",
    "\n",
    "optimizer = optim.Adam(metric_bert.parameters(), lr=lr)\n",
    "\n",
    "train_loss_history_array, train_silouhette_history_array = [], []\n",
    "val_loss_history_array, val_recall_history_array = [], []\n",
    "\n",
    "ewma = lambda x, span: pd.DataFrame({'x': x})['x'].ewm(span=span).mean().values\n",
    "\n",
    "try:\n",
    "    for epoch in range(DATASET_PASSES):\n",
    "        #training\n",
    "\n",
    "        epoch_train_loss = 0\n",
    "        metric_bert.enable_some_bert_layers_training(layers2freeze=LAYERS2FREEZE)\n",
    "\n",
    "        bar=Progbar(EPOCH_STEPS)\n",
    "        for _ in range(EPOCH_STEPS):\n",
    "            batch_sample = train_generator()\n",
    "            optimizer.zero_grad()\n",
    "            train_anchor_proj, train_pos_proj, train_neg_proj = metric_bert.forward(batch_sample['anchor'], \n",
    "                                                                                    batch_sample['positive'], \n",
    "                                                                                    batch_sample['negative'])\n",
    "            batch_train_loss = compute_loss(anchor_sample=train_anchor_proj, \n",
    "                                             pos_sample=train_pos_proj, \n",
    "                                             neg_sample=train_neg_proj,\n",
    "                                             distance_metric=DISTANCE_METRIC)\n",
    "            batch_train_loss.backward()\n",
    "            optimizer.step()\n",
    "            epoch_train_loss += batch_train_loss.item()\n",
    "            bar.add(1)\n",
    "        \n",
    "        #Average Loss per sample\n",
    "        train_loss_history_array.append(epoch_train_loss / (EPOCH_STEPS * BATCH_SIZE))\n",
    "        epoch_train_silouhette = compute_silhouette_score(10, train_target_indexes_dict, train_token_ids_array, train_attention_mask_array, metric_bert.bert)\n",
    "        train_silouhette_history_array.append(epoch_train_silouhette)\n",
    "\n",
    "        clear_output(True)\n",
    "        plt.figure(figsize=[28, 10])\n",
    "\n",
    "        #loss plot\n",
    "        plt.subplot(2, 2, 1), plt.title('train triplet loss'), plt.grid()\n",
    "        plt.scatter(np.arange(len(train_loss_history_array)), train_loss_history_array, alpha=0.1)\n",
    "        plt.plot(ewma(train_loss_history_array, span=10))\n",
    "\n",
    "        #silouhette plot\n",
    "        plt.subplot(2, 2, 2), plt.title('train silouhette metric'), plt.grid()\n",
    "        plt.scatter(np.arange(len(train_silouhette_history_array)), train_silouhette_history_array, alpha=0.1)\n",
    "        plt.plot(ewma(train_silouhette_history_array, span=10))\n",
    "\n",
    "        #check gradient flow\n",
    "        layers_list, average_grads_list = [], []\n",
    "        for layer_name, params in metric_bert.named_parameters():\n",
    "          if (params.requires_grad) and (\"bias\" not in layer_name):\n",
    "            layers_list.append(layer_name)\n",
    "            average_grads_list.append(params.grad.abs().mean().item())\n",
    "\n",
    "        plt.subplot(2, 2, 3), plt.title('training average grads per sample pass'), plt.grid()\n",
    "        plt.scatter(layers_list, average_grads_list, alpha=0.1)\n",
    "        plt.xticks(range(0,len(average_grads_list), 1), layers_list, rotation=\"vertical\")\n",
    "        plt.plot(ewma(average_grads_list, span=10))\n",
    "        plt.show()\n",
    "\n",
    "        print('Train silouhette value: ', train_silouhette_history_array[-1])\n",
    "          \n",
    "\n",
    "        # validation\n",
    "\n",
    "        # disable bert training for all layers\n",
    "        metric_bert.disable_bert_training()\n",
    "        metric_bert.eval()\n",
    "\n",
    "        epoch_val_loss = 0\n",
    "        epoch_val_recall = 0\n",
    "        bar = Progbar(VAL_STEPS)\n",
    "        for _ in range(VAL_STEPS):\n",
    "            batch_sample = val_generator()\n",
    "            with torch.no_grad():\n",
    "                val_anchor_proj, val_pos_proj, val_neg_proj = metric_bert.forward(batch_sample['anchor'], \n",
    "                                                                                  batch_sample['positive'], \n",
    "                                                                                  batch_sample['negative'])\n",
    "                batch_val_loss = compute_loss(anchor_sample=val_anchor_proj, \n",
    "                                              pos_sample=val_pos_proj, \n",
    "                                              neg_sample=val_neg_proj,\n",
    "                                              distance_metric=DISTANCE_METRIC)\n",
    "                epoch_val_loss += batch_val_loss.item()\n",
    "                bar.add(1)\n",
    "\n",
    "\n",
    "            #calculate recall - our anchor is closer to pos than to neg\n",
    "            anchor2pos_distance = DISTANCE_METRIC(val_anchor_proj, val_pos_proj)\n",
    "            anchor2neg_distance = DISTANCE_METRIC(val_anchor_proj, val_neg_proj)\n",
    "            \n",
    "            if anchor2neg_distance > anchor2pos_distance + DELTA:\n",
    "                epoch_val_recall += 1\n",
    "                \n",
    "        #Average loss per sample\n",
    "        val_loss_history_array.append(epoch_val_loss / (VAL_STEPS * BATCH_SIZE))\n",
    "        #Recall per one epoch pass\n",
    "        val_recall_history_array.append(epoch_val_recall / VAL_STEPS)\n",
    "\n",
    "        clear_output(True)\n",
    "        plt.figure(figsize=[20, 6])\n",
    "        plt.subplot(1, 2, 1), plt.title('val triplet loss'), plt.grid()\n",
    "        plt.scatter(np.arange(len(val_loss_history_array)), val_loss_history_array, alpha=0.1)\n",
    "        plt.plot(ewma(val_loss_history_array, span=10))\n",
    "\n",
    "        # how many samples did we correctly arranged in space currently\n",
    "        plt.subplot(1, 2, 2), plt.title('Val Recall(one point - recall per epoch)'), plt.grid()\n",
    "        dev_time = np.arange(1, len(val_recall_history_array) + 1)\n",
    "        plt.scatter(dev_time, val_recall_history_array, alpha=0.1)\n",
    "        plt.plot(dev_time, ewma(val_recall_history_array, span=10))\n",
    "        plt.show()      \n",
    "            \n",
    "except KeyboardInterrupt:\n",
    "    pass"
   ]
  },
  {
   "cell_type": "code",
   "execution_count": null,
   "metadata": {
    "colab": {
     "base_uri": "https://localhost:8080/"
    },
    "executionInfo": {
     "elapsed": 385,
     "status": "ok",
     "timestamp": 1635705209425,
     "user": {
      "displayName": "Олег Дмитриевич Сомов",
      "photoUrl": "https://lh3.googleusercontent.com/a/default-user=s64",
      "userId": "03877505905935419968"
     },
     "user_tz": -180
    },
    "id": "r3GLKjdmcbLk",
    "outputId": "11787be1-594b-4043-c6bb-8d300b94204e"
   },
   "outputs": [
    {
     "name": "stdout",
     "output_type": "stream",
     "text": [
      "1/1 [==============================] - 0s 9ms/step\n"
     ]
    },
    {
     "data": {
      "text/plain": [
       "tensor(-0.7862, device='cuda:0')"
      ]
     },
     "execution_count": 39,
     "metadata": {},
     "output_type": "execute_result"
    }
   ],
   "source": [
    "encode_data(['hi'], FROZEN_BERT, 1)[0][0]"
   ]
  },
  {
   "cell_type": "code",
   "execution_count": null,
   "metadata": {
    "colab": {
     "base_uri": "https://localhost:8080/"
    },
    "executionInfo": {
     "elapsed": 303,
     "status": "ok",
     "timestamp": 1635705211781,
     "user": {
      "displayName": "Олег Дмитриевич Сомов",
      "photoUrl": "https://lh3.googleusercontent.com/a/default-user=s64",
      "userId": "03877505905935419968"
     },
     "user_tz": -180
    },
    "id": "gfztm0j0eERZ",
    "outputId": "6b2b771b-dd5e-4e36-820f-3b9ce8ecf3cc"
   },
   "outputs": [
    {
     "name": "stdout",
     "output_type": "stream",
     "text": [
      "1/1 [==============================] - 0s 9ms/step\n"
     ]
    },
    {
     "data": {
      "text/plain": [
       "tensor(-0.7995, device='cuda:0')"
      ]
     },
     "execution_count": 40,
     "metadata": {},
     "output_type": "execute_result"
    }
   ],
   "source": [
    "encode_data(['hi'], metric_bert.bert, 1)[0][0]"
   ]
  },
  {
   "cell_type": "code",
   "execution_count": null,
   "metadata": {
    "id": "X9BliwIkVFgQ"
   },
   "outputs": [],
   "source": [
    "finetuned_bert_to_save = metric_bert.bert.module if hasattr(metric_bert.bert, 'module') else metric_bert.bert  \n",
    "finetuned_bert_to_save.save_pretrained('training_result/oos_finetuned_bert')"
   ]
  },
  {
   "cell_type": "markdown",
   "metadata": {
    "id": "JRLsII1sEzc-"
   },
   "source": [
    "After we have seen that our loss moved to plateau, lets learn KNN classifier on top of the new learned embeddings."
   ]
  },
  {
   "cell_type": "code",
   "execution_count": null,
   "metadata": {
    "colab": {
     "base_uri": "https://localhost:8080/"
    },
    "executionInfo": {
     "elapsed": 419183,
     "status": "ok",
     "timestamp": 1635705696503,
     "user": {
      "displayName": "Олег Дмитриевич Сомов",
      "photoUrl": "https://lh3.googleusercontent.com/a/default-user=s64",
      "userId": "03877505905935419968"
     },
     "user_tz": -180
    },
    "id": "0MslCUephcGU",
    "outputId": "eae7e8e5-9a6f-4cd2-e907-b5ca401a695b"
   },
   "outputs": [
    {
     "name": "stdout",
     "output_type": "stream",
     "text": [
      "210/210 [==============================] - 226s 1s/step\n",
      "211/210 [==============================] - 227s 1s/step\n",
      "Train shape:  torch.Size([13500, 768])\n",
      "70/70 [==============================] - 73s 1s/step\n",
      "71/70 [==============================] - 74s 1s/step\n",
      "Val shape:  torch.Size([4500, 768])\n",
      "53/53 [==============================] - 55s 1s/step\n",
      "54/53 [==============================] - 56s 1s/step\n",
      "Seen test shape:  torch.Size([3420, 768])\n",
      "35/35 [==============================] - 35s 1s/step\n",
      "36/35 [==============================] - 36s 1s/step\n",
      "Unseen test shape:  torch.Size([2280, 768])\n"
     ]
    }
   ],
   "source": [
    "new_train_embeddings = encode_data(train_df['intents'].to_list(), metric_bert.bert, 64)\n",
    "print('Train shape: ', new_train_embeddings.shape)\n",
    "\n",
    "new_val_embeddings = encode_data(val_df['intents'].to_list(), metric_bert.bert, 64)\n",
    "print('Val shape: ', new_val_embeddings.shape)\n",
    "\n",
    "new_seen_test_embeddings = encode_data(seen_test_df['intents'].to_list(), metric_bert.bert, 64)\n",
    "print('Seen test shape: ',new_seen_test_embeddings.shape)\n",
    "\n",
    "new_unseen_test_embeddings = encode_data(unseen_test_df['intents'].to_list(), metric_bert.bert, 64)\n",
    "print('Unseen test shape: ',new_unseen_test_embeddings.shape)"
   ]
  },
  {
   "cell_type": "code",
   "execution_count": null,
   "metadata": {
    "id": "4Nhs_moSik88"
   },
   "outputs": [],
   "source": []
  },
  {
   "cell_type": "code",
   "execution_count": null,
   "metadata": {
    "colab": {
     "base_uri": "https://localhost:8080/"
    },
    "executionInfo": {
     "elapsed": 366,
     "status": "ok",
     "timestamp": 1635705699885,
     "user": {
      "displayName": "Олег Дмитриевич Сомов",
      "photoUrl": "https://lh3.googleusercontent.com/a/default-user=s64",
      "userId": "03877505905935419968"
     },
     "user_tz": -180
    },
    "id": "UUJUXqVahU0v",
    "outputId": "d4c6ff41-21c5-453a-9d7b-5d9b94222064"
   },
   "outputs": [
    {
     "data": {
      "text/plain": [
       "((21420, 768), 21420)"
      ]
     },
     "execution_count": 44,
     "metadata": {},
     "output_type": "execute_result"
    }
   ],
   "source": [
    "new_storage_embeddings = np.concatenate([new_train_embeddings.cpu().detach().numpy(), \n",
    "                                new_val_embeddings.cpu().detach().numpy(),\n",
    "                                new_seen_test_embeddings.cpu().detach().numpy()], axis=0)\n",
    "classes_array = train_df['targets'].to_list() + val_df['targets'].to_list() + seen_test_df['targets'].to_list()\n",
    "new_storage_embeddings.shape, len(classes_array)"
   ]
  },
  {
   "cell_type": "code",
   "execution_count": null,
   "metadata": {
    "colab": {
     "base_uri": "https://localhost:8080/",
     "height": 35
    },
    "executionInfo": {
     "elapsed": 283,
     "status": "ok",
     "timestamp": 1635705701889,
     "user": {
      "displayName": "Олег Дмитриевич Сомов",
      "photoUrl": "https://lh3.googleusercontent.com/a/default-user=s64",
      "userId": "03877505905935419968"
     },
     "user_tz": -180
    },
    "id": "bmD_x4UrhNEM",
    "outputId": "e7fb4fd6-589c-41a4-b71e-15c9136afb98"
   },
   "outputs": [
    {
     "data": {
      "application/vnd.google.colaboratory.intrinsic+json": {
       "type": "string"
      },
      "text/plain": [
       "'how_old_are_you'"
      ]
     },
     "execution_count": 45,
     "metadata": {},
     "output_type": "execute_result"
    }
   ],
   "source": [
    "knn_index = KnnIndex(new_storage_embeddings, classes_array, metric_bert.bert)\n",
    "knn_index.search_index('how old are you')"
   ]
  },
  {
   "cell_type": "code",
   "execution_count": null,
   "metadata": {
    "colab": {
     "base_uri": "https://localhost:8080/"
    },
    "executionInfo": {
     "elapsed": 103539,
     "status": "ok",
     "timestamp": 1635705808692,
     "user": {
      "displayName": "Олег Дмитриевич Сомов",
      "photoUrl": "https://lh3.googleusercontent.com/a/default-user=s64",
      "userId": "03877505905935419968"
     },
     "user_tz": -180
    },
    "id": "GzIz9a52hN0R",
    "outputId": "a6c5813d-7276-420c-82e3-ed5365f7ae98"
   },
   "outputs": [
    {
     "name": "stdout",
     "output_type": "stream",
     "text": [
      "2280/2280 [==============================] - 103s 45ms/step\n",
      "                        precision    recall  f1-score   support\n",
      "\n",
      "                 alarm       0.94      0.90      0.92        52\n",
      "                cancel       0.52      0.79      0.63        39\n",
      "    cancel_reservation       0.56      0.88      0.68        34\n",
      "         card_declined       0.72      0.89      0.80        47\n",
      "        change_ai_name       0.67      0.92      0.78        38\n",
      "          change_speed       0.69      0.94      0.79        47\n",
      "            directions       0.51      0.85      0.64        34\n",
      "      do_you_have_pets       1.00      0.98      0.99        60\n",
      "         flight_status       0.84      0.98      0.91        54\n",
      "        freeze_account       0.69      0.95      0.80        42\n",
      "              fun_fact       0.57      0.70      0.63        61\n",
      "      ingredients_list       0.54      0.90      0.67        40\n",
      "      insurance_change       0.77      0.94      0.85        54\n",
      "       meal_suggestion       0.68      0.93      0.79        45\n",
      "measurement_conversion       0.79      0.94      0.86        53\n",
      "         misclassified       0.00      0.00      0.00       751\n",
      "                   mpg       0.77      0.94      0.85        54\n",
      "              new_card       0.65      0.91      0.76        46\n",
      "                   oos       0.22      0.86      0.36       126\n",
      "          order_checks       0.89      0.89      0.89        54\n",
      "        redeem_rewards       0.42      0.71      0.52        31\n",
      "      report_lost_card       0.52      0.84      0.64        31\n",
      "         shopping_list       0.77      0.92      0.84        60\n",
      "           sync_device       0.83      0.97      0.89        60\n",
      "                  text       0.54      0.81      0.64        36\n",
      "                 timer       0.86      0.90      0.88        48\n",
      "      todo_list_update       0.52      0.70      0.59        47\n",
      "              transfer       0.82      0.96      0.89        49\n",
      "             translate       0.63      0.91      0.74        43\n",
      "       update_playlist       0.83      1.00      0.91        53\n",
      "                    w2       0.66      0.78      0.71        45\n",
      "          whisper_mode       0.76      0.96      0.85        46\n",
      "\n",
      "              accuracy                           0.60      2280\n",
      "             macro avg       0.66      0.86      0.74      2280\n",
      "          weighted avg       0.45      0.60      0.51      2280\n",
      "\n"
     ]
    }
   ],
   "source": [
    "#lets evaluate\n",
    "preds = []\n",
    "bar = Progbar(len(unseen_test_df))\n",
    "test_intents = set(unseen_test_df['targets'].to_list())\n",
    "for sample in unseen_test_df['intents'].to_list():\n",
    "  pred_class = knn_index.search_index(sample)\n",
    "  if pred_class in test_intents:\n",
    "    preds.append(pred_class)\n",
    "  else:\n",
    "    preds.append('misclassified')\n",
    "  bar.add(1)\n",
    "\n",
    "print(classification_report(preds, unseen_test_df['targets'].tolist()))"
   ]
  },
  {
   "cell_type": "code",
   "execution_count": null,
   "metadata": {
    "id": "cNPZl6FLhOFa"
   },
   "outputs": [],
   "source": []
  },
  {
   "cell_type": "code",
   "execution_count": null,
   "metadata": {
    "colab": {
     "base_uri": "https://localhost:8080/"
    },
    "executionInfo": {
     "elapsed": 247,
     "status": "ok",
     "timestamp": 1635705862572,
     "user": {
      "displayName": "Олег Дмитриевич Сомов",
      "photoUrl": "https://lh3.googleusercontent.com/a/default-user=s64",
      "userId": "03877505905935419968"
     },
     "user_tz": -180
    },
    "id": "amzONSnfum-X",
    "outputId": "3e34c678-db6f-4c70-f429-70c13eb0e0d5"
   },
   "outputs": [
    {
     "name": "stdout",
     "output_type": "stream",
     "text": [
      "1/1 [==============================] - 0s 10ms/step\n",
      "1/1 [==============================] - 0s 9ms/step\n",
      "frozen bert:  tensor([-0.9013, -0.6201, -0.9820,  0.8580,  0.8900], device='cuda:0')\n",
      "finetuned bert:  tensor([-0.9553, -0.3056, -0.9712,  0.8568,  0.4813], device='cuda:0')\n"
     ]
    }
   ],
   "source": [
    "old_encoded_test_data = encode_data(['Hi, my name is Oleg'], FROZEN_BERT, 1)\n",
    "new_encoded_test_data = encode_data(['Hi, my name is Oleg'], metric_bert.bert, 1)\n",
    "\n",
    "print('frozen bert: ', old_encoded_test_data[0][:5])\n",
    "print('finetuned bert: ', new_encoded_test_data[0][:5])"
   ]
  },
  {
   "cell_type": "code",
   "execution_count": null,
   "metadata": {
    "colab": {
     "base_uri": "https://localhost:8080/",
     "height": 1000
    },
    "executionInfo": {
     "elapsed": 30542,
     "status": "ok",
     "timestamp": 1635705897627,
     "user": {
      "displayName": "Олег Дмитриевич Сомов",
      "photoUrl": "https://lh3.googleusercontent.com/a/default-user=s64",
      "userId": "03877505905935419968"
     },
     "user_tz": -180
    },
    "id": "irHcoy8HRSeP",
    "outputId": "65b96baf-6825-4b4e-9198-cd7ab821449c"
   },
   "outputs": [
    {
     "data": {
      "image/png": "[encoded data removed]",
      "text/plain": [
       "<Figure size 2160x1728 with 2 Axes>"
      ]
     },
     "metadata": {
      "needs_background": "light"
     },
     "output_type": "display_data"
    },
    {
     "name": "stdout",
     "output_type": "stream",
     "text": [
      "CPU times: user 1min 18s, sys: 169 ms, total: 1min 18s\n",
      "Wall time: 29.5 s\n"
     ]
    }
   ],
   "source": [
    "%%time\n",
    "from sklearn.manifold import TSNE\n",
    "plt.figure(figsize=(30,24))\n",
    "\n",
    "tsne = TSNE()\n",
    "train_classes_indexes = get_indexes_of_samples(unseen_test_df['targets'].tolist())\n",
    "\n",
    "tsne_original_bert_val_emb = tsne.fit_transform(unseen_test_embeddings.cpu())\n",
    "tsne_pretrained_bert_val_emb = tsne.fit_transform(new_unseen_test_embeddings.cpu())\n",
    "\n",
    "\n",
    "plt.subplot(2, 1, 1), plt.title('Original embeddings TSNE'), plt.grid()\n",
    "for key, val in train_classes_indexes.items():\n",
    "    plt.scatter(x=tsne_original_bert_val_emb[val,0],y=tsne_original_bert_val_emb[val,1],label=key)\n",
    "\n",
    "plt.subplot(2, 1, 2), plt.title('Pretrained embeddings TSNE'), plt.grid()\n",
    "for key, val in train_classes_indexes.items():\n",
    "    plt.scatter(x=tsne_pretrained_bert_val_emb[val,0],y=tsne_pretrained_bert_val_emb[val,1],label=key)\n",
    "\n",
    "plt.show()"
   ]
  },
  {
   "cell_type": "code",
   "execution_count": null,
   "metadata": {
    "id": "zIGUps9b6SXI"
   },
   "outputs": [],
   "source": []
  }
 ],
 "metadata": {
  "accelerator": "GPU",
  "colab": {
   "authorship_tag": "ABX9TyOCRuIEkNk39qASjb4Owxg5",
   "collapsed_sections": [],
   "machine_shape": "hm",
   "name": "Metric Learning for BERT.ipynb",
   "provenance": []
  },
  "kernelspec": {
   "display_name": "Python 3 (ipykernel)",
   "language": "python",
   "name": "python3"
  },
  "language_info": {
   "codemirror_mode": {
    "name": "ipython",
    "version": 3
   },
   "file_extension": ".py",
   "mimetype": "text/x-python",
   "name": "python",
   "nbconvert_exporter": "python",
   "pygments_lexer": "ipython3",
   "version": "3.9.7"
  },
  "widgets": {
   "application/vnd.jupyter.widget-state+json": {
    "016377aaf08b4c6986b50d70b026051a": {
     "model_module": "@jupyter-widgets/controls",
     "model_module_version": "1.5.0",
     "model_name": "DescriptionStyleModel",
     "state": {
      "_model_module": "@jupyter-widgets/controls",
      "_model_module_version": "1.5.0",
      "_model_name": "DescriptionStyleModel",
      "_view_count": null,
      "_view_module": "@jupyter-widgets/base",
      "_view_module_version": "1.2.0",
      "_view_name": "StyleView",
      "description_width": ""
     }
    },
    "048e47b7a4a044d8bd4bb37d687995f2": {
     "model_module": "@jupyter-widgets/controls",
     "model_module_version": "1.5.0",
     "model_name": "HTMLModel",
     "state": {
      "_dom_classes": [],
      "_model_module": "@jupyter-widgets/controls",
      "_model_module_version": "1.5.0",
      "_model_name": "HTMLModel",
      "_view_count": null,
      "_view_module": "@jupyter-widgets/controls",
      "_view_module_version": "1.5.0",
      "_view_name": "HTMLView",
      "description": "",
      "description_tooltip": null,
      "layout": "IPY_MODEL_dfa8aee408ce4dda957bf4c8495b4600",
      "placeholder": "​",
      "style": "IPY_MODEL_27fd7e4cf1ce4d44ab1421659d7adf7b",
      "value": "Downloading: 100%"
     }
    },
    "05ae7684176549708fcdba7c9aa53259": {
     "model_module": "@jupyter-widgets/base",
     "model_module_version": "1.2.0",
     "model_name": "LayoutModel",
     "state": {
      "_model_module": "@jupyter-widgets/base",
      "_model_module_version": "1.2.0",
      "_model_name": "LayoutModel",
      "_view_count": null,
      "_view_module": "@jupyter-widgets/base",
      "_view_module_version": "1.2.0",
      "_view_name": "LayoutView",
      "align_content": null,
      "align_items": null,
      "align_self": null,
      "border": null,
      "bottom": null,
      "display": null,
      "flex": null,
      "flex_flow": null,
      "grid_area": null,
      "grid_auto_columns": null,
      "grid_auto_flow": null,
      "grid_auto_rows": null,
      "grid_column": null,
      "grid_gap": null,
      "grid_row": null,
      "grid_template_areas": null,
      "grid_template_columns": null,
      "grid_template_rows": null,
      "height": null,
      "justify_content": null,
      "justify_items": null,
      "left": null,
      "margin": null,
      "max_height": null,
      "max_width": null,
      "min_height": null,
      "min_width": null,
      "object_fit": null,
      "object_position": null,
      "order": null,
      "overflow": null,
      "overflow_x": null,
      "overflow_y": null,
      "padding": null,
      "right": null,
      "top": null,
      "visibility": null,
      "width": null
     }
    },
    "0607ca95d67c468d8683e91d389ba2f1": {
     "model_module": "@jupyter-widgets/controls",
     "model_module_version": "1.5.0",
     "model_name": "DescriptionStyleModel",
     "state": {
      "_model_module": "@jupyter-widgets/controls",
      "_model_module_version": "1.5.0",
      "_model_name": "DescriptionStyleModel",
      "_view_count": null,
      "_view_module": "@jupyter-widgets/base",
      "_view_module_version": "1.2.0",
      "_view_name": "StyleView",
      "description_width": ""
     }
    },
    "06e04620d8a64cd188260d5b048d7243": {
     "model_module": "@jupyter-widgets/base",
     "model_module_version": "1.2.0",
     "model_name": "LayoutModel",
     "state": {
      "_model_module": "@jupyter-widgets/base",
      "_model_module_version": "1.2.0",
      "_model_name": "LayoutModel",
      "_view_count": null,
      "_view_module": "@jupyter-widgets/base",
      "_view_module_version": "1.2.0",
      "_view_name": "LayoutView",
      "align_content": null,
      "align_items": null,
      "align_self": null,
      "border": null,
      "bottom": null,
      "display": null,
      "flex": null,
      "flex_flow": null,
      "grid_area": null,
      "grid_auto_columns": null,
      "grid_auto_flow": null,
      "grid_auto_rows": null,
      "grid_column": null,
      "grid_gap": null,
      "grid_row": null,
      "grid_template_areas": null,
      "grid_template_columns": null,
      "grid_template_rows": null,
      "height": null,
      "justify_content": null,
      "justify_items": null,
      "left": null,
      "margin": null,
      "max_height": null,
      "max_width": null,
      "min_height": null,
      "min_width": null,
      "object_fit": null,
      "object_position": null,
      "order": null,
      "overflow": null,
      "overflow_x": null,
      "overflow_y": null,
      "padding": null,
      "right": null,
      "top": null,
      "visibility": null,
      "width": null
     }
    },
    "0be9156cb916492fa37e90cab8fda852": {
     "model_module": "@jupyter-widgets/controls",
     "model_module_version": "1.5.0",
     "model_name": "ProgressStyleModel",
     "state": {
      "_model_module": "@jupyter-widgets/controls",
      "_model_module_version": "1.5.0",
      "_model_name": "ProgressStyleModel",
      "_view_count": null,
      "_view_module": "@jupyter-widgets/base",
      "_view_module_version": "1.2.0",
      "_view_name": "StyleView",
      "bar_color": null,
      "description_width": ""
     }
    },
    "0c54f487a224483a931a9e962fe65068": {
     "model_module": "@jupyter-widgets/controls",
     "model_module_version": "1.5.0",
     "model_name": "ProgressStyleModel",
     "state": {
      "_model_module": "@jupyter-widgets/controls",
      "_model_module_version": "1.5.0",
      "_model_name": "ProgressStyleModel",
      "_view_count": null,
      "_view_module": "@jupyter-widgets/base",
      "_view_module_version": "1.2.0",
      "_view_name": "StyleView",
      "bar_color": null,
      "description_width": ""
     }
    },
    "11a596128c5a41a488635b8a5c361869": {
     "model_module": "@jupyter-widgets/controls",
     "model_module_version": "1.5.0",
     "model_name": "HTMLModel",
     "state": {
      "_dom_classes": [],
      "_model_module": "@jupyter-widgets/controls",
      "_model_module_version": "1.5.0",
      "_model_name": "HTMLModel",
      "_view_count": null,
      "_view_module": "@jupyter-widgets/controls",
      "_view_module_version": "1.5.0",
      "_view_name": "HTMLView",
      "description": "",
      "description_tooltip": null,
      "layout": "IPY_MODEL_257087da6faf40a7bc73edaf0e7a4b76",
      "placeholder": "​",
      "style": "IPY_MODEL_2e9edd92e3ee49c680cde0ba32693a1e",
      "value": "Downloading: 100%"
     }
    },
    "1715cc323d0348e8aab521fd7ed72c3c": {
     "model_module": "@jupyter-widgets/controls",
     "model_module_version": "1.5.0",
     "model_name": "HTMLModel",
     "state": {
      "_dom_classes": [],
      "_model_module": "@jupyter-widgets/controls",
      "_model_module_version": "1.5.0",
      "_model_name": "HTMLModel",
      "_view_count": null,
      "_view_module": "@jupyter-widgets/controls",
      "_view_module_version": "1.5.0",
      "_view_name": "HTMLView",
      "description": "",
      "description_tooltip": null,
      "layout": "IPY_MODEL_86696c48f72c4b9e85ba11e120a82568",
      "placeholder": "​",
      "style": "IPY_MODEL_7cd1e0cf10074c669140dec626e2b6d2",
      "value": " 28.0/28.0 [00:00&lt;00:00, 1.16kB/s]"
     }
    },
    "1910fd776d884d32bb5b3e5accecdc1e": {
     "model_module": "@jupyter-widgets/base",
     "model_module_version": "1.2.0",
     "model_name": "LayoutModel",
     "state": {
      "_model_module": "@jupyter-widgets/base",
      "_model_module_version": "1.2.0",
      "_model_name": "LayoutModel",
      "_view_count": null,
      "_view_module": "@jupyter-widgets/base",
      "_view_module_version": "1.2.0",
      "_view_name": "LayoutView",
      "align_content": null,
      "align_items": null,
      "align_self": null,
      "border": null,
      "bottom": null,
      "display": null,
      "flex": null,
      "flex_flow": null,
      "grid_area": null,
      "grid_auto_columns": null,
      "grid_auto_flow": null,
      "grid_auto_rows": null,
      "grid_column": null,
      "grid_gap": null,
      "grid_row": null,
      "grid_template_areas": null,
      "grid_template_columns": null,
      "grid_template_rows": null,
      "height": null,
      "justify_content": null,
      "justify_items": null,
      "left": null,
      "margin": null,
      "max_height": null,
      "max_width": null,
      "min_height": null,
      "min_width": null,
      "object_fit": null,
      "object_position": null,
      "order": null,
      "overflow": null,
      "overflow_x": null,
      "overflow_y": null,
      "padding": null,
      "right": null,
      "top": null,
      "visibility": null,
      "width": null
     }
    },
    "1b325a57b5e34e85af26253c311f3111": {
     "model_module": "@jupyter-widgets/controls",
     "model_module_version": "1.5.0",
     "model_name": "DescriptionStyleModel",
     "state": {
      "_model_module": "@jupyter-widgets/controls",
      "_model_module_version": "1.5.0",
      "_model_name": "DescriptionStyleModel",
      "_view_count": null,
      "_view_module": "@jupyter-widgets/base",
      "_view_module_version": "1.2.0",
      "_view_name": "StyleView",
      "description_width": ""
     }
    },
    "1f72de080c384701b1f8e824194dd384": {
     "model_module": "@jupyter-widgets/controls",
     "model_module_version": "1.5.0",
     "model_name": "FloatProgressModel",
     "state": {
      "_dom_classes": [],
      "_model_module": "@jupyter-widgets/controls",
      "_model_module_version": "1.5.0",
      "_model_name": "FloatProgressModel",
      "_view_count": null,
      "_view_module": "@jupyter-widgets/controls",
      "_view_module_version": "1.5.0",
      "_view_name": "ProgressView",
      "bar_style": "success",
      "description": "",
      "description_tooltip": null,
      "layout": "IPY_MODEL_2b289d380f2e437982559cbbc36b8616",
      "max": 466062,
      "min": 0,
      "orientation": "horizontal",
      "style": "IPY_MODEL_5c8a1fc0566d43628ddd045880c4df89",
      "value": 466062
     }
    },
    "257087da6faf40a7bc73edaf0e7a4b76": {
     "model_module": "@jupyter-widgets/base",
     "model_module_version": "1.2.0",
     "model_name": "LayoutModel",
     "state": {
      "_model_module": "@jupyter-widgets/base",
      "_model_module_version": "1.2.0",
      "_model_name": "LayoutModel",
      "_view_count": null,
      "_view_module": "@jupyter-widgets/base",
      "_view_module_version": "1.2.0",
      "_view_name": "LayoutView",
      "align_content": null,
      "align_items": null,
      "align_self": null,
      "border": null,
      "bottom": null,
      "display": null,
      "flex": null,
      "flex_flow": null,
      "grid_area": null,
      "grid_auto_columns": null,
      "grid_auto_flow": null,
      "grid_auto_rows": null,
      "grid_column": null,
      "grid_gap": null,
      "grid_row": null,
      "grid_template_areas": null,
      "grid_template_columns": null,
      "grid_template_rows": null,
      "height": null,
      "justify_content": null,
      "justify_items": null,
      "left": null,
      "margin": null,
      "max_height": null,
      "max_width": null,
      "min_height": null,
      "min_width": null,
      "object_fit": null,
      "object_position": null,
      "order": null,
      "overflow": null,
      "overflow_x": null,
      "overflow_y": null,
      "padding": null,
      "right": null,
      "top": null,
      "visibility": null,
      "width": null
     }
    },
    "27fd7e4cf1ce4d44ab1421659d7adf7b": {
     "model_module": "@jupyter-widgets/controls",
     "model_module_version": "1.5.0",
     "model_name": "DescriptionStyleModel",
     "state": {
      "_model_module": "@jupyter-widgets/controls",
      "_model_module_version": "1.5.0",
      "_model_name": "DescriptionStyleModel",
      "_view_count": null,
      "_view_module": "@jupyter-widgets/base",
      "_view_module_version": "1.2.0",
      "_view_name": "StyleView",
      "description_width": ""
     }
    },
    "295eccd2a7664fcea35d4556ba0956fb": {
     "model_module": "@jupyter-widgets/controls",
     "model_module_version": "1.5.0",
     "model_name": "HTMLModel",
     "state": {
      "_dom_classes": [],
      "_model_module": "@jupyter-widgets/controls",
      "_model_module_version": "1.5.0",
      "_model_name": "HTMLModel",
      "_view_count": null,
      "_view_module": "@jupyter-widgets/controls",
      "_view_module_version": "1.5.0",
      "_view_name": "HTMLView",
      "description": "",
      "description_tooltip": null,
      "layout": "IPY_MODEL_ad0056e83a824742b2a68a84cde0fb20",
      "placeholder": "​",
      "style": "IPY_MODEL_1b325a57b5e34e85af26253c311f3111",
      "value": " 420M/420M [00:07&lt;00:00, 55.2MB/s]"
     }
    },
    "2b289d380f2e437982559cbbc36b8616": {
     "model_module": "@jupyter-widgets/base",
     "model_module_version": "1.2.0",
     "model_name": "LayoutModel",
     "state": {
      "_model_module": "@jupyter-widgets/base",
      "_model_module_version": "1.2.0",
      "_model_name": "LayoutModel",
      "_view_count": null,
      "_view_module": "@jupyter-widgets/base",
      "_view_module_version": "1.2.0",
      "_view_name": "LayoutView",
      "align_content": null,
      "align_items": null,
      "align_self": null,
      "border": null,
      "bottom": null,
      "display": null,
      "flex": null,
      "flex_flow": null,
      "grid_area": null,
      "grid_auto_columns": null,
      "grid_auto_flow": null,
      "grid_auto_rows": null,
      "grid_column": null,
      "grid_gap": null,
      "grid_row": null,
      "grid_template_areas": null,
      "grid_template_columns": null,
      "grid_template_rows": null,
      "height": null,
      "justify_content": null,
      "justify_items": null,
      "left": null,
      "margin": null,
      "max_height": null,
      "max_width": null,
      "min_height": null,
      "min_width": null,
      "object_fit": null,
      "object_position": null,
      "order": null,
      "overflow": null,
      "overflow_x": null,
      "overflow_y": null,
      "padding": null,
      "right": null,
      "top": null,
      "visibility": null,
      "width": null
     }
    },
    "2e9edd92e3ee49c680cde0ba32693a1e": {
     "model_module": "@jupyter-widgets/controls",
     "model_module_version": "1.5.0",
     "model_name": "DescriptionStyleModel",
     "state": {
      "_model_module": "@jupyter-widgets/controls",
      "_model_module_version": "1.5.0",
      "_model_name": "DescriptionStyleModel",
      "_view_count": null,
      "_view_module": "@jupyter-widgets/base",
      "_view_module_version": "1.2.0",
      "_view_name": "StyleView",
      "description_width": ""
     }
    },
    "3629cdcbe61f42c982332af84f651915": {
     "model_module": "@jupyter-widgets/controls",
     "model_module_version": "1.5.0",
     "model_name": "FloatProgressModel",
     "state": {
      "_dom_classes": [],
      "_model_module": "@jupyter-widgets/controls",
      "_model_module_version": "1.5.0",
      "_model_name": "FloatProgressModel",
      "_view_count": null,
      "_view_module": "@jupyter-widgets/controls",
      "_view_module_version": "1.5.0",
      "_view_name": "ProgressView",
      "bar_style": "success",
      "description": "",
      "description_tooltip": null,
      "layout": "IPY_MODEL_9eef4a5ac89d41128845510341e47a76",
      "max": 570,
      "min": 0,
      "orientation": "horizontal",
      "style": "IPY_MODEL_0c54f487a224483a931a9e962fe65068",
      "value": 570
     }
    },
    "3d6d2d8a2bec4da1bae75ce0801a829e": {
     "model_module": "@jupyter-widgets/base",
     "model_module_version": "1.2.0",
     "model_name": "LayoutModel",
     "state": {
      "_model_module": "@jupyter-widgets/base",
      "_model_module_version": "1.2.0",
      "_model_name": "LayoutModel",
      "_view_count": null,
      "_view_module": "@jupyter-widgets/base",
      "_view_module_version": "1.2.0",
      "_view_name": "LayoutView",
      "align_content": null,
      "align_items": null,
      "align_self": null,
      "border": null,
      "bottom": null,
      "display": null,
      "flex": null,
      "flex_flow": null,
      "grid_area": null,
      "grid_auto_columns": null,
      "grid_auto_flow": null,
      "grid_auto_rows": null,
      "grid_column": null,
      "grid_gap": null,
      "grid_row": null,
      "grid_template_areas": null,
      "grid_template_columns": null,
      "grid_template_rows": null,
      "height": null,
      "justify_content": null,
      "justify_items": null,
      "left": null,
      "margin": null,
      "max_height": null,
      "max_width": null,
      "min_height": null,
      "min_width": null,
      "object_fit": null,
      "object_position": null,
      "order": null,
      "overflow": null,
      "overflow_x": null,
      "overflow_y": null,
      "padding": null,
      "right": null,
      "top": null,
      "visibility": null,
      "width": null
     }
    },
    "3e283c698b364cb7844c7e9e400606b5": {
     "model_module": "@jupyter-widgets/controls",
     "model_module_version": "1.5.0",
     "model_name": "HBoxModel",
     "state": {
      "_dom_classes": [],
      "_model_module": "@jupyter-widgets/controls",
      "_model_module_version": "1.5.0",
      "_model_name": "HBoxModel",
      "_view_count": null,
      "_view_module": "@jupyter-widgets/controls",
      "_view_module_version": "1.5.0",
      "_view_name": "HBoxView",
      "box_style": "",
      "children": [
       "IPY_MODEL_d2aee5f5aedb4ded840651505dcbb0a3",
       "IPY_MODEL_8dfc9d65cc484e3aa9ea5d0333e4364c",
       "IPY_MODEL_295eccd2a7664fcea35d4556ba0956fb"
      ],
      "layout": "IPY_MODEL_d23958f71a4145be8c6ef5ff49935a88"
     }
    },
    "40a196cc153c4e52a6068a0e7024edf1": {
     "model_module": "@jupyter-widgets/controls",
     "model_module_version": "1.5.0",
     "model_name": "DescriptionStyleModel",
     "state": {
      "_model_module": "@jupyter-widgets/controls",
      "_model_module_version": "1.5.0",
      "_model_name": "DescriptionStyleModel",
      "_view_count": null,
      "_view_module": "@jupyter-widgets/base",
      "_view_module_version": "1.2.0",
      "_view_name": "StyleView",
      "description_width": ""
     }
    },
    "4a81874fb5004a3fb21c1ef31510261b": {
     "model_module": "@jupyter-widgets/controls",
     "model_module_version": "1.5.0",
     "model_name": "HTMLModel",
     "state": {
      "_dom_classes": [],
      "_model_module": "@jupyter-widgets/controls",
      "_model_module_version": "1.5.0",
      "_model_name": "HTMLModel",
      "_view_count": null,
      "_view_module": "@jupyter-widgets/controls",
      "_view_module_version": "1.5.0",
      "_view_name": "HTMLView",
      "description": "",
      "description_tooltip": null,
      "layout": "IPY_MODEL_05ae7684176549708fcdba7c9aa53259",
      "placeholder": "​",
      "style": "IPY_MODEL_0607ca95d67c468d8683e91d389ba2f1",
      "value": " 455k/455k [00:00&lt;00:00, 899kB/s]"
     }
    },
    "531295e390c340bfbc2696665bf9bb03": {
     "model_module": "@jupyter-widgets/controls",
     "model_module_version": "1.5.0",
     "model_name": "ProgressStyleModel",
     "state": {
      "_model_module": "@jupyter-widgets/controls",
      "_model_module_version": "1.5.0",
      "_model_name": "ProgressStyleModel",
      "_view_count": null,
      "_view_module": "@jupyter-widgets/base",
      "_view_module_version": "1.2.0",
      "_view_name": "StyleView",
      "bar_color": null,
      "description_width": ""
     }
    },
    "54bdb4fabf8540c7b0f81c60717f0d1a": {
     "model_module": "@jupyter-widgets/base",
     "model_module_version": "1.2.0",
     "model_name": "LayoutModel",
     "state": {
      "_model_module": "@jupyter-widgets/base",
      "_model_module_version": "1.2.0",
      "_model_name": "LayoutModel",
      "_view_count": null,
      "_view_module": "@jupyter-widgets/base",
      "_view_module_version": "1.2.0",
      "_view_name": "LayoutView",
      "align_content": null,
      "align_items": null,
      "align_self": null,
      "border": null,
      "bottom": null,
      "display": null,
      "flex": null,
      "flex_flow": null,
      "grid_area": null,
      "grid_auto_columns": null,
      "grid_auto_flow": null,
      "grid_auto_rows": null,
      "grid_column": null,
      "grid_gap": null,
      "grid_row": null,
      "grid_template_areas": null,
      "grid_template_columns": null,
      "grid_template_rows": null,
      "height": null,
      "justify_content": null,
      "justify_items": null,
      "left": null,
      "margin": null,
      "max_height": null,
      "max_width": null,
      "min_height": null,
      "min_width": null,
      "object_fit": null,
      "object_position": null,
      "order": null,
      "overflow": null,
      "overflow_x": null,
      "overflow_y": null,
      "padding": null,
      "right": null,
      "top": null,
      "visibility": null,
      "width": null
     }
    },
    "57a8a75e5c7d47959c46d7ef4fd435a1": {
     "model_module": "@jupyter-widgets/base",
     "model_module_version": "1.2.0",
     "model_name": "LayoutModel",
     "state": {
      "_model_module": "@jupyter-widgets/base",
      "_model_module_version": "1.2.0",
      "_model_name": "LayoutModel",
      "_view_count": null,
      "_view_module": "@jupyter-widgets/base",
      "_view_module_version": "1.2.0",
      "_view_name": "LayoutView",
      "align_content": null,
      "align_items": null,
      "align_self": null,
      "border": null,
      "bottom": null,
      "display": null,
      "flex": null,
      "flex_flow": null,
      "grid_area": null,
      "grid_auto_columns": null,
      "grid_auto_flow": null,
      "grid_auto_rows": null,
      "grid_column": null,
      "grid_gap": null,
      "grid_row": null,
      "grid_template_areas": null,
      "grid_template_columns": null,
      "grid_template_rows": null,
      "height": null,
      "justify_content": null,
      "justify_items": null,
      "left": null,
      "margin": null,
      "max_height": null,
      "max_width": null,
      "min_height": null,
      "min_width": null,
      "object_fit": null,
      "object_position": null,
      "order": null,
      "overflow": null,
      "overflow_x": null,
      "overflow_y": null,
      "padding": null,
      "right": null,
      "top": null,
      "visibility": null,
      "width": null
     }
    },
    "5a4f0b1b7d1e4678b4898a6c8156ee81": {
     "model_module": "@jupyter-widgets/controls",
     "model_module_version": "1.5.0",
     "model_name": "DescriptionStyleModel",
     "state": {
      "_model_module": "@jupyter-widgets/controls",
      "_model_module_version": "1.5.0",
      "_model_name": "DescriptionStyleModel",
      "_view_count": null,
      "_view_module": "@jupyter-widgets/base",
      "_view_module_version": "1.2.0",
      "_view_name": "StyleView",
      "description_width": ""
     }
    },
    "5c8a1fc0566d43628ddd045880c4df89": {
     "model_module": "@jupyter-widgets/controls",
     "model_module_version": "1.5.0",
     "model_name": "ProgressStyleModel",
     "state": {
      "_model_module": "@jupyter-widgets/controls",
      "_model_module_version": "1.5.0",
      "_model_name": "ProgressStyleModel",
      "_view_count": null,
      "_view_module": "@jupyter-widgets/base",
      "_view_module_version": "1.2.0",
      "_view_name": "StyleView",
      "bar_color": null,
      "description_width": ""
     }
    },
    "61b4dd9044f743a5969a17ba315e9a28": {
     "model_module": "@jupyter-widgets/controls",
     "model_module_version": "1.5.0",
     "model_name": "HTMLModel",
     "state": {
      "_dom_classes": [],
      "_model_module": "@jupyter-widgets/controls",
      "_model_module_version": "1.5.0",
      "_model_name": "HTMLModel",
      "_view_count": null,
      "_view_module": "@jupyter-widgets/controls",
      "_view_module_version": "1.5.0",
      "_view_name": "HTMLView",
      "description": "",
      "description_tooltip": null,
      "layout": "IPY_MODEL_57a8a75e5c7d47959c46d7ef4fd435a1",
      "placeholder": "​",
      "style": "IPY_MODEL_40a196cc153c4e52a6068a0e7024edf1",
      "value": "Downloading: 100%"
     }
    },
    "63a42da7ece94743ac9ea9a960e0b189": {
     "model_module": "@jupyter-widgets/base",
     "model_module_version": "1.2.0",
     "model_name": "LayoutModel",
     "state": {
      "_model_module": "@jupyter-widgets/base",
      "_model_module_version": "1.2.0",
      "_model_name": "LayoutModel",
      "_view_count": null,
      "_view_module": "@jupyter-widgets/base",
      "_view_module_version": "1.2.0",
      "_view_name": "LayoutView",
      "align_content": null,
      "align_items": null,
      "align_self": null,
      "border": null,
      "bottom": null,
      "display": null,
      "flex": null,
      "flex_flow": null,
      "grid_area": null,
      "grid_auto_columns": null,
      "grid_auto_flow": null,
      "grid_auto_rows": null,
      "grid_column": null,
      "grid_gap": null,
      "grid_row": null,
      "grid_template_areas": null,
      "grid_template_columns": null,
      "grid_template_rows": null,
      "height": null,
      "justify_content": null,
      "justify_items": null,
      "left": null,
      "margin": null,
      "max_height": null,
      "max_width": null,
      "min_height": null,
      "min_width": null,
      "object_fit": null,
      "object_position": null,
      "order": null,
      "overflow": null,
      "overflow_x": null,
      "overflow_y": null,
      "padding": null,
      "right": null,
      "top": null,
      "visibility": null,
      "width": null
     }
    },
    "676c67e7bfdf49b3b7390a352484689e": {
     "model_module": "@jupyter-widgets/base",
     "model_module_version": "1.2.0",
     "model_name": "LayoutModel",
     "state": {
      "_model_module": "@jupyter-widgets/base",
      "_model_module_version": "1.2.0",
      "_model_name": "LayoutModel",
      "_view_count": null,
      "_view_module": "@jupyter-widgets/base",
      "_view_module_version": "1.2.0",
      "_view_name": "LayoutView",
      "align_content": null,
      "align_items": null,
      "align_self": null,
      "border": null,
      "bottom": null,
      "display": null,
      "flex": null,
      "flex_flow": null,
      "grid_area": null,
      "grid_auto_columns": null,
      "grid_auto_flow": null,
      "grid_auto_rows": null,
      "grid_column": null,
      "grid_gap": null,
      "grid_row": null,
      "grid_template_areas": null,
      "grid_template_columns": null,
      "grid_template_rows": null,
      "height": null,
      "justify_content": null,
      "justify_items": null,
      "left": null,
      "margin": null,
      "max_height": null,
      "max_width": null,
      "min_height": null,
      "min_width": null,
      "object_fit": null,
      "object_position": null,
      "order": null,
      "overflow": null,
      "overflow_x": null,
      "overflow_y": null,
      "padding": null,
      "right": null,
      "top": null,
      "visibility": null,
      "width": null
     }
    },
    "700dd20f826e489d99dce9af5cb54f8a": {
     "model_module": "@jupyter-widgets/base",
     "model_module_version": "1.2.0",
     "model_name": "LayoutModel",
     "state": {
      "_model_module": "@jupyter-widgets/base",
      "_model_module_version": "1.2.0",
      "_model_name": "LayoutModel",
      "_view_count": null,
      "_view_module": "@jupyter-widgets/base",
      "_view_module_version": "1.2.0",
      "_view_name": "LayoutView",
      "align_content": null,
      "align_items": null,
      "align_self": null,
      "border": null,
      "bottom": null,
      "display": null,
      "flex": null,
      "flex_flow": null,
      "grid_area": null,
      "grid_auto_columns": null,
      "grid_auto_flow": null,
      "grid_auto_rows": null,
      "grid_column": null,
      "grid_gap": null,
      "grid_row": null,
      "grid_template_areas": null,
      "grid_template_columns": null,
      "grid_template_rows": null,
      "height": null,
      "justify_content": null,
      "justify_items": null,
      "left": null,
      "margin": null,
      "max_height": null,
      "max_width": null,
      "min_height": null,
      "min_width": null,
      "object_fit": null,
      "object_position": null,
      "order": null,
      "overflow": null,
      "overflow_x": null,
      "overflow_y": null,
      "padding": null,
      "right": null,
      "top": null,
      "visibility": null,
      "width": null
     }
    },
    "704c6cb34d514038b21a70604e5005d7": {
     "model_module": "@jupyter-widgets/controls",
     "model_module_version": "1.5.0",
     "model_name": "HBoxModel",
     "state": {
      "_dom_classes": [],
      "_model_module": "@jupyter-widgets/controls",
      "_model_module_version": "1.5.0",
      "_model_name": "HBoxModel",
      "_view_count": null,
      "_view_module": "@jupyter-widgets/controls",
      "_view_module_version": "1.5.0",
      "_view_name": "HBoxView",
      "box_style": "",
      "children": [
       "IPY_MODEL_f9f68531e63e48c681a8d4d2f2c506de",
       "IPY_MODEL_dc14e995157e4d549e43332c4e403493",
       "IPY_MODEL_1715cc323d0348e8aab521fd7ed72c3c"
      ],
      "layout": "IPY_MODEL_676c67e7bfdf49b3b7390a352484689e"
     }
    },
    "7ab75aef8b384023935cf93ac18a60ec": {
     "model_module": "@jupyter-widgets/controls",
     "model_module_version": "1.5.0",
     "model_name": "FloatProgressModel",
     "state": {
      "_dom_classes": [],
      "_model_module": "@jupyter-widgets/controls",
      "_model_module_version": "1.5.0",
      "_model_name": "FloatProgressModel",
      "_view_count": null,
      "_view_module": "@jupyter-widgets/controls",
      "_view_module_version": "1.5.0",
      "_view_name": "ProgressView",
      "bar_style": "success",
      "description": "",
      "description_tooltip": null,
      "layout": "IPY_MODEL_b6af28417912422fb016550afee6c5ef",
      "max": 231508,
      "min": 0,
      "orientation": "horizontal",
      "style": "IPY_MODEL_0be9156cb916492fa37e90cab8fda852",
      "value": 231508
     }
    },
    "7cd1e0cf10074c669140dec626e2b6d2": {
     "model_module": "@jupyter-widgets/controls",
     "model_module_version": "1.5.0",
     "model_name": "DescriptionStyleModel",
     "state": {
      "_model_module": "@jupyter-widgets/controls",
      "_model_module_version": "1.5.0",
      "_model_name": "DescriptionStyleModel",
      "_view_count": null,
      "_view_module": "@jupyter-widgets/base",
      "_view_module_version": "1.2.0",
      "_view_name": "StyleView",
      "description_width": ""
     }
    },
    "8081cd7e87304f819d3a61bfdfc25fce": {
     "model_module": "@jupyter-widgets/controls",
     "model_module_version": "1.5.0",
     "model_name": "HTMLModel",
     "state": {
      "_dom_classes": [],
      "_model_module": "@jupyter-widgets/controls",
      "_model_module_version": "1.5.0",
      "_model_name": "HTMLModel",
      "_view_count": null,
      "_view_module": "@jupyter-widgets/controls",
      "_view_module_version": "1.5.0",
      "_view_name": "HTMLView",
      "description": "",
      "description_tooltip": null,
      "layout": "IPY_MODEL_06e04620d8a64cd188260d5b048d7243",
      "placeholder": "​",
      "style": "IPY_MODEL_a7b31795a3ee4c12bde02fc21c652ecf",
      "value": " 570/570 [00:00&lt;00:00, 20.1kB/s]"
     }
    },
    "86696c48f72c4b9e85ba11e120a82568": {
     "model_module": "@jupyter-widgets/base",
     "model_module_version": "1.2.0",
     "model_name": "LayoutModel",
     "state": {
      "_model_module": "@jupyter-widgets/base",
      "_model_module_version": "1.2.0",
      "_model_name": "LayoutModel",
      "_view_count": null,
      "_view_module": "@jupyter-widgets/base",
      "_view_module_version": "1.2.0",
      "_view_name": "LayoutView",
      "align_content": null,
      "align_items": null,
      "align_self": null,
      "border": null,
      "bottom": null,
      "display": null,
      "flex": null,
      "flex_flow": null,
      "grid_area": null,
      "grid_auto_columns": null,
      "grid_auto_flow": null,
      "grid_auto_rows": null,
      "grid_column": null,
      "grid_gap": null,
      "grid_row": null,
      "grid_template_areas": null,
      "grid_template_columns": null,
      "grid_template_rows": null,
      "height": null,
      "justify_content": null,
      "justify_items": null,
      "left": null,
      "margin": null,
      "max_height": null,
      "max_width": null,
      "min_height": null,
      "min_width": null,
      "object_fit": null,
      "object_position": null,
      "order": null,
      "overflow": null,
      "overflow_x": null,
      "overflow_y": null,
      "padding": null,
      "right": null,
      "top": null,
      "visibility": null,
      "width": null
     }
    },
    "8dfc9d65cc484e3aa9ea5d0333e4364c": {
     "model_module": "@jupyter-widgets/controls",
     "model_module_version": "1.5.0",
     "model_name": "FloatProgressModel",
     "state": {
      "_dom_classes": [],
      "_model_module": "@jupyter-widgets/controls",
      "_model_module_version": "1.5.0",
      "_model_name": "FloatProgressModel",
      "_view_count": null,
      "_view_module": "@jupyter-widgets/controls",
      "_view_module_version": "1.5.0",
      "_view_name": "ProgressView",
      "bar_style": "success",
      "description": "",
      "description_tooltip": null,
      "layout": "IPY_MODEL_1910fd776d884d32bb5b3e5accecdc1e",
      "max": 440473133,
      "min": 0,
      "orientation": "horizontal",
      "style": "IPY_MODEL_531295e390c340bfbc2696665bf9bb03",
      "value": 440473133
     }
    },
    "9eef4a5ac89d41128845510341e47a76": {
     "model_module": "@jupyter-widgets/base",
     "model_module_version": "1.2.0",
     "model_name": "LayoutModel",
     "state": {
      "_model_module": "@jupyter-widgets/base",
      "_model_module_version": "1.2.0",
      "_model_name": "LayoutModel",
      "_view_count": null,
      "_view_module": "@jupyter-widgets/base",
      "_view_module_version": "1.2.0",
      "_view_name": "LayoutView",
      "align_content": null,
      "align_items": null,
      "align_self": null,
      "border": null,
      "bottom": null,
      "display": null,
      "flex": null,
      "flex_flow": null,
      "grid_area": null,
      "grid_auto_columns": null,
      "grid_auto_flow": null,
      "grid_auto_rows": null,
      "grid_column": null,
      "grid_gap": null,
      "grid_row": null,
      "grid_template_areas": null,
      "grid_template_columns": null,
      "grid_template_rows": null,
      "height": null,
      "justify_content": null,
      "justify_items": null,
      "left": null,
      "margin": null,
      "max_height": null,
      "max_width": null,
      "min_height": null,
      "min_width": null,
      "object_fit": null,
      "object_position": null,
      "order": null,
      "overflow": null,
      "overflow_x": null,
      "overflow_y": null,
      "padding": null,
      "right": null,
      "top": null,
      "visibility": null,
      "width": null
     }
    },
    "a7b31795a3ee4c12bde02fc21c652ecf": {
     "model_module": "@jupyter-widgets/controls",
     "model_module_version": "1.5.0",
     "model_name": "DescriptionStyleModel",
     "state": {
      "_model_module": "@jupyter-widgets/controls",
      "_model_module_version": "1.5.0",
      "_model_name": "DescriptionStyleModel",
      "_view_count": null,
      "_view_module": "@jupyter-widgets/base",
      "_view_module_version": "1.2.0",
      "_view_name": "StyleView",
      "description_width": ""
     }
    },
    "ad0056e83a824742b2a68a84cde0fb20": {
     "model_module": "@jupyter-widgets/base",
     "model_module_version": "1.2.0",
     "model_name": "LayoutModel",
     "state": {
      "_model_module": "@jupyter-widgets/base",
      "_model_module_version": "1.2.0",
      "_model_name": "LayoutModel",
      "_view_count": null,
      "_view_module": "@jupyter-widgets/base",
      "_view_module_version": "1.2.0",
      "_view_name": "LayoutView",
      "align_content": null,
      "align_items": null,
      "align_self": null,
      "border": null,
      "bottom": null,
      "display": null,
      "flex": null,
      "flex_flow": null,
      "grid_area": null,
      "grid_auto_columns": null,
      "grid_auto_flow": null,
      "grid_auto_rows": null,
      "grid_column": null,
      "grid_gap": null,
      "grid_row": null,
      "grid_template_areas": null,
      "grid_template_columns": null,
      "grid_template_rows": null,
      "height": null,
      "justify_content": null,
      "justify_items": null,
      "left": null,
      "margin": null,
      "max_height": null,
      "max_width": null,
      "min_height": null,
      "min_width": null,
      "object_fit": null,
      "object_position": null,
      "order": null,
      "overflow": null,
      "overflow_x": null,
      "overflow_y": null,
      "padding": null,
      "right": null,
      "top": null,
      "visibility": null,
      "width": null
     }
    },
    "ae25691dd31e49e09761286f9f50fac1": {
     "model_module": "@jupyter-widgets/base",
     "model_module_version": "1.2.0",
     "model_name": "LayoutModel",
     "state": {
      "_model_module": "@jupyter-widgets/base",
      "_model_module_version": "1.2.0",
      "_model_name": "LayoutModel",
      "_view_count": null,
      "_view_module": "@jupyter-widgets/base",
      "_view_module_version": "1.2.0",
      "_view_name": "LayoutView",
      "align_content": null,
      "align_items": null,
      "align_self": null,
      "border": null,
      "bottom": null,
      "display": null,
      "flex": null,
      "flex_flow": null,
      "grid_area": null,
      "grid_auto_columns": null,
      "grid_auto_flow": null,
      "grid_auto_rows": null,
      "grid_column": null,
      "grid_gap": null,
      "grid_row": null,
      "grid_template_areas": null,
      "grid_template_columns": null,
      "grid_template_rows": null,
      "height": null,
      "justify_content": null,
      "justify_items": null,
      "left": null,
      "margin": null,
      "max_height": null,
      "max_width": null,
      "min_height": null,
      "min_width": null,
      "object_fit": null,
      "object_position": null,
      "order": null,
      "overflow": null,
      "overflow_x": null,
      "overflow_y": null,
      "padding": null,
      "right": null,
      "top": null,
      "visibility": null,
      "width": null
     }
    },
    "b6af28417912422fb016550afee6c5ef": {
     "model_module": "@jupyter-widgets/base",
     "model_module_version": "1.2.0",
     "model_name": "LayoutModel",
     "state": {
      "_model_module": "@jupyter-widgets/base",
      "_model_module_version": "1.2.0",
      "_model_name": "LayoutModel",
      "_view_count": null,
      "_view_module": "@jupyter-widgets/base",
      "_view_module_version": "1.2.0",
      "_view_name": "LayoutView",
      "align_content": null,
      "align_items": null,
      "align_self": null,
      "border": null,
      "bottom": null,
      "display": null,
      "flex": null,
      "flex_flow": null,
      "grid_area": null,
      "grid_auto_columns": null,
      "grid_auto_flow": null,
      "grid_auto_rows": null,
      "grid_column": null,
      "grid_gap": null,
      "grid_row": null,
      "grid_template_areas": null,
      "grid_template_columns": null,
      "grid_template_rows": null,
      "height": null,
      "justify_content": null,
      "justify_items": null,
      "left": null,
      "margin": null,
      "max_height": null,
      "max_width": null,
      "min_height": null,
      "min_width": null,
      "object_fit": null,
      "object_position": null,
      "order": null,
      "overflow": null,
      "overflow_x": null,
      "overflow_y": null,
      "padding": null,
      "right": null,
      "top": null,
      "visibility": null,
      "width": null
     }
    },
    "bc79606c61e34a099d569b7842707a4b": {
     "model_module": "@jupyter-widgets/controls",
     "model_module_version": "1.5.0",
     "model_name": "HTMLModel",
     "state": {
      "_dom_classes": [],
      "_model_module": "@jupyter-widgets/controls",
      "_model_module_version": "1.5.0",
      "_model_name": "HTMLModel",
      "_view_count": null,
      "_view_module": "@jupyter-widgets/controls",
      "_view_module_version": "1.5.0",
      "_view_name": "HTMLView",
      "description": "",
      "description_tooltip": null,
      "layout": "IPY_MODEL_54bdb4fabf8540c7b0f81c60717f0d1a",
      "placeholder": "​",
      "style": "IPY_MODEL_dba3938cf0794a1294c3d23c86449894",
      "value": " 226k/226k [00:00&lt;00:00, 948kB/s]"
     }
    },
    "c34b88a714024649b3c8ae10360c01be": {
     "model_module": "@jupyter-widgets/base",
     "model_module_version": "1.2.0",
     "model_name": "LayoutModel",
     "state": {
      "_model_module": "@jupyter-widgets/base",
      "_model_module_version": "1.2.0",
      "_model_name": "LayoutModel",
      "_view_count": null,
      "_view_module": "@jupyter-widgets/base",
      "_view_module_version": "1.2.0",
      "_view_name": "LayoutView",
      "align_content": null,
      "align_items": null,
      "align_self": null,
      "border": null,
      "bottom": null,
      "display": null,
      "flex": null,
      "flex_flow": null,
      "grid_area": null,
      "grid_auto_columns": null,
      "grid_auto_flow": null,
      "grid_auto_rows": null,
      "grid_column": null,
      "grid_gap": null,
      "grid_row": null,
      "grid_template_areas": null,
      "grid_template_columns": null,
      "grid_template_rows": null,
      "height": null,
      "justify_content": null,
      "justify_items": null,
      "left": null,
      "margin": null,
      "max_height": null,
      "max_width": null,
      "min_height": null,
      "min_width": null,
      "object_fit": null,
      "object_position": null,
      "order": null,
      "overflow": null,
      "overflow_x": null,
      "overflow_y": null,
      "padding": null,
      "right": null,
      "top": null,
      "visibility": null,
      "width": null
     }
    },
    "c7c7f37994e1412a8402cfb249307849": {
     "model_module": "@jupyter-widgets/controls",
     "model_module_version": "1.5.0",
     "model_name": "HBoxModel",
     "state": {
      "_dom_classes": [],
      "_model_module": "@jupyter-widgets/controls",
      "_model_module_version": "1.5.0",
      "_model_name": "HBoxModel",
      "_view_count": null,
      "_view_module": "@jupyter-widgets/controls",
      "_view_module_version": "1.5.0",
      "_view_name": "HBoxView",
      "box_style": "",
      "children": [
       "IPY_MODEL_11a596128c5a41a488635b8a5c361869",
       "IPY_MODEL_3629cdcbe61f42c982332af84f651915",
       "IPY_MODEL_8081cd7e87304f819d3a61bfdfc25fce"
      ],
      "layout": "IPY_MODEL_63a42da7ece94743ac9ea9a960e0b189"
     }
    },
    "cd172012c711408db79339a74d1851f3": {
     "model_module": "@jupyter-widgets/controls",
     "model_module_version": "1.5.0",
     "model_name": "HBoxModel",
     "state": {
      "_dom_classes": [],
      "_model_module": "@jupyter-widgets/controls",
      "_model_module_version": "1.5.0",
      "_model_name": "HBoxModel",
      "_view_count": null,
      "_view_module": "@jupyter-widgets/controls",
      "_view_module_version": "1.5.0",
      "_view_name": "HBoxView",
      "box_style": "",
      "children": [
       "IPY_MODEL_61b4dd9044f743a5969a17ba315e9a28",
       "IPY_MODEL_7ab75aef8b384023935cf93ac18a60ec",
       "IPY_MODEL_bc79606c61e34a099d569b7842707a4b"
      ],
      "layout": "IPY_MODEL_3d6d2d8a2bec4da1bae75ce0801a829e"
     }
    },
    "d23958f71a4145be8c6ef5ff49935a88": {
     "model_module": "@jupyter-widgets/base",
     "model_module_version": "1.2.0",
     "model_name": "LayoutModel",
     "state": {
      "_model_module": "@jupyter-widgets/base",
      "_model_module_version": "1.2.0",
      "_model_name": "LayoutModel",
      "_view_count": null,
      "_view_module": "@jupyter-widgets/base",
      "_view_module_version": "1.2.0",
      "_view_name": "LayoutView",
      "align_content": null,
      "align_items": null,
      "align_self": null,
      "border": null,
      "bottom": null,
      "display": null,
      "flex": null,
      "flex_flow": null,
      "grid_area": null,
      "grid_auto_columns": null,
      "grid_auto_flow": null,
      "grid_auto_rows": null,
      "grid_column": null,
      "grid_gap": null,
      "grid_row": null,
      "grid_template_areas": null,
      "grid_template_columns": null,
      "grid_template_rows": null,
      "height": null,
      "justify_content": null,
      "justify_items": null,
      "left": null,
      "margin": null,
      "max_height": null,
      "max_width": null,
      "min_height": null,
      "min_width": null,
      "object_fit": null,
      "object_position": null,
      "order": null,
      "overflow": null,
      "overflow_x": null,
      "overflow_y": null,
      "padding": null,
      "right": null,
      "top": null,
      "visibility": null,
      "width": null
     }
    },
    "d2aee5f5aedb4ded840651505dcbb0a3": {
     "model_module": "@jupyter-widgets/controls",
     "model_module_version": "1.5.0",
     "model_name": "HTMLModel",
     "state": {
      "_dom_classes": [],
      "_model_module": "@jupyter-widgets/controls",
      "_model_module_version": "1.5.0",
      "_model_name": "HTMLModel",
      "_view_count": null,
      "_view_module": "@jupyter-widgets/controls",
      "_view_module_version": "1.5.0",
      "_view_name": "HTMLView",
      "description": "",
      "description_tooltip": null,
      "layout": "IPY_MODEL_c34b88a714024649b3c8ae10360c01be",
      "placeholder": "​",
      "style": "IPY_MODEL_5a4f0b1b7d1e4678b4898a6c8156ee81",
      "value": "Downloading: 100%"
     }
    },
    "dba3938cf0794a1294c3d23c86449894": {
     "model_module": "@jupyter-widgets/controls",
     "model_module_version": "1.5.0",
     "model_name": "DescriptionStyleModel",
     "state": {
      "_model_module": "@jupyter-widgets/controls",
      "_model_module_version": "1.5.0",
      "_model_name": "DescriptionStyleModel",
      "_view_count": null,
      "_view_module": "@jupyter-widgets/base",
      "_view_module_version": "1.2.0",
      "_view_name": "StyleView",
      "description_width": ""
     }
    },
    "dc14e995157e4d549e43332c4e403493": {
     "model_module": "@jupyter-widgets/controls",
     "model_module_version": "1.5.0",
     "model_name": "FloatProgressModel",
     "state": {
      "_dom_classes": [],
      "_model_module": "@jupyter-widgets/controls",
      "_model_module_version": "1.5.0",
      "_model_name": "FloatProgressModel",
      "_view_count": null,
      "_view_module": "@jupyter-widgets/controls",
      "_view_module_version": "1.5.0",
      "_view_name": "ProgressView",
      "bar_style": "success",
      "description": "",
      "description_tooltip": null,
      "layout": "IPY_MODEL_ae25691dd31e49e09761286f9f50fac1",
      "max": 28,
      "min": 0,
      "orientation": "horizontal",
      "style": "IPY_MODEL_f3762151d4a04e938b9fa98887517c71",
      "value": 28
     }
    },
    "dfa8aee408ce4dda957bf4c8495b4600": {
     "model_module": "@jupyter-widgets/base",
     "model_module_version": "1.2.0",
     "model_name": "LayoutModel",
     "state": {
      "_model_module": "@jupyter-widgets/base",
      "_model_module_version": "1.2.0",
      "_model_name": "LayoutModel",
      "_view_count": null,
      "_view_module": "@jupyter-widgets/base",
      "_view_module_version": "1.2.0",
      "_view_name": "LayoutView",
      "align_content": null,
      "align_items": null,
      "align_self": null,
      "border": null,
      "bottom": null,
      "display": null,
      "flex": null,
      "flex_flow": null,
      "grid_area": null,
      "grid_auto_columns": null,
      "grid_auto_flow": null,
      "grid_auto_rows": null,
      "grid_column": null,
      "grid_gap": null,
      "grid_row": null,
      "grid_template_areas": null,
      "grid_template_columns": null,
      "grid_template_rows": null,
      "height": null,
      "justify_content": null,
      "justify_items": null,
      "left": null,
      "margin": null,
      "max_height": null,
      "max_width": null,
      "min_height": null,
      "min_width": null,
      "object_fit": null,
      "object_position": null,
      "order": null,
      "overflow": null,
      "overflow_x": null,
      "overflow_y": null,
      "padding": null,
      "right": null,
      "top": null,
      "visibility": null,
      "width": null
     }
    },
    "f3762151d4a04e938b9fa98887517c71": {
     "model_module": "@jupyter-widgets/controls",
     "model_module_version": "1.5.0",
     "model_name": "ProgressStyleModel",
     "state": {
      "_model_module": "@jupyter-widgets/controls",
      "_model_module_version": "1.5.0",
      "_model_name": "ProgressStyleModel",
      "_view_count": null,
      "_view_module": "@jupyter-widgets/base",
      "_view_module_version": "1.2.0",
      "_view_name": "StyleView",
      "bar_color": null,
      "description_width": ""
     }
    },
    "f4387a29dd97449680952a51e1c39f94": {
     "model_module": "@jupyter-widgets/controls",
     "model_module_version": "1.5.0",
     "model_name": "HBoxModel",
     "state": {
      "_dom_classes": [],
      "_model_module": "@jupyter-widgets/controls",
      "_model_module_version": "1.5.0",
      "_model_name": "HBoxModel",
      "_view_count": null,
      "_view_module": "@jupyter-widgets/controls",
      "_view_module_version": "1.5.0",
      "_view_name": "HBoxView",
      "box_style": "",
      "children": [
       "IPY_MODEL_048e47b7a4a044d8bd4bb37d687995f2",
       "IPY_MODEL_1f72de080c384701b1f8e824194dd384",
       "IPY_MODEL_4a81874fb5004a3fb21c1ef31510261b"
      ],
      "layout": "IPY_MODEL_700dd20f826e489d99dce9af5cb54f8a"
     }
    },
    "f9f68531e63e48c681a8d4d2f2c506de": {
     "model_module": "@jupyter-widgets/controls",
     "model_module_version": "1.5.0",
     "model_name": "HTMLModel",
     "state": {
      "_dom_classes": [],
      "_model_module": "@jupyter-widgets/controls",
      "_model_module_version": "1.5.0",
      "_model_name": "HTMLModel",
      "_view_count": null,
      "_view_module": "@jupyter-widgets/controls",
      "_view_module_version": "1.5.0",
      "_view_name": "HTMLView",
      "description": "",
      "description_tooltip": null,
      "layout": "IPY_MODEL_feafc7ffdf884027bf96d004d1673236",
      "placeholder": "​",
      "style": "IPY_MODEL_016377aaf08b4c6986b50d70b026051a",
      "value": "Downloading: 100%"
     }
    },
    "feafc7ffdf884027bf96d004d1673236": {
     "model_module": "@jupyter-widgets/base",
     "model_module_version": "1.2.0",
     "model_name": "LayoutModel",
     "state": {
      "_model_module": "@jupyter-widgets/base",
      "_model_module_version": "1.2.0",
      "_model_name": "LayoutModel",
      "_view_count": null,
      "_view_module": "@jupyter-widgets/base",
      "_view_module_version": "1.2.0",
      "_view_name": "LayoutView",
      "align_content": null,
      "align_items": null,
      "align_self": null,
      "border": null,
      "bottom": null,
      "display": null,
      "flex": null,
      "flex_flow": null,
      "grid_area": null,
      "grid_auto_columns": null,
      "grid_auto_flow": null,
      "grid_auto_rows": null,
      "grid_column": null,
      "grid_gap": null,
      "grid_row": null,
      "grid_template_areas": null,
      "grid_template_columns": null,
      "grid_template_rows": null,
      "height": null,
      "justify_content": null,
      "justify_items": null,
      "left": null,
      "margin": null,
      "max_height": null,
      "max_width": null,
      "min_height": null,
      "min_width": null,
      "object_fit": null,
      "object_position": null,
      "order": null,
      "overflow": null,
      "overflow_x": null,
      "overflow_y": null,
      "padding": null,
      "right": null,
      "top": null,
      "visibility": null,
      "width": null
     }
    }
   }
  }
 },
 "nbformat": 4,
 "nbformat_minor": 4
}
