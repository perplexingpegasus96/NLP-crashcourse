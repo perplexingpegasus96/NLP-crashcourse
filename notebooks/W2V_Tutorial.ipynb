{
 "cells": [
  {
   "cell_type": "code",
   "execution_count": 1,
   "metadata": {
    "id": "t3LmI-2feYzZ"
   },
   "outputs": [],
   "source": [
    "import numpy as np\n",
    "import torch\n",
    "import torch.nn as nn\n",
    "import torch.optim as optim\n",
    "from torch.utils.data import Dataset, DataLoader\n",
    "import torch.nn.functional as F\n",
    "import pandas as pd\n",
    "from IPython.display import clear_output\n",
    "import matplotlib.pyplot as plt\n",
    "import random\n",
    "from torch.nn import init\n",
    "from sklearn.decomposition import TruncatedSVD\n",
    "from tqdm import tqdm_notebook\n",
    "\n",
    "\n",
    "if torch.cuda.is_available():  \n",
    "  dev = \"cuda:0\" \n",
    "else:  \n",
    "  dev = \"cpu\" "
   ]
  },
  {
   "cell_type": "markdown",
   "metadata": {
    "id": "UZ-MOpO29Uxz"
   },
   "source": [
    "### Подготовим датасет, для наглядности симулирующий высказывание - \"Смысл слова определяется его контекстом\". Фрукты, животные и напитки используются в одном контексте, значит нам будет не сложно выучить векторные представления для них."
   ]
  },
  {
   "cell_type": "code",
   "execution_count": 2,
   "metadata": {
    "id": "cy7X9zkYhUZ3"
   },
   "outputs": [],
   "source": [
    "dataset = [\"apple banana fruit banana orange fruit orange banana fruit apple fruit orange\",\n",
    "           \"dog cat animal cat monkey animal monkey dog animal dog cat animal cat monkey animal\",\n",
    "           \"cola beer water beer cola water water beer cola water cola beer cola water beer\"]"
   ]
  },
  {
   "cell_type": "code",
   "execution_count": 3,
   "metadata": {
    "colab": {
     "base_uri": "https://localhost:8080/"
    },
    "id": "YzpSu-vG01-E",
    "outputId": "5a21b2c9-8697-4036-c53e-e36a9eeb14d8"
   },
   "outputs": [
    {
     "name": "stdout",
     "output_type": "stream",
     "text": [
      "['apple banana fruit banana orange fruit orange banana fruit apple fruit orange', 'dog cat animal cat monkey animal monkey dog animal dog cat animal cat monkey animal', 'cola beer water beer cola water water beer cola water cola beer cola water beer']\n",
      "Central:  fruit\n",
      "Context:  apple\n",
      "\n",
      "Central:  fruit\n",
      "Context:  orange\n",
      "\n",
      "Central:  animal\n",
      "Context:  water\n",
      "\n",
      "Central:  dog\n",
      "Context:  orange\n",
      "\n"
     ]
    }
   ],
   "source": [
    "class Word2vecDataset:\n",
    "    def __init__(self, dataset, window_size):\n",
    "        self.dataset = dataset\n",
    "        self.word_list = \" \".join(dataset).split()\n",
    "        self.window_size = window_size\n",
    "        self.corpus_words = list(set(self.word_list))\n",
    "        self.word2idx = {word:idx for idx, word in enumerate(self.corpus_words)}\n",
    "        self.word2idx['UNK'] = len(self.corpus_words)\n",
    "        self.idx2word = {idx:word for word, idx in self.word2idx.items()}\n",
    "\n",
    "\n",
    "    def __call__(self, get_hard_negs):\n",
    "        result_dict = {\"original\": [], \"hard_negs\": []}\n",
    "\n",
    "        random_sentence = random.choice(self.dataset).split()\n",
    "        random_idx = random.choice(range(len(random_sentence)))\n",
    "        central_word_idx = self.word2idx[random_sentence[random_idx]]\n",
    "        left_window_start = max(0, random_idx - self.window_size // 2)\n",
    "        rigth_window_end = min(random_idx + self.window_size // 2 + 1, len(random_sentence))\n",
    "\n",
    "        for context_word in random_sentence[left_window_start:rigth_window_end]:\n",
    "          context_word_idx = self.word2idx[context_word]\n",
    "          if central_word_idx != context_word_idx:\n",
    "            result_dict['original'].append((central_word_idx, context_word_idx))\n",
    "\n",
    "        if get_hard_negs:\n",
    "          hardneg_pairs = []\n",
    "          for pair in result_dict['original']:\n",
    "            central, context = random.sample(self.dataset, 2)\n",
    "\n",
    "            random_central_sentence = central.split()\n",
    "            random_idx = random.choice(range(len(random_central_sentence)))\n",
    "            central_word_idx = self.word2idx[random_central_sentence[random_idx]]\n",
    "\n",
    "            random_context_sentence = context.split()\n",
    "            random_idx = random.choice(range(len(random_context_sentence)))\n",
    "            context_word_idx = self.word2idx[random_context_sentence[random_idx]]\n",
    "\n",
    "            result_dict['hard_negs'].append((central_word_idx, context_word_idx))\n",
    "\n",
    "        return result_dict\n",
    "\n",
    "def test():\n",
    "  w2v_test_loader = Word2vecDataset(dataset, 3)\n",
    "  window_sample = w2v_test_loader(True)\n",
    "  print(dataset)\n",
    "  for pair in window_sample['original']:\n",
    "    print('Central: ', w2v_test_loader.idx2word[pair[0]])\n",
    "    print('Context: ', w2v_test_loader.idx2word[pair[1]])\n",
    "    print()\n",
    "\n",
    "  for pair in window_sample['hard_negs']:\n",
    "    print('Central: ', w2v_test_loader.idx2word[pair[0]])\n",
    "    print('Context: ', w2v_test_loader.idx2word[pair[1]])\n",
    "    print()\n",
    "\n",
    "test()"
   ]
  },
  {
   "cell_type": "markdown",
   "metadata": {
    "id": "0EJUAVs9AfVE"
   },
   "source": [
    "Поиск эмбеддинга слова\n",
    "\n",
    "![look_up_table example](https://neuro.cs.ut.ee/wp-content/uploads/2018/09/embeddings.png)"
   ]
  },
  {
   "cell_type": "markdown",
   "metadata": {
    "id": "cNx80QExA01y"
   },
   "source": [
    "#Архитектура skip-gram W2V\n",
    "\n",
    "\n",
    "![skip_gram](https://static-01.hindawi.com/articles/wcmc/volume-2019/2121850/figures/2121850.fig.002b.svgz)"
   ]
  },
  {
   "cell_type": "markdown",
   "metadata": {
    "id": "bccxOVQ-O_wo"
   },
   "source": [
    "### Vanilla skipgram"
   ]
  },
  {
   "cell_type": "code",
   "execution_count": 4,
   "metadata": {
    "colab": {
     "base_uri": "https://localhost:8080/"
    },
    "id": "vbVQZTzuCTVm",
    "outputId": "0b879665-50dd-47bf-91e2-62b54ffe790e"
   },
   "outputs": [
    {
     "name": "stdout",
     "output_type": "stream",
     "text": [
      "tensor([2.8966], grad_fn=<DivBackward0>)\n"
     ]
    }
   ],
   "source": [
    "class SkipGramModelVanilla(nn.Module):\n",
    "  def __init__(self, vocab_size, embed_dim):\n",
    "      super(SkipGramModelVanilla, self).__init__()\n",
    "      self.embedding_layer = nn.Embedding(vocab_size, embed_dim)\n",
    "      self.projection_layer = nn.Linear(embed_dim, vocab_size)\n",
    "      self.softmax = nn.LogSoftmax(dim=1)\n",
    "      self.loss_f = nn.NLLLoss()\n",
    "\n",
    "      initrange = 1.0 / embed_dim\n",
    "      init.uniform_(self.embedding_layer.weight.data, -initrange, initrange)\n",
    "      init.uniform_(self.projection_layer.weight.data, -initrange, initrange)\n",
    "  \n",
    "  def forward(self, window_list):\n",
    "    loss = torch.Tensor([0]).to(dev)\n",
    "    for pair in window_list:\n",
    "      central_word_idx, context_word_idx = torch.tensor([pair[0]]).to(dev), torch.tensor([pair[1]]).to(dev)\n",
    "      vector_embed = self.embedding_layer(central_word_idx)\n",
    "      projection = self.projection_layer(vector_embed) \n",
    "      log_preds = self.softmax(projection)\n",
    "      pair_loss = self.loss_f(log_preds, context_word_idx)\n",
    "      loss += pair_loss\n",
    "    return loss / len(window_list)\n",
    "\n",
    "def test():\n",
    "  LEARNING_RATE = 1e-5\n",
    "  w2v_dataset = Word2vecDataset(dataset, 3)\n",
    "  test_w2v_model = SkipGramModelVanilla(vocab_size = len(w2v_dataset.word2idx), embed_dim=2).to(dev)\n",
    "  optimizer = optim.Adam(test_w2v_model.parameters(), lr=LEARNING_RATE)\n",
    "  window_sample  = w2v_dataset(False)['original']\n",
    "  loss = test_w2v_model.forward(window_sample)\n",
    "  print(loss)\n",
    "\n",
    "test()"
   ]
  },
  {
   "cell_type": "code",
   "execution_count": 5,
   "metadata": {
    "colab": {
     "base_uri": "https://localhost:8080/",
     "height": 517
    },
    "id": "O-ZHAIRy9dOy",
    "outputId": "9639a4fd-dc9f-4e02-912a-4e4ab7e850b3"
   },
   "outputs": [
    {
     "data": {
      "image/png": "[encoded data removed]",
      "text/plain": [
       "<Figure size 1008x576 with 1 Axes>"
      ]
     },
     "metadata": {
      "needs_background": "light"
     },
     "output_type": "display_data"
    },
    {
     "name": "stdout",
     "output_type": "stream",
     "text": [
      "Window number = 9900, Val acc = 0.9558773040771484\n"
     ]
    }
   ],
   "source": [
    "LEARNING_RATE = 1e-3\n",
    "\n",
    "ewma = lambda x, span: pd.DataFrame({'x': x})['x'].ewm(span=span).mean().values\n",
    "\n",
    "w2v_dataset = Word2vecDataset(dataset, 5)\n",
    "w2v_model_vanilla = SkipGramModelVanilla(vocab_size = len(w2v_dataset.word2idx), embed_dim=15).to(dev)\n",
    "optimizer = optim.Adam(w2v_model_vanilla.parameters(), lr=LEARNING_RATE)\n",
    "\n",
    "loss_array = []\n",
    "\n",
    "PASSES_SIZE = 10000\n",
    "try:\n",
    "  for i in range(PASSES_SIZE):\n",
    "    window = w2v_dataset(False)['original']\n",
    "    window_loss = w2v_model_vanilla.forward(window)\n",
    "\n",
    "    optimizer.zero_grad()\n",
    "    window_loss.backward()\n",
    "    optimizer.step()\n",
    "\n",
    "    if i % 100 == 0:\n",
    "      loss_array.append(window_loss.item())\n",
    "      clear_output(True)\n",
    "      plt.figure(figsize=[14, 8])\n",
    "\n",
    "      plt.subplot(1, 1, 1), plt.title('train loss'), plt.grid()\n",
    "      plt.scatter(np.arange(len(loss_array)), loss_array, alpha=0.12)\n",
    "      plt.plot(ewma(loss_array, span=10))\n",
    "      plt.show()\n",
    "\n",
    "      print('Window number = {0}, Val acc = {1}'.format(i, loss_array[-1]))\n",
    "except KeyboardInterrupt:\n",
    "  pass"
   ]
  },
  {
   "cell_type": "code",
   "execution_count": 6,
   "metadata": {
    "colab": {
     "base_uri": "https://localhost:8080/",
     "height": 473
    },
    "id": "wnM33neb8zO4",
    "outputId": "9283b8ce-649e-4cca-d700-ac049cc33df1"
   },
   "outputs": [
    {
     "data": {
      "image/png": "[encoded data removed]",
      "text/plain": [
       "<Figure size 560x560 with 1 Axes>"
      ]
     },
     "metadata": {},
     "output_type": "display_data"
    }
   ],
   "source": [
    "def reduce_to_k_dim(M, k=2):\n",
    "    n_iters = 10 \n",
    "    trunc_svd = TruncatedSVD(n_components=k, n_iter=n_iters, random_state=42)\n",
    "    M_reduced = trunc_svd.fit_transform(M)\n",
    "    return M_reduced\n",
    "\n",
    "\n",
    "def plot_embeddings(embedding_matrix, words):\n",
    "    assert embedding_matrix.shape[1] == 2\n",
    "\n",
    "    plt.figure(num=None, figsize=(7, 7), dpi=80, facecolor='w', edgecolor='k')\n",
    "\n",
    "    x_values = embedding_matrix[:,0]\n",
    "    y_values = embedding_matrix[:,1]\n",
    "    for i, word in enumerate(words):\n",
    "        x = x_values[i]\n",
    "        y = y_values[i]\n",
    "        plt.scatter(x, y, marker='x', color='red')\n",
    "        plt.text(x, y, word, fontsize=9)\n",
    "    plt.show()\n",
    "\n",
    "corpus_words = w2v_dataset.word2idx.keys()\n",
    "embeddings = reduce_to_k_dim(w2v_model_vanilla.embedding_layer.weight.cpu().data.numpy())\n",
    "plot_embeddings(embeddings, corpus_words)"
   ]
  },
  {
   "cell_type": "code",
   "execution_count": 6,
   "metadata": {
    "id": "9J1RO9DEZ7iK"
   },
   "outputs": [],
   "source": []
  },
  {
   "cell_type": "markdown",
   "metadata": {
    "id": "ElmycNSl1Dsj"
   },
   "source": [
    "### Hard Negative"
   ]
  },
  {
   "cell_type": "code",
   "execution_count": 7,
   "metadata": {
    "colab": {
     "base_uri": "https://localhost:8080/"
    },
    "id": "dtw5lVY3Z8Nv",
    "outputId": "b4df93af-4adc-475d-b336-d23c1f387766"
   },
   "outputs": [
    {
     "name": "stdout",
     "output_type": "stream",
     "text": [
      "Pos\n",
      "fruit\n",
      "apple\n",
      "Neg\n",
      "monkey\n",
      "cola\n",
      "tensor([1.4916], grad_fn=<NegBackward0>)\n",
      "Pos\n",
      "fruit\n",
      "orange\n",
      "Neg\n",
      "dog\n",
      "beer\n",
      "tensor([1.5551], grad_fn=<NegBackward0>)\n"
     ]
    }
   ],
   "source": [
    "class SkipGramModelHardNeg(nn.Module):\n",
    "    def __init__(self, vocab_size, embed_dim):\n",
    "        super(SkipGramModelHardNeg, self).__init__()\n",
    "        self.central_embeddings = nn.Embedding(vocab_size, embed_dim)\n",
    "        self.context_embeddings = nn.Embedding(vocab_size, embed_dim)\n",
    "\n",
    "        initrange = 1.0 / embed_dim\n",
    "        init.uniform_(self.central_embeddings.weight.data, -initrange, initrange)\n",
    "        init.uniform_(self.context_embeddings.weight.data, -initrange, initrange)\n",
    "\n",
    "    def forward(self, central_word, context_word, neg_central_word, neg_context_word):\n",
    "        central_word_idx, context_word_idx = torch.tensor([central_word]).to(dev), torch.tensor([context_word]).to(dev)\n",
    "        neg_central_word_idx, neg_context_word_idx = torch.tensor([neg_central_word]).to(dev), torch.tensor([neg_context_word]).to(dev)\n",
    "\n",
    "        emb_central = self.central_embeddings(central_word_idx)\n",
    "        emb_context = self.context_embeddings(context_word_idx)\n",
    "\n",
    "        neg_emb_central = self.central_embeddings(neg_central_word_idx)\n",
    "        neg_emb_context = self.context_embeddings(neg_context_word_idx)\n",
    "\n",
    "        pos_score = torch.sum(torch.mul(emb_central, emb_context), dim=1)\n",
    "        neg_score = torch.sum(torch.mul(neg_emb_central, neg_emb_context), dim=1)\n",
    "\n",
    "        pos_score = torch.clamp(pos_score, max=10, min=-10)\n",
    "        neg_score = torch.clamp(neg_score, max=10, min=-10)\n",
    "\n",
    "        score = -(F.logsigmoid(pos_score) + F.logsigmoid(-neg_score))\n",
    "        return score\n",
    "        \n",
    "\n",
    "def test():\n",
    "  LEARNING_RATE = 1e-5\n",
    "  w2v_test_loader = Word2vecDataset(dataset, 3)\n",
    "  test_w2v_model = SkipGramModelHardNeg(vocab_size = len(w2v_test_loader.word2idx), embed_dim=2).to(dev)\n",
    "  optimizer = optim.Adam(test_w2v_model.parameters(), lr=LEARNING_RATE)\n",
    "  window_sample  = w2v_test_loader(True)\n",
    "  for pos_pair, neg_pair in (zip(window_sample['original'], window_sample['hard_negs'])):\n",
    "    pos_central, pos_context = pos_pair\n",
    "    neg_central, neg_context = neg_pair\n",
    "\n",
    "    print('Pos')\n",
    "    print(w2v_test_loader.idx2word[pos_central])\n",
    "    print(w2v_test_loader.idx2word[pos_context])\n",
    "\n",
    "    print('Neg')\n",
    "    print(w2v_test_loader.idx2word[neg_central])\n",
    "    print(w2v_test_loader.idx2word[neg_context])\n",
    "\n",
    "    loss = test_w2v_model.forward(pos_central, pos_context, neg_central, neg_context)\n",
    "    print(loss)\n",
    "\n",
    "\n",
    "test()"
   ]
  },
  {
   "cell_type": "code",
   "execution_count": 8,
   "metadata": {
    "colab": {
     "base_uri": "https://localhost:8080/",
     "height": 517
    },
    "id": "fDPVS8VrsGfS",
    "outputId": "6bd9e252-aaba-4200-d7d4-cdc626cb3ed8"
   },
   "outputs": [
    {
     "data": {
      "image/png": "[encoded data removed]",
      "text/plain": [
       "<Figure size 1008x576 with 1 Axes>"
      ]
     },
     "metadata": {
      "needs_background": "light"
     },
     "output_type": "display_data"
    },
    {
     "name": "stdout",
     "output_type": "stream",
     "text": [
      "Window number = 9900, Val acc = 0.00027250623679719865\n"
     ]
    }
   ],
   "source": [
    "LEARNING_RATE = 1e-3\n",
    "\n",
    "ewma = lambda x, span: pd.DataFrame({'x': x})['x'].ewm(span=span).mean().values\n",
    "\n",
    "w2v_dataset = Word2vecDataset(dataset, 5)\n",
    "w2v_model_hardneg = SkipGramModelHardNeg(vocab_size = len(w2v_dataset.word2idx), embed_dim=15).to(dev)\n",
    "optimizer = optim.Adam(w2v_model_hardneg.parameters(), lr=LEARNING_RATE)\n",
    "\n",
    "loss_array = []\n",
    "\n",
    "PASSES_SIZE = 10000\n",
    "try:\n",
    "  for i in range(PASSES_SIZE):\n",
    "    window = w2v_dataset(True)\n",
    "    window_loss = 0\n",
    "    for pos_pair, neg_pair in (zip(window['original'], window['hard_negs'])):\n",
    "      pos_central, pos_context = pos_pair\n",
    "      neg_central, neg_context = neg_pair\n",
    "\n",
    "      loss = w2v_model_hardneg.forward(pos_central, pos_context, neg_central, neg_context)\n",
    "\n",
    "      optimizer.zero_grad()\n",
    "      loss.backward()\n",
    "      optimizer.step()\n",
    "\n",
    "      window_loss += loss.item()\n",
    "\n",
    "\n",
    "    if i % 100 == 0:\n",
    "      loss_array.append(window_loss)\n",
    "      clear_output(True)\n",
    "      plt.figure(figsize=[14, 8])\n",
    "\n",
    "      plt.subplot(1, 1, 1), plt.title('train loss'), plt.grid()\n",
    "      plt.scatter(np.arange(len(loss_array)), loss_array, alpha=0.12)\n",
    "      plt.plot(ewma(loss_array, span=10))\n",
    "      plt.show()\n",
    "\n",
    "      print('Window number = {0}, Val acc = {1}'.format(i, loss_array[-1]))\n",
    "except KeyboardInterrupt:\n",
    "  pass"
   ]
  },
  {
   "cell_type": "code",
   "execution_count": 9,
   "metadata": {
    "colab": {
     "base_uri": "https://localhost:8080/",
     "height": 473
    },
    "id": "TmUSyOGJskQ_",
    "outputId": "e4db6d55-38cd-410b-b3e3-a46e4aee749d"
   },
   "outputs": [
    {
     "data": {
      "image/png": "[encoded data removed]",
      "text/plain": [
       "<Figure size 560x560 with 1 Axes>"
      ]
     },
     "metadata": {},
     "output_type": "display_data"
    }
   ],
   "source": [
    "embeddings = reduce_to_k_dim(w2v_model_hardneg.context_embeddings.weight.cpu().data.numpy())\n",
    "plot_embeddings(embeddings, corpus_words)"
   ]
  },
  {
   "cell_type": "markdown",
   "metadata": {
    "id": "4DATwI9mIHSm"
   },
   "source": [
    "### Практика! Реализуйте CBOW."
   ]
  },
  {
   "cell_type": "code",
   "execution_count": 10,
   "metadata": {
    "id": "WCJGOV-HJGVZ"
   },
   "outputs": [],
   "source": [
    "class Word2vecDatasetCBOW:\n",
    "    def __init__(self, dataset, window_size):\n",
    "        self.dataset = dataset\n",
    "        self.word_list = \" \".join(dataset).split()\n",
    "        self.window_size = window_size\n",
    "        self.corpus_words = list(set(self.word_list))\n",
    "        self.word2idx = {word:idx for idx, word in enumerate(self.corpus_words)}\n",
    "        self.word2idx['UNK'] = len(self.corpus_words)\n",
    "        self.idx2word = {idx:word for word, idx in self.word2idx.items()}\n",
    "\n",
    "\n",
    "    def __call__(self):\n",
    "        ### CODE: Алгоритм получения примеров обучения для обучения\n",
    "        pass\n",
    "\n",
    "def test():\n",
    "  w2v_test_loader = Word2vecDatasetCBOW(dataset, 3)\n",
    "  ### CODE: Демонстрация работы функции\n",
    "  pass\n",
    "\n",
    "test()"
   ]
  },
  {
   "cell_type": "code",
   "execution_count": 11,
   "metadata": {
    "id": "wJXD5amwIKMi"
   },
   "outputs": [],
   "source": [
    "class CBOWModel(nn.Module):\n",
    "  def __init__(self, vocab_size, embed_dim):\n",
    "      super(CBOWModel, self).__init__()\n",
    "      ### CODE: Архитектура модели\n",
    "      pass\n",
    "  \n",
    "  def forward(self):\n",
    "    ### CODE: Forward pass\n",
    "    pass\n",
    "\n",
    "def test():\n",
    "  ### CODE: Пример forward pass на 1ом семпле\n",
    "  pass\n",
    "\n",
    "test()"
   ]
  },
  {
   "cell_type": "code",
   "execution_count": 12,
   "metadata": {
    "id": "dclwRtqrIKTz"
   },
   "outputs": [],
   "source": [
    "#CODE: Инициализация объектов и гиперпараметров\n",
    "\n",
    "PASSES_SIZE = 10000\n",
    "try:\n",
    "  for i in range(PASSES_SIZE):\n",
    "    ### CODE: цикл обучения модели\n",
    "    pass\n",
    "except KeyboardInterrupt:\n",
    "  pass"
   ]
  },
  {
   "cell_type": "code",
   "execution_count": 13,
   "metadata": {
    "id": "EKgYR0HhIKV3"
   },
   "outputs": [],
   "source": [
    "### CODE: Покажите как выглядят ваши эмбеддинги в векторном пространстве R^2."
   ]
  }
 ],
 "metadata": {
  "accelerator": "GPU",
  "colab": {
   "collapsed_sections": [],
   "name": "W2V Tutorial.ipynb",
   "provenance": []
  },
  "kernelspec": {
   "display_name": "Python 3 (ipykernel)",
   "language": "python",
   "name": "python3"
  },
  "language_info": {
   "codemirror_mode": {
    "name": "ipython",
    "version": 3
   },
   "file_extension": ".py",
   "mimetype": "text/x-python",
   "name": "python",
   "nbconvert_exporter": "python",
   "pygments_lexer": "ipython3",
   "version": "3.9.7"
  }
 },
 "nbformat": 4,
 "nbformat_minor": 4
}
