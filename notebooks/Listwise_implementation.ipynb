{
 "cells": [
  {
   "cell_type": "code",
   "execution_count": 1,
   "metadata": {
    "colab": {
     "base_uri": "https://localhost:8080/"
    },
    "executionInfo": {
     "elapsed": 7176,
     "status": "ok",
     "timestamp": 1652793680223,
     "user": {
      "displayName": "Олег Дмитриевич Сомов",
      "userId": "03877505905935419968"
     },
     "user_tz": -180
    },
    "id": "Nhb9539QF3PV",
    "outputId": "e1f0411e-0a93-4371-ad58-c8a0d8855d89"
   },
   "outputs": [
    {
     "name": "stdout",
     "output_type": "stream",
     "text": [
      "Requirement already satisfied: kaggle in /usr/local/lib/python3.7/dist-packages (1.5.12)\n",
      "Requirement already satisfied: urllib3 in /usr/local/lib/python3.7/dist-packages (from kaggle) (1.24.3)\n",
      "Requirement already satisfied: tqdm in /usr/local/lib/python3.7/dist-packages (from kaggle) (4.64.0)\n",
      "Requirement already satisfied: certifi in /usr/local/lib/python3.7/dist-packages (from kaggle) (2021.10.8)\n",
      "Requirement already satisfied: requests in /usr/local/lib/python3.7/dist-packages (from kaggle) (2.23.0)\n",
      "Requirement already satisfied: python-slugify in /usr/local/lib/python3.7/dist-packages (from kaggle) (6.1.2)\n",
      "Requirement already satisfied: six>=1.10 in /usr/local/lib/python3.7/dist-packages (from kaggle) (1.15.0)\n",
      "Requirement already satisfied: python-dateutil in /usr/local/lib/python3.7/dist-packages (from kaggle) (2.8.2)\n",
      "Requirement already satisfied: text-unidecode>=1.3 in /usr/local/lib/python3.7/dist-packages (from python-slugify->kaggle) (1.3)\n",
      "Requirement already satisfied: chardet<4,>=3.0.2 in /usr/local/lib/python3.7/dist-packages (from requests->kaggle) (3.0.4)\n",
      "Requirement already satisfied: idna<3,>=2.5 in /usr/local/lib/python3.7/dist-packages (from requests->kaggle) (2.10)\n"
     ]
    }
   ],
   "source": [
    "!pip install kaggle"
   ]
  },
  {
   "cell_type": "code",
   "execution_count": 2,
   "metadata": {
    "colab": {
     "base_uri": "https://localhost:8080/",
     "height": 91,
     "resources": {
      "http://localhost:8080/nbextensions/google.colab/files.js": {
       "data": "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",
       "headers": [
        [
         "content-type",
         "application/javascript"
        ]
       ],
       "ok": true,
       "status": 200,
       "status_text": ""
      }
     }
    },
    "executionInfo": {
     "elapsed": 6664,
     "status": "ok",
     "timestamp": 1652793686877,
     "user": {
      "displayName": "Олег Дмитриевич Сомов",
      "userId": "03877505905935419968"
     },
     "user_tz": -180
    },
    "id": "g6jW_AkhF6Zb",
    "outputId": "17114362-cbc4-4ff5-bba0-12c82ef7130c"
   },
   "outputs": [
    {
     "data": {
      "text/html": [
       "\n",
       "     <input type=\"file\" id=\"files-6edb5e68-f157-43fc-99da-b3e0f6c35cd8\" name=\"files[]\" multiple disabled\n",
       "        style=\"border:none\" />\n",
       "     <output id=\"result-6edb5e68-f157-43fc-99da-b3e0f6c35cd8\">\n",
       "      Upload widget is only available when the cell has been executed in the\n",
       "      current browser session. Please rerun this cell to enable.\n",
       "      </output>\n",
       "      <script src=\"/nbextensions/google.colab/files.js\"></script> "
      ],
      "text/plain": [
       "<IPython.core.display.HTML object>"
      ]
     },
     "metadata": {},
     "output_type": "display_data"
    },
    {
     "name": "stdout",
     "output_type": "stream",
     "text": [
      "Saving kaggle.json to kaggle.json\n"
     ]
    },
    {
     "data": {
      "text/plain": [
       "{'kaggle.json': b'{\"username\":\"olgsmv\",\"key\":\"c587511e01bd31ed37e0180c167b9f04\"}'}"
      ]
     },
     "execution_count": 2,
     "metadata": {},
     "output_type": "execute_result"
    }
   ],
   "source": [
    "from google.colab import files\n",
    "files.upload()"
   ]
  },
  {
   "cell_type": "code",
   "execution_count": 4,
   "metadata": {
    "executionInfo": {
     "elapsed": 459,
     "status": "ok",
     "timestamp": 1652793687331,
     "user": {
      "displayName": "Олег Дмитриевич Сомов",
      "userId": "03877505905935419968"
     },
     "user_tz": -180
    },
    "id": "obrLS3lEGHpE"
   },
   "outputs": [],
   "source": [
    "!mkdir /root/.kaggle\n",
    "!cp kaggle.json /root/.kaggle\n",
    "!chmod 600 /root/.kaggle/kaggle.json"
   ]
  },
  {
   "cell_type": "code",
   "execution_count": 5,
   "metadata": {
    "colab": {
     "base_uri": "https://localhost:8080/"
    },
    "executionInfo": {
     "elapsed": 1489,
     "status": "ok",
     "timestamp": 1652793688817,
     "user": {
      "displayName": "Олег Дмитриевич Сомов",
      "userId": "03877505905935419968"
     },
     "user_tz": -180
    },
    "id": "lsW5owAFGXmP",
    "outputId": "ad67f5bb-2615-491c-bb7c-188cc904a353"
   },
   "outputs": [
    {
     "name": "stdout",
     "output_type": "stream",
     "text": [
      "Downloading ecommerce-search-result-relevane-by-crowdflower.zip to /content\n",
      "  0% 0.00/6.15M [00:00<?, ?B/s]\n",
      "100% 6.15M/6.15M [00:00<00:00, 65.4MB/s]\n",
      "Archive:  /content/ecommerce-search-result-relevane-by-crowdflower.zip\n",
      "  inflating: kaggle_ecommerce_complete_Rank_Crowd_AGG_Descriptions_ALL_ROWS.csv  \n"
     ]
    }
   ],
   "source": [
    "!kaggle datasets download -d awsaf49/ecommerce-search-result-relevane-by-crowdflower\n",
    "!unzip /content/ecommerce-search-result-relevane-by-crowdflower.zip"
   ]
  },
  {
   "cell_type": "code",
   "execution_count": 6,
   "metadata": {
    "executionInfo": {
     "elapsed": 5942,
     "status": "ok",
     "timestamp": 1652793694757,
     "user": {
      "displayName": "Олег Дмитриевич Сомов",
      "userId": "03877505905935419968"
     },
     "user_tz": -180
    },
    "id": "4umpSQkCRtP5"
   },
   "outputs": [],
   "source": [
    "import torch\n",
    "import torch.nn as nn\n",
    "from torch import optim\n",
    "import numpy as np\n",
    "import warnings\n",
    "import pandas as pd\n",
    "import random\n",
    "import pandas as pd\n",
    "import matplotlib.pyplot as plt\n",
    "from IPython.display import clear_output\n",
    "import string\n",
    "from sklearn.metrics import ndcg_score\n",
    "\n",
    "\n",
    "torch.manual_seed(42)\n",
    "np.random.seed(42)\n",
    "\n",
    "\n",
    "warnings.filterwarnings('ignore')\n",
    "\n",
    "if torch.cuda.is_available():  \n",
    "  dev = \"cuda:0\" \n",
    "else:  \n",
    "  dev = \"cpu\" \n",
    "\n",
    "%matplotlib inline"
   ]
  },
  {
   "cell_type": "markdown",
   "metadata": {
    "id": "8A9-z6vZCEaL"
   },
   "source": [
    "We will take commerce marketplace dataset - ranked products based on some hidden business logic for a given query. "
   ]
  },
  {
   "cell_type": "code",
   "execution_count": 7,
   "metadata": {
    "colab": {
     "base_uri": "https://localhost:8080/",
     "height": 206
    },
    "executionInfo": {
     "elapsed": 1034,
     "status": "ok",
     "timestamp": 1652793695786,
     "user": {
      "displayName": "Олег Дмитриевич Сомов",
      "userId": "03877505905935419968"
     },
     "user_tz": -180
    },
    "id": "VKZ0suXuyRAy",
    "outputId": "1dd65db9-54cc-44f6-9f41-ee99b09298b3"
   },
   "outputs": [
    {
     "data": {
      "text/html": [
       "\n",
       "  <div id=\"df-1f1c5e33-c206-45f9-adae-b4305397c4f6\">\n",
       "    <div class=\"colab-df-container\">\n",
       "      <div>\n",
       "<style scoped>\n",
       "    .dataframe tbody tr th:only-of-type {\n",
       "        vertical-align: middle;\n",
       "    }\n",
       "\n",
       "    .dataframe tbody tr th {\n",
       "        vertical-align: top;\n",
       "    }\n",
       "\n",
       "    .dataframe thead th {\n",
       "        text-align: right;\n",
       "    }\n",
       "</style>\n",
       "<table border=\"1\" class=\"dataframe\">\n",
       "  <thead>\n",
       "    <tr style=\"text-align: right;\">\n",
       "      <th></th>\n",
       "      <th>query</th>\n",
       "      <th>product_title</th>\n",
       "      <th>product_description</th>\n",
       "      <th>relevance</th>\n",
       "      <th>product_price</th>\n",
       "      <th>rank</th>\n",
       "      <th>docs_amount</th>\n",
       "    </tr>\n",
       "  </thead>\n",
       "  <tbody>\n",
       "    <tr>\n",
       "      <th>0</th>\n",
       "      <td>playstation 4</td>\n",
       "      <td>Sony PlayStation 4 (PS4) (Latest Model)- 500 G...</td>\n",
       "      <td>The PlayStation 4 system opens the door to an ...</td>\n",
       "      <td>3.67</td>\n",
       "      <td>$329.98</td>\n",
       "      <td>1</td>\n",
       "      <td>179</td>\n",
       "    </tr>\n",
       "    <tr>\n",
       "      <th>1</th>\n",
       "      <td>playstation 4</td>\n",
       "      <td>Sony PlayStation 4 (Latest Model)- 500 GB Jet ...</td>\n",
       "      <td>The PlayStation 4 system opens the door to an ...</td>\n",
       "      <td>4.00</td>\n",
       "      <td>$324.84</td>\n",
       "      <td>2</td>\n",
       "      <td>179</td>\n",
       "    </tr>\n",
       "    <tr>\n",
       "      <th>2</th>\n",
       "      <td>playstation 4</td>\n",
       "      <td>Sony PlayStation 4 PS4 500 GB Jet Black Console</td>\n",
       "      <td>The PlayStation 4 system opens the door to an ...</td>\n",
       "      <td>4.00</td>\n",
       "      <td>$324.83</td>\n",
       "      <td>3</td>\n",
       "      <td>179</td>\n",
       "    </tr>\n",
       "    <tr>\n",
       "      <th>3</th>\n",
       "      <td>playstation 4</td>\n",
       "      <td>Sony - PlayStation 4 500GB The Last of Us Rema...</td>\n",
       "      <td>NaN</td>\n",
       "      <td>3.67</td>\n",
       "      <td>$350.00</td>\n",
       "      <td>4</td>\n",
       "      <td>179</td>\n",
       "    </tr>\n",
       "    <tr>\n",
       "      <th>4</th>\n",
       "      <td>playstation 4</td>\n",
       "      <td>Sony PlayStation 4 (PS4) (Latest Model)- 500 G...</td>\n",
       "      <td>The PlayStation 4 system opens the door to an ...</td>\n",
       "      <td>3.33</td>\n",
       "      <td>$308.00\\nTrending at\\n$319.99</td>\n",
       "      <td>5</td>\n",
       "      <td>179</td>\n",
       "    </tr>\n",
       "  </tbody>\n",
       "</table>\n",
       "</div>\n",
       "      <button class=\"colab-df-convert\" onclick=\"convertToInteractive('df-1f1c5e33-c206-45f9-adae-b4305397c4f6')\"\n",
       "              title=\"Convert this dataframe to an interactive table.\"\n",
       "              style=\"display:none;\">\n",
       "        \n",
       "  <svg xmlns=\"http://www.w3.org/2000/svg\" height=\"24px\"viewBox=\"0 0 24 24\"\n",
       "       width=\"24px\">\n",
       "    <path d=\"M0 0h24v24H0V0z\" fill=\"none\"/>\n",
       "    <path d=\"M18.56 5.44l.94 2.06.94-2.06 2.06-.94-2.06-.94-.94-2.06-.94 2.06-2.06.94zm-11 1L8.5 8.5l.94-2.06 2.06-.94-2.06-.94L8.5 2.5l-.94 2.06-2.06.94zm10 10l.94 2.06.94-2.06 2.06-.94-2.06-.94-.94-2.06-.94 2.06-2.06.94z\"/><path d=\"M17.41 7.96l-1.37-1.37c-.4-.4-.92-.59-1.43-.59-.52 0-1.04.2-1.43.59L10.3 9.45l-7.72 7.72c-.78.78-.78 2.05 0 2.83L4 21.41c.39.39.9.59 1.41.59.51 0 1.02-.2 1.41-.59l7.78-7.78 2.81-2.81c.8-.78.8-2.07 0-2.86zM5.41 20L4 18.59l7.72-7.72 1.47 1.35L5.41 20z\"/>\n",
       "  </svg>\n",
       "      </button>\n",
       "      \n",
       "  <style>\n",
       "    .colab-df-container {\n",
       "      display:flex;\n",
       "      flex-wrap:wrap;\n",
       "      gap: 12px;\n",
       "    }\n",
       "\n",
       "    .colab-df-convert {\n",
       "      background-color: #E8F0FE;\n",
       "      border: none;\n",
       "      border-radius: 50%;\n",
       "      cursor: pointer;\n",
       "      display: none;\n",
       "      fill: #1967D2;\n",
       "      height: 32px;\n",
       "      padding: 0 0 0 0;\n",
       "      width: 32px;\n",
       "    }\n",
       "\n",
       "    .colab-df-convert:hover {\n",
       "      background-color: #E2EBFA;\n",
       "      box-shadow: 0px 1px 2px rgba(60, 64, 67, 0.3), 0px 1px 3px 1px rgba(60, 64, 67, 0.15);\n",
       "      fill: #174EA6;\n",
       "    }\n",
       "\n",
       "    [theme=dark] .colab-df-convert {\n",
       "      background-color: #3B4455;\n",
       "      fill: #D2E3FC;\n",
       "    }\n",
       "\n",
       "    [theme=dark] .colab-df-convert:hover {\n",
       "      background-color: #434B5C;\n",
       "      box-shadow: 0px 1px 3px 1px rgba(0, 0, 0, 0.15);\n",
       "      filter: drop-shadow(0px 1px 2px rgba(0, 0, 0, 0.3));\n",
       "      fill: #FFFFFF;\n",
       "    }\n",
       "  </style>\n",
       "\n",
       "      <script>\n",
       "        const buttonEl =\n",
       "          document.querySelector('#df-1f1c5e33-c206-45f9-adae-b4305397c4f6 button.colab-df-convert');\n",
       "        buttonEl.style.display =\n",
       "          google.colab.kernel.accessAllowed ? 'block' : 'none';\n",
       "\n",
       "        async function convertToInteractive(key) {\n",
       "          const element = document.querySelector('#df-1f1c5e33-c206-45f9-adae-b4305397c4f6');\n",
       "          const dataTable =\n",
       "            await google.colab.kernel.invokeFunction('convertToInteractive',\n",
       "                                                     [key], {});\n",
       "          if (!dataTable) return;\n",
       "\n",
       "          const docLinkHtml = 'Like what you see? Visit the ' +\n",
       "            '<a target=\"_blank\" href=https://colab.research.google.com/notebooks/data_table.ipynb>data table notebook</a>'\n",
       "            + ' to learn more about interactive tables.';\n",
       "          element.innerHTML = '';\n",
       "          dataTable['output_type'] = 'display_data';\n",
       "          await google.colab.output.renderOutput(dataTable, element);\n",
       "          const docLink = document.createElement('div');\n",
       "          docLink.innerHTML = docLinkHtml;\n",
       "          element.appendChild(docLink);\n",
       "        }\n",
       "      </script>\n",
       "    </div>\n",
       "  </div>\n",
       "  "
      ],
      "text/plain": [
       "           query                                      product_title  \\\n",
       "0  playstation 4  Sony PlayStation 4 (PS4) (Latest Model)- 500 G...   \n",
       "1  playstation 4  Sony PlayStation 4 (Latest Model)- 500 GB Jet ...   \n",
       "2  playstation 4    Sony PlayStation 4 PS4 500 GB Jet Black Console   \n",
       "3  playstation 4  Sony - PlayStation 4 500GB The Last of Us Rema...   \n",
       "4  playstation 4  Sony PlayStation 4 (PS4) (Latest Model)- 500 G...   \n",
       "\n",
       "                                 product_description  relevance  \\\n",
       "0  The PlayStation 4 system opens the door to an ...       3.67   \n",
       "1  The PlayStation 4 system opens the door to an ...       4.00   \n",
       "2  The PlayStation 4 system opens the door to an ...       4.00   \n",
       "3                                                NaN       3.67   \n",
       "4  The PlayStation 4 system opens the door to an ...       3.33   \n",
       "\n",
       "                   product_price  rank  docs_amount  \n",
       "0                       $329.98      1          179  \n",
       "1                       $324.84      2          179  \n",
       "2                       $324.83      3          179  \n",
       "3                       $350.00      4          179  \n",
       "4  $308.00\\nTrending at\\n$319.99     5          179  "
      ]
     },
     "execution_count": 7,
     "metadata": {},
     "output_type": "execute_result"
    }
   ],
   "source": [
    "df = pd.read_csv('kaggle_ecommerce_complete_Rank_Crowd_AGG_Descriptions_ALL_ROWS.csv', sep=',', encoding='latin-1')\n",
    "df = df[['query', 'product_title', 'product_description','relevance', 'product_price','rank']]\n",
    "query2doc_amount = df.groupby('query')['product_title'].count().to_dict()\n",
    "df['docs_amount'] = df['query'].apply(lambda x: query2doc_amount[x])\n",
    "df = df[(df['docs_amount']>= 10)]\n",
    "df['relevance'].fillna(0, inplace=True)\n",
    "df = df.drop_duplicates(['query', 'product_title', 'relevance'], keep='first')\n",
    "df.head()"
   ]
  },
  {
   "cell_type": "code",
   "execution_count": 8,
   "metadata": {
    "colab": {
     "base_uri": "https://localhost:8080/",
     "height": 363
    },
    "executionInfo": {
     "elapsed": 391,
     "status": "ok",
     "timestamp": 1652793696172,
     "user": {
      "displayName": "Олег Дмитриевич Сомов",
      "userId": "03877505905935419968"
     },
     "user_tz": -180
    },
    "id": "umr6g8WS4g5i",
    "outputId": "2352c050-c41e-4a40-c137-b81cfc5c2391"
   },
   "outputs": [
    {
     "data": {
      "text/html": [
       "\n",
       "  <div id=\"df-3c08fa7a-84f8-4e68-aa86-ee1baa264a10\">\n",
       "    <div class=\"colab-df-container\">\n",
       "      <div>\n",
       "<style scoped>\n",
       "    .dataframe tbody tr th:only-of-type {\n",
       "        vertical-align: middle;\n",
       "    }\n",
       "\n",
       "    .dataframe tbody tr th {\n",
       "        vertical-align: top;\n",
       "    }\n",
       "\n",
       "    .dataframe thead th {\n",
       "        text-align: right;\n",
       "    }\n",
       "</style>\n",
       "<table border=\"1\" class=\"dataframe\">\n",
       "  <thead>\n",
       "    <tr style=\"text-align: right;\">\n",
       "      <th></th>\n",
       "      <th>query</th>\n",
       "      <th>product_title</th>\n",
       "      <th>product_description</th>\n",
       "      <th>relevance</th>\n",
       "      <th>product_price</th>\n",
       "      <th>rank</th>\n",
       "      <th>docs_amount</th>\n",
       "    </tr>\n",
       "  </thead>\n",
       "  <tbody>\n",
       "    <tr>\n",
       "      <th>13483</th>\n",
       "      <td>minecraft diamond sword</td>\n",
       "      <td>Minecraft Foam Diamond Sword</td>\n",
       "      <td>Surprise your favorite little Minecraft fan wi...</td>\n",
       "      <td>4.00</td>\n",
       "      <td>$19.99</td>\n",
       "      <td>1</td>\n",
       "      <td>26</td>\n",
       "    </tr>\n",
       "    <tr>\n",
       "      <th>16905</th>\n",
       "      <td>minecraft diamond sword</td>\n",
       "      <td>Minecraft Foam Diamond Sword (Each)</td>\n",
       "      <td>Go Minecraft crazy when you bring home this Mi...</td>\n",
       "      <td>4.00</td>\n",
       "      <td>$22.99</td>\n",
       "      <td>1</td>\n",
       "      <td>26</td>\n",
       "    </tr>\n",
       "    <tr>\n",
       "      <th>16906</th>\n",
       "      <td>minecraft diamond sword</td>\n",
       "      <td>The Quest for the Diamond Sword: A Minecraft G...</td>\n",
       "      <td>After discovering that zombies have destroyed ...</td>\n",
       "      <td>3.33</td>\n",
       "      <td>$7.99</td>\n",
       "      <td>2</td>\n",
       "      <td>26</td>\n",
       "    </tr>\n",
       "    <tr>\n",
       "      <th>8284</th>\n",
       "      <td>minecraft diamond sword</td>\n",
       "      <td>Minecraft Diamond Sword Metal Keychain</td>\n",
       "      <td>*1\" scale keychain, *Real heavy duty metal con...</td>\n",
       "      <td>3.00</td>\n",
       "      <td>$10.99</td>\n",
       "      <td>1</td>\n",
       "      <td>26</td>\n",
       "    </tr>\n",
       "    <tr>\n",
       "      <th>8285</th>\n",
       "      <td>minecraft diamond sword</td>\n",
       "      <td>The Quest for the Diamond Sword : A Minecraft ...</td>\n",
       "      <td>The Quest for the Diamond Sword : A Minecraft ...</td>\n",
       "      <td>3.00</td>\n",
       "      <td>Sale $7.99</td>\n",
       "      <td>2</td>\n",
       "      <td>26</td>\n",
       "    </tr>\n",
       "    <tr>\n",
       "      <th>8289</th>\n",
       "      <td>minecraft diamond sword</td>\n",
       "      <td>Justice-Girls Minecraft Foam Diamond Sword -Mu...</td>\n",
       "      <td>You may be thinking, \"ThinkGeek, what took you...</td>\n",
       "      <td>3.00</td>\n",
       "      <td>$19.99</td>\n",
       "      <td>6</td>\n",
       "      <td>26</td>\n",
       "    </tr>\n",
       "    <tr>\n",
       "      <th>8288</th>\n",
       "      <td>minecraft diamond sword</td>\n",
       "      <td>Minecraft Diamond Steve Vinyl 6</td>\n",
       "      <td>*6\" Tall Vinyl Diamond Steve Figure, *Comes Wi...</td>\n",
       "      <td>2.75</td>\n",
       "      <td>$26.99</td>\n",
       "      <td>5</td>\n",
       "      <td>26</td>\n",
       "    </tr>\n",
       "    <tr>\n",
       "      <th>13484</th>\n",
       "      <td>minecraft diamond sword</td>\n",
       "      <td>Minecraft Foam Diamond Pickaxe</td>\n",
       "      <td>Your favorite Minecraft fan will really dig th...</td>\n",
       "      <td>2.67</td>\n",
       "      <td>$19.99</td>\n",
       "      <td>2</td>\n",
       "      <td>26</td>\n",
       "    </tr>\n",
       "    <tr>\n",
       "      <th>16907</th>\n",
       "      <td>minecraft diamond sword</td>\n",
       "      <td>Minecraft Foam Diamond Pickaxe (Each)</td>\n",
       "      <td>Building has become your life ever since you g...</td>\n",
       "      <td>2.67</td>\n",
       "      <td>$19.99</td>\n",
       "      <td>3</td>\n",
       "      <td>26</td>\n",
       "    </tr>\n",
       "    <tr>\n",
       "      <th>8286</th>\n",
       "      <td>minecraft diamond sword</td>\n",
       "      <td>En busca de la espada de diamante / In search ...</td>\n",
       "      <td>Steve se dedica a cultivar trigo e intercambia...</td>\n",
       "      <td>2.33</td>\n",
       "      <td>$6.95</td>\n",
       "      <td>3</td>\n",
       "      <td>26</td>\n",
       "    </tr>\n",
       "  </tbody>\n",
       "</table>\n",
       "</div>\n",
       "      <button class=\"colab-df-convert\" onclick=\"convertToInteractive('df-3c08fa7a-84f8-4e68-aa86-ee1baa264a10')\"\n",
       "              title=\"Convert this dataframe to an interactive table.\"\n",
       "              style=\"display:none;\">\n",
       "        \n",
       "  <svg xmlns=\"http://www.w3.org/2000/svg\" height=\"24px\"viewBox=\"0 0 24 24\"\n",
       "       width=\"24px\">\n",
       "    <path d=\"M0 0h24v24H0V0z\" fill=\"none\"/>\n",
       "    <path d=\"M18.56 5.44l.94 2.06.94-2.06 2.06-.94-2.06-.94-.94-2.06-.94 2.06-2.06.94zm-11 1L8.5 8.5l.94-2.06 2.06-.94-2.06-.94L8.5 2.5l-.94 2.06-2.06.94zm10 10l.94 2.06.94-2.06 2.06-.94-2.06-.94-.94-2.06-.94 2.06-2.06.94z\"/><path d=\"M17.41 7.96l-1.37-1.37c-.4-.4-.92-.59-1.43-.59-.52 0-1.04.2-1.43.59L10.3 9.45l-7.72 7.72c-.78.78-.78 2.05 0 2.83L4 21.41c.39.39.9.59 1.41.59.51 0 1.02-.2 1.41-.59l7.78-7.78 2.81-2.81c.8-.78.8-2.07 0-2.86zM5.41 20L4 18.59l7.72-7.72 1.47 1.35L5.41 20z\"/>\n",
       "  </svg>\n",
       "      </button>\n",
       "      \n",
       "  <style>\n",
       "    .colab-df-container {\n",
       "      display:flex;\n",
       "      flex-wrap:wrap;\n",
       "      gap: 12px;\n",
       "    }\n",
       "\n",
       "    .colab-df-convert {\n",
       "      background-color: #E8F0FE;\n",
       "      border: none;\n",
       "      border-radius: 50%;\n",
       "      cursor: pointer;\n",
       "      display: none;\n",
       "      fill: #1967D2;\n",
       "      height: 32px;\n",
       "      padding: 0 0 0 0;\n",
       "      width: 32px;\n",
       "    }\n",
       "\n",
       "    .colab-df-convert:hover {\n",
       "      background-color: #E2EBFA;\n",
       "      box-shadow: 0px 1px 2px rgba(60, 64, 67, 0.3), 0px 1px 3px 1px rgba(60, 64, 67, 0.15);\n",
       "      fill: #174EA6;\n",
       "    }\n",
       "\n",
       "    [theme=dark] .colab-df-convert {\n",
       "      background-color: #3B4455;\n",
       "      fill: #D2E3FC;\n",
       "    }\n",
       "\n",
       "    [theme=dark] .colab-df-convert:hover {\n",
       "      background-color: #434B5C;\n",
       "      box-shadow: 0px 1px 3px 1px rgba(0, 0, 0, 0.15);\n",
       "      filter: drop-shadow(0px 1px 2px rgba(0, 0, 0, 0.3));\n",
       "      fill: #FFFFFF;\n",
       "    }\n",
       "  </style>\n",
       "\n",
       "      <script>\n",
       "        const buttonEl =\n",
       "          document.querySelector('#df-3c08fa7a-84f8-4e68-aa86-ee1baa264a10 button.colab-df-convert');\n",
       "        buttonEl.style.display =\n",
       "          google.colab.kernel.accessAllowed ? 'block' : 'none';\n",
       "\n",
       "        async function convertToInteractive(key) {\n",
       "          const element = document.querySelector('#df-3c08fa7a-84f8-4e68-aa86-ee1baa264a10');\n",
       "          const dataTable =\n",
       "            await google.colab.kernel.invokeFunction('convertToInteractive',\n",
       "                                                     [key], {});\n",
       "          if (!dataTable) return;\n",
       "\n",
       "          const docLinkHtml = 'Like what you see? Visit the ' +\n",
       "            '<a target=\"_blank\" href=https://colab.research.google.com/notebooks/data_table.ipynb>data table notebook</a>'\n",
       "            + ' to learn more about interactive tables.';\n",
       "          element.innerHTML = '';\n",
       "          dataTable['output_type'] = 'display_data';\n",
       "          await google.colab.output.renderOutput(dataTable, element);\n",
       "          const docLink = document.createElement('div');\n",
       "          docLink.innerHTML = docLinkHtml;\n",
       "          element.appendChild(docLink);\n",
       "        }\n",
       "      </script>\n",
       "    </div>\n",
       "  </div>\n",
       "  "
      ],
      "text/plain": [
       "                         query  \\\n",
       "13483  minecraft diamond sword   \n",
       "16905  minecraft diamond sword   \n",
       "16906  minecraft diamond sword   \n",
       "8284   minecraft diamond sword   \n",
       "8285   minecraft diamond sword   \n",
       "8289   minecraft diamond sword   \n",
       "8288   minecraft diamond sword   \n",
       "13484  minecraft diamond sword   \n",
       "16907  minecraft diamond sword   \n",
       "8286   minecraft diamond sword   \n",
       "\n",
       "                                           product_title  \\\n",
       "13483                       Minecraft Foam Diamond Sword   \n",
       "16905                Minecraft Foam Diamond Sword (Each)   \n",
       "16906  The Quest for the Diamond Sword: A Minecraft G...   \n",
       "8284              Minecraft Diamond Sword Metal Keychain   \n",
       "8285   The Quest for the Diamond Sword : A Minecraft ...   \n",
       "8289   Justice-Girls Minecraft Foam Diamond Sword -Mu...   \n",
       "8288                     Minecraft Diamond Steve Vinyl 6   \n",
       "13484                     Minecraft Foam Diamond Pickaxe   \n",
       "16907              Minecraft Foam Diamond Pickaxe (Each)   \n",
       "8286   En busca de la espada de diamante / In search ...   \n",
       "\n",
       "                                     product_description  relevance  \\\n",
       "13483  Surprise your favorite little Minecraft fan wi...       4.00   \n",
       "16905  Go Minecraft crazy when you bring home this Mi...       4.00   \n",
       "16906  After discovering that zombies have destroyed ...       3.33   \n",
       "8284   *1\" scale keychain, *Real heavy duty metal con...       3.00   \n",
       "8285   The Quest for the Diamond Sword : A Minecraft ...       3.00   \n",
       "8289   You may be thinking, \"ThinkGeek, what took you...       3.00   \n",
       "8288   *6\" Tall Vinyl Diamond Steve Figure, *Comes Wi...       2.75   \n",
       "13484  Your favorite Minecraft fan will really dig th...       2.67   \n",
       "16907  Building has become your life ever since you g...       2.67   \n",
       "8286   Steve se dedica a cultivar trigo e intercambia...       2.33   \n",
       "\n",
       "      product_price  rank  docs_amount  \n",
       "13483       $19.99      1           26  \n",
       "16905       $22.99      1           26  \n",
       "16906        $7.99      2           26  \n",
       "8284        $10.99      1           26  \n",
       "8285     Sale $7.99     2           26  \n",
       "8289        $19.99      6           26  \n",
       "8288        $26.99      5           26  \n",
       "13484       $19.99      2           26  \n",
       "16907       $19.99      3           26  \n",
       "8286         $6.95      3           26  "
      ]
     },
     "execution_count": 8,
     "metadata": {},
     "output_type": "execute_result"
    }
   ],
   "source": [
    "df[df['query'] == 'minecraft diamond sword'].sort_values('relevance', ascending=False).head(10)"
   ]
  },
  {
   "cell_type": "code",
   "execution_count": 9,
   "metadata": {
    "executionInfo": {
     "elapsed": 3,
     "status": "ok",
     "timestamp": 1652793696172,
     "user": {
      "displayName": "Олег Дмитриевич Сомов",
      "userId": "03877505905935419968"
     },
     "user_tz": -180
    },
    "id": "IT8jLEpL1L9S"
   },
   "outputs": [],
   "source": [
    "query2doc_dict = df.groupby('query')[['product_title', 'relevance']].agg(list).to_dict()"
   ]
  },
  {
   "cell_type": "code",
   "execution_count": 10,
   "metadata": {
    "executionInfo": {
     "elapsed": 4,
     "status": "ok",
     "timestamp": 1652793696173,
     "user": {
      "displayName": "Олег Дмитриевич Сомов",
      "userId": "03877505905935419968"
     },
     "user_tz": -180
    },
    "id": "RoWgoZVR-75V"
   },
   "outputs": [],
   "source": [
    "punctuation_set = set(string.punctuation + '«»—')\n",
    "\n",
    "def clean_punctuation(input_text) -> str:\n",
    "    input_text = input_text.split('.')[0]\n",
    "    space = \" \"\n",
    "    cleaned_string = \"\".join([c if c not in punctuation_set else space for c in input_text])\n",
    "    cleaned_string = space.join(cleaned_string.split()).lower()\n",
    "    return cleaned_string"
   ]
  },
  {
   "cell_type": "code",
   "execution_count": 11,
   "metadata": {
    "colab": {
     "base_uri": "https://localhost:8080/"
    },
    "executionInfo": {
     "elapsed": 4,
     "status": "ok",
     "timestamp": 1652793696173,
     "user": {
      "displayName": "Олег Дмитриевич Сомов",
      "userId": "03877505905935419968"
     },
     "user_tz": -180
    },
    "id": "B3qf092o24ht",
    "outputId": "446dd364-b0d2-4c51-ef41-cd5cc03bc44c"
   },
   "outputs": [
    {
     "name": "stdout",
     "output_type": "stream",
     "text": [
      "Example instance:  {'docs': ['en busca de la espada de diamante in search of the diamond sword una increå¥ìû ble aventura de minecraft an amazing adventure of minecraft paperback', 'minecraft foam diamond pickaxe', 'minecraft foam diamond pickaxe each', 'minecraft diamond steve vinyl 6', 'justice girls minecraft foam diamond sword multi size no size', 'the quest for the diamond sword a minecraft gamer s adventure paperback', 'minecraft diamond sword metal keychain', 'the quest for the diamond sword a minecraft gamer s adventure', 'minecraft foam diamond sword each', 'minecraft foam diamond sword'], 'scores': [1, 2, 3, 4, 5, 6, 7, 8, 9, 10]}\n",
      "Total samples:  261\n"
     ]
    }
   ],
   "source": [
    "TOP_N = 10\n",
    "queries_list = list(query2doc_dict['product_title'].keys())\n",
    "training_dict = dict()\n",
    "for query in queries_list:\n",
    "  preprocessed_query = clean_punctuation(query)\n",
    "  relevance_scores_sorted_idx = np.argsort(np.array(query2doc_dict['relevance'][query]))[-TOP_N:]\n",
    "  docs_list = np.array(query2doc_dict['product_title'][query])[relevance_scores_sorted_idx]\n",
    "  preprocessed_docs_list = [clean_punctuation(doc) for doc in list(docs_list)]\n",
    "  relevance_rank  = [i for i in range(1, len(preprocessed_docs_list) + 1)]\n",
    "  training_dict[preprocessed_query] = {'docs': preprocessed_docs_list, 'scores': relevance_rank}\n",
    "\n",
    "print('Example instance: ', training_dict['minecraft diamond sword'])\n",
    "print('Total samples: ', len(training_dict))"
   ]
  },
  {
   "cell_type": "code",
   "execution_count": 12,
   "metadata": {
    "colab": {
     "base_uri": "https://localhost:8080/"
    },
    "executionInfo": {
     "elapsed": 258,
     "status": "ok",
     "timestamp": 1652793696428,
     "user": {
      "displayName": "Олег Дмитриевич Сомов",
      "userId": "03877505905935419968"
     },
     "user_tz": -180
    },
    "id": "wc_NSQhCde15",
    "outputId": "b5b6cced-cf71-4704-a5aa-b2cddf039b18"
   },
   "outputs": [
    {
     "name": "stdout",
     "output_type": "stream",
     "text": [
      "41\n"
     ]
    },
    {
     "data": {
      "text/plain": [
       "(2610, 261)"
      ]
     },
     "execution_count": 12,
     "metadata": {},
     "output_type": "execute_result"
    }
   ],
   "source": [
    "MAX_LEN = 0\n",
    "query_str_list, doc_str_list = [], []\n",
    "for q in training_dict:\n",
    "  for d in training_dict[q]['docs']:\n",
    "    if len(d.split()) > MAX_LEN:\n",
    "      MAX_LEN = len(d.split())\n",
    "    doc_str_list.append(d)\n",
    "  query_str_list.append(q)\n",
    "print(MAX_LEN)\n",
    "\n",
    "len(doc_str_list), len(query_str_list)"
   ]
  },
  {
   "cell_type": "code",
   "execution_count": 13,
   "metadata": {
    "executionInfo": {
     "elapsed": 694,
     "status": "ok",
     "timestamp": 1652793697119,
     "user": {
      "displayName": "Олег Дмитриевич Сомов",
      "userId": "03877505905935419968"
     },
     "user_tz": -180
    },
    "id": "Xs3urOqGavYK"
   },
   "outputs": [],
   "source": [
    "from torchtext.data import get_tokenizer\n",
    "from torchtext.vocab import build_vocab_from_iterator\n",
    "\n",
    "tokenizer = get_tokenizer(\"basic_english\")\n",
    "\n",
    "def yield_tokens(query_list, doc_list):\n",
    "    for q in query_list:\n",
    "      yield tokenizer(query)\n",
    "    for d in doc_list:\n",
    "      yield tokenizer(d)\n",
    "\n",
    "vocab = build_vocab_from_iterator(yield_tokens(query_str_list, doc_str_list), specials=[\"<unk>\"])\n",
    "vocab.set_default_index(vocab[\"<unk>\"])"
   ]
  },
  {
   "cell_type": "markdown",
   "metadata": {
    "id": "jzV5FdN6B1Ev"
   },
   "source": [
    "Dataset will be in the following manner - query, docs list and labels distribution(low label - low relevance)."
   ]
  },
  {
   "cell_type": "code",
   "execution_count": 14,
   "metadata": {
    "colab": {
     "base_uri": "https://localhost:8080/"
    },
    "executionInfo": {
     "elapsed": 8,
     "status": "ok",
     "timestamp": 1652793697119,
     "user": {
      "displayName": "Олег Дмитриевич Сомов",
      "userId": "03877505905935419968"
     },
     "user_tz": -180
    },
    "id": "SAlmyYKpyHal",
    "outputId": "6b7d8985-4392-4652-f9f2-725af1d98a98"
   },
   "outputs": [
    {
     "data": {
      "text/plain": [
       "(tensor([107, 217,  59, 139,   0,   0,   0,   0,   0,   0,   0,   0,   0,   0,\n",
       "           0,   0,   0,   0,   0,   0,   0,   0,   0,   0,   0,   0,   0,   0,\n",
       "           0,   0,   0,   0,   0,   0,   0,   0,   0,   0,   0,   0,   0]),\n",
       " tensor([[1210, 1087,  185,  685, 1465,  101,  397,   59,  139,    0,    0,    0,\n",
       "             0,    0,    0,    0,    0,    0,    0,    0,    0,    0,    0,    0,\n",
       "             0,    0,    0,    0,    0,    0,    0,    0,    0,    0,    0,    0,\n",
       "             0,    0,    0,    0,    0],\n",
       "         [1210, 1087,  185,  685, 4840,   59,  139,  458,   29,  238,    0,    0,\n",
       "             0,    0,    0,    0,    0,    0,    0,    0,    0,    0,    0,    0,\n",
       "             0,    0,    0,    0,    0,    0,    0,    0,    0,    0,    0,    0,\n",
       "             0,    0,    0,    0,    0],\n",
       "         [2930, 3954, 1326,  185, 1980,  458,   32,   59,  139,   12,   89, 1463,\n",
       "           267,    0,    0,    0,    0,    0,    0,    0,    0,    0,    0,    0,\n",
       "             0,    0,    0,    0,    0,    0,    0,    0,    0,    0,    0,    0,\n",
       "             0,    0,    0,    0,    0],\n",
       "         [  54, 3864, 3955, 2645, 1331,  185, 3898,  458,   32,   59,  139,    0,\n",
       "             0,    0,    0,    0,    0,    0,    0,    0,    0,    0,    0,    0,\n",
       "             0,    0,    0,    0,    0,    0,    0,    0,    0,    0,    0,    0,\n",
       "             0,    0,    0,    0,    0],\n",
       "         [ 684,  228,  185,  458,   32,  685,   59,  139,    0,    0,    0,    0,\n",
       "             0,    0,    0,    0,    0,    0,    0,    0,    0,    0,    0,    0,\n",
       "             0,    0,    0,    0,    0,    0,    0,    0,    0,    0,    0,    0,\n",
       "             0,    0,    0,    0,    0],\n",
       "         [ 684,  228,  185, 1980,   59,  139,    0,    0,    0,    0,    0,    0,\n",
       "             0,    0,    0,    0,    0,    0,    0,    0,    0,    0,    0,    0,\n",
       "             0,    0,    0,    0,    0,    0,    0,    0,    0,    0,    0,    0,\n",
       "             0,    0,    0,    0,    0],\n",
       "         [1210, 1087,  185,  750,  685,  397,   59,  139,  458,   32,    0,    0,\n",
       "             0,    0,    0,    0,    0,    0,    0,    0,    0,    0,    0,    0,\n",
       "             0,    0,    0,    0,    0,    0,    0,    0,    0,    0,    0,    0,\n",
       "             0,    0,    0,    0,    0],\n",
       "         [1210, 1087,  185,  567,    1,  750,  397,   59,  139,    0,    0,    0,\n",
       "             0,    0,    0,    0,    0,    0,    0,    0,    0,    0,    0,    0,\n",
       "             0,    0,    0,    0,    0,    0,    0,    0,    0,    0,    0,    0,\n",
       "             0,    0,    0,    0,    0],\n",
       "         [ 684,  185,  167, 1463,  139,   12,  339, 2611,    0,    0,    0,    0,\n",
       "             0,    0,    0,    0,    0,    0,    0,    0,    0,    0,    0,    0,\n",
       "             0,    0,    0,    0,    0,    0,    0,    0,    0,    0,    0,    0,\n",
       "             0,    0,    0,    0,    0],\n",
       "         [ 123,  185,  685,  458,   32,   59,  139,    0,    0,    0,    0,    0,\n",
       "             0,    0,    0,    0,    0,    0,    0,    0,    0,    0,    0,    0,\n",
       "             0,    0,    0,    0,    0,    0,    0,    0,    0,    0,    0,    0,\n",
       "             0,    0,    0,    0,    0]]),\n",
       " tensor([ 1.,  2.,  3.,  4.,  5.,  6.,  7.,  8.,  9., 10.]))"
      ]
     },
     "execution_count": 14,
     "metadata": {},
     "output_type": "execute_result"
    }
   ],
   "source": [
    "from torch.utils.data import Dataset, DataLoader\n",
    "\n",
    "text_pipeline = lambda x: vocab(tokenizer(x))\n",
    "\n",
    "class QueryDocDataset(Dataset):\n",
    "  def __init__(self, query2doc_dict):\n",
    "    self.query2doc_dict = query2doc_dict\n",
    "    self.query_list = list(self.query2doc_dict.keys())\n",
    "\n",
    "  def __len__(self):\n",
    "    return len(self.query_list)\n",
    "\n",
    "  def __getitem__(self, idx):\n",
    "\n",
    "      selected_query = self.query_list[idx]\n",
    "      label_list = self.query2doc_dict[selected_query]['scores']\n",
    "      docs_list = self.query2doc_dict[selected_query]['docs']\n",
    "      query_ids = torch.tensor(text_pipeline(selected_query))\n",
    "      query_padding_len = MAX_LEN - len(query_ids)\n",
    "      query_ids_padded = torch.nn.functional.pad(query_ids, (0, query_padding_len), \"constant\", 0).to(dev)\n",
    "\n",
    "      doc_list_of_ids = list(map(text_pipeline, docs_list))\n",
    "      doc_ids_list = []\n",
    "      for doc_id_list in doc_list_of_ids:\n",
    "        doc_padding_len = MAX_LEN - len(doc_id_list)\n",
    "        doc_ids_padded = torch.nn.functional.pad(torch.tensor(doc_id_list), (0, doc_padding_len), \"constant\", 0)\n",
    "        doc_ids_list.append(doc_ids_padded)\n",
    "      doc_ids_list_tensor = torch.vstack(doc_ids_list).to(dev).long().to(dev)\n",
    "\n",
    "      label_tensor = torch.FloatTensor(label_list).to(dev)\n",
    "      \n",
    "      return query_ids_padded, doc_ids_list_tensor, label_tensor\n",
    "\n",
    "def test():\n",
    "  query_doc_dataset = QueryDocDataset(training_dict)\n",
    "  return query_doc_dataset[0]\n",
    "\n",
    "test()"
   ]
  },
  {
   "cell_type": "code",
   "execution_count": 15,
   "metadata": {
    "colab": {
     "base_uri": "https://localhost:8080/"
    },
    "executionInfo": {
     "elapsed": 7,
     "status": "ok",
     "timestamp": 1652793697120,
     "user": {
      "displayName": "Олег Дмитриевич Сомов",
      "userId": "03877505905935419968"
     },
     "user_tz": -180
    },
    "id": "tAYORh3r7NNC",
    "outputId": "52502ede-b6db-4346-9b2f-688ad740102b"
   },
   "outputs": [
    {
     "name": "stdout",
     "output_type": "stream",
     "text": [
      "tensor(1.3045)\n"
     ]
    }
   ],
   "source": [
    "def cross_entropy(input, target):\n",
    "    return -torch.sum(target * torch.log(input))\n",
    "\n",
    "y = torch.Tensor([[0.2, 0.3, 0.5]])\n",
    "yhat = torch.Tensor([[0.5, 0.3, 0.2]])\n",
    "print(cross_entropy(y, yhat))"
   ]
  },
  {
   "cell_type": "code",
   "execution_count": 16,
   "metadata": {
    "colab": {
     "base_uri": "https://localhost:8080/"
    },
    "executionInfo": {
     "elapsed": 4,
     "status": "ok",
     "timestamp": 1652793697120,
     "user": {
      "displayName": "Олег Дмитриевич Сомов",
      "userId": "03877505905935419968"
     },
     "user_tz": -180
    },
    "id": "GXMMvh5zW6Tn",
    "outputId": "b5f53c42-71c5-4d2d-be9f-cd550d070d28"
   },
   "outputs": [
    {
     "name": "stdout",
     "output_type": "stream",
     "text": [
      "tensor([107, 217,  59, 139,   0,   0,   0,   0,   0,   0,   0,   0,   0,   0,\n",
      "          0,   0,   0,   0,   0,   0,   0,   0,   0,   0,   0,   0,   0,   0,\n",
      "          0,   0,   0,   0,   0,   0,   0,   0,   0,   0,   0,   0,   0]) tensor([[1210, 1087,  185,  685, 1465,  101,  397,   59,  139,    0,    0,    0,\n",
      "            0,    0,    0,    0,    0,    0,    0,    0,    0,    0,    0,    0,\n",
      "            0,    0,    0,    0,    0,    0,    0,    0,    0,    0,    0,    0,\n",
      "            0,    0,    0,    0,    0],\n",
      "        [1210, 1087,  185,  685, 4840,   59,  139,  458,   29,  238,    0,    0,\n",
      "            0,    0,    0,    0,    0,    0,    0,    0,    0,    0,    0,    0,\n",
      "            0,    0,    0,    0,    0,    0,    0,    0,    0,    0,    0,    0,\n",
      "            0,    0,    0,    0,    0],\n",
      "        [2930, 3954, 1326,  185, 1980,  458,   32,   59,  139,   12,   89, 1463,\n",
      "          267,    0,    0,    0,    0,    0,    0,    0,    0,    0,    0,    0,\n",
      "            0,    0,    0,    0,    0,    0,    0,    0,    0,    0,    0,    0,\n",
      "            0,    0,    0,    0,    0],\n",
      "        [  54, 3864, 3955, 2645, 1331,  185, 3898,  458,   32,   59,  139,    0,\n",
      "            0,    0,    0,    0,    0,    0,    0,    0,    0,    0,    0,    0,\n",
      "            0,    0,    0,    0,    0,    0,    0,    0,    0,    0,    0,    0,\n",
      "            0,    0,    0,    0,    0],\n",
      "        [ 684,  228,  185,  458,   32,  685,   59,  139,    0,    0,    0,    0,\n",
      "            0,    0,    0,    0,    0,    0,    0,    0,    0,    0,    0,    0,\n",
      "            0,    0,    0,    0,    0,    0,    0,    0,    0,    0,    0,    0,\n",
      "            0,    0,    0,    0,    0],\n",
      "        [ 684,  228,  185, 1980,   59,  139,    0,    0,    0,    0,    0,    0,\n",
      "            0,    0,    0,    0,    0,    0,    0,    0,    0,    0,    0,    0,\n",
      "            0,    0,    0,    0,    0,    0,    0,    0,    0,    0,    0,    0,\n",
      "            0,    0,    0,    0,    0],\n",
      "        [1210, 1087,  185,  750,  685,  397,   59,  139,  458,   32,    0,    0,\n",
      "            0,    0,    0,    0,    0,    0,    0,    0,    0,    0,    0,    0,\n",
      "            0,    0,    0,    0,    0,    0,    0,    0,    0,    0,    0,    0,\n",
      "            0,    0,    0,    0,    0],\n",
      "        [1210, 1087,  185,  567,    1,  750,  397,   59,  139,    0,    0,    0,\n",
      "            0,    0,    0,    0,    0,    0,    0,    0,    0,    0,    0,    0,\n",
      "            0,    0,    0,    0,    0,    0,    0,    0,    0,    0,    0,    0,\n",
      "            0,    0,    0,    0,    0],\n",
      "        [ 684,  185,  167, 1463,  139,   12,  339, 2611,    0,    0,    0,    0,\n",
      "            0,    0,    0,    0,    0,    0,    0,    0,    0,    0,    0,    0,\n",
      "            0,    0,    0,    0,    0,    0,    0,    0,    0,    0,    0,    0,\n",
      "            0,    0,    0,    0,    0],\n",
      "        [ 123,  185,  685,  458,   32,   59,  139,    0,    0,    0,    0,    0,\n",
      "            0,    0,    0,    0,    0,    0,    0,    0,    0,    0,    0,    0,\n",
      "            0,    0,    0,    0,    0,    0,    0,    0,    0,    0,    0,    0,\n",
      "            0,    0,    0,    0,    0]])\n",
      "tensor([ 1.,  2.,  3.,  4.,  5.,  6.,  7.,  8.,  9., 10.])\n",
      "tensor([0.0999, 0.1000, 0.0993, 0.0996, 0.0999, 0.0999, 0.1003, 0.1005, 0.0999,\n",
      "        0.1008], grad_fn=<ReshapeAliasBackward0>)\n",
      "tensor([7.8013e-05, 2.1206e-04, 5.7645e-04, 1.5669e-03, 4.2594e-03, 1.1578e-02,\n",
      "        3.1473e-02, 8.5552e-02, 2.3255e-01, 6.3215e-01])\n",
      "Loss:  tensor(2.2971, grad_fn=<NegBackward0>)\n"
     ]
    }
   ],
   "source": [
    "class ListNetModel(nn.Module):\n",
    "  def __init__(self, vocab_size, embed_dim, hidden1):\n",
    "        super(ListNetModel, self).__init__()\n",
    "        self.embedding = nn.Embedding(vocab_size, embed_dim)\n",
    "        self.fc1 = nn.Linear(embed_dim*2, hidden1)\n",
    "        self.fc2 = nn.Linear(hidden1, 1)\n",
    "        self.softmax = nn.Softmax(dim=0)\n",
    "        self.init_weights()\n",
    "\n",
    "  def init_weights(self):\n",
    "      initrange = 0.5\n",
    "      self.embedding.weight.data.uniform_(-initrange, initrange)\n",
    "      self.fc1.weight.data.uniform_(-initrange, initrange)\n",
    "      self.fc1.bias.data.zero_()\n",
    "\n",
    "      self.fc2.weight.data.uniform_(-initrange, initrange)\n",
    "      self.fc2.bias.data.zero_()\n",
    "\n",
    "  def forward(self, query, doc_list):\n",
    "      query_embedding_vector = self.embedding(query).mean(dim=0).expand(len(doc_list), -1)\n",
    "      doc_embedding_matrix = self.embedding(doc_list).mean(dim=1)\n",
    "      feature_vec = torch.cat([query_embedding_vector, doc_embedding_matrix], dim=-1)\n",
    "      fc1 = self.fc1(feature_vec)\n",
    "      fc2 = self.fc2(fc1)\n",
    "      distr = self.softmax(fc2).view(1,-1).flatten()\n",
    "      return distr\n",
    "\n",
    "def test():\n",
    "  query_doc_dataset = QueryDocDataset(training_dict)\n",
    "  query_vec, doc_matrix, labels = query_doc_dataset[0]\n",
    "  print(query_vec, doc_matrix)\n",
    "  print(labels)\n",
    "  list_net_model = ListNetModel(len(vocab), 2, 4)\n",
    "  predicted_distr = list_net_model.forward(query_vec, doc_matrix)\n",
    "  print(predicted_distr)\n",
    "  true_distr = list_net_model.softmax(labels)\n",
    "  print(true_distr)\n",
    "  optimizer = optim.Adam(list_net_model.parameters(), lr=0.1)\n",
    "  loss = cross_entropy(predicted_distr, true_distr)\n",
    "  print('Loss: ', loss)\n",
    "\n",
    "test()"
   ]
  },
  {
   "cell_type": "code",
   "execution_count": 17,
   "metadata": {
    "colab": {
     "base_uri": "https://localhost:8080/",
     "height": 408
    },
    "executionInfo": {
     "elapsed": 109791,
     "status": "ok",
     "timestamp": 1652793806908,
     "user": {
      "displayName": "Олег Дмитриевич Сомов",
      "userId": "03877505905935419968"
     },
     "user_tz": -180
    },
    "id": "-ojN-QKWY59m",
    "outputId": "a6305684-d2a0-4777-adcd-bc11dfb8746d"
   },
   "outputs": [
    {
     "data": {
      "image/png": "[encoded data removed]",
      "text/plain": [
       "<Figure size 1440x432 with 2 Axes>"
      ]
     },
     "metadata": {
      "needs_background": "light"
     },
     "output_type": "display_data"
    },
    {
     "name": "stdout",
     "output_type": "stream",
     "text": [
      "Epoch number = 99, ndcg = 98.3518212238719\n"
     ]
    }
   ],
   "source": [
    "EPOCH_NUM = 100\n",
    "\n",
    "ewma = lambda x, span: pd.DataFrame({'x': x})['x'].ewm(span=span).mean().values\n",
    "\n",
    "ranking_dataset = QueryDocDataset(training_dict)\n",
    "\n",
    "list_net_model = ListNetModel(len(vocab), 2, 4)\n",
    "optimizer = optim.Adam(list_net_model.parameters(), lr=0.03)\n",
    "\n",
    "loss_array, ndcg_array  = [], []\n",
    "ndcg_epoch_score= 0\n",
    "for epoch in range(EPOCH_NUM):\n",
    "  epoch_avg_loss = 0\n",
    "  for sample in ranking_dataset:\n",
    "    query_vec, doc_matrix, labels = sample\n",
    "    true_distrib = list_net_model.softmax(labels)\n",
    "    optimizer.zero_grad()\n",
    "    predicted_distr = list_net_model.forward(query_vec, doc_matrix)\n",
    "    loss = cross_entropy(predicted_distr, true_distrib)\n",
    "    loss.backward()\n",
    "    optimizer.step()\n",
    "\n",
    "    epoch_avg_loss += loss.item()\n",
    "\n",
    "    labels = labels.detach().numpy().astype(int).reshape(1,-1)\n",
    "    predicted_distr = predicted_distr.detach().numpy().reshape(1,-1)\n",
    "    ndcg_val = ndcg_score(labels, predicted_distr)\n",
    "    ndcg_epoch_score += ndcg_val\n",
    "\n",
    "  loss_array.append(epoch_avg_loss / len(ranking_dataset))\n",
    "  ndcg_array.append(ndcg_epoch_score / len(ranking_dataset))\n",
    "\n",
    "  clear_output(True)\n",
    "  plt.figure(figsize=[20, 6])\n",
    "  plt.subplot(1, 2, 1), plt.title('train loss'), plt.grid()\n",
    "  plt.scatter(np.arange(len(loss_array)), loss_array, alpha=0.12)\n",
    "  plt.plot(ewma(loss_array, span=10))\n",
    "\n",
    "  plt.subplot(1, 2, 2), plt.title('ndcg score'), plt.grid()\n",
    "  plt.scatter(np.arange(len(ndcg_array)), ndcg_array, alpha=0.12)\n",
    "  plt.plot(ewma(ndcg_array, span=10))\n",
    "\n",
    "  plt.show()\n",
    "\n",
    "  print('Epoch number = {0}, ndcg = {1}'.format(epoch, ndcg_array[-1]))"
   ]
  },
  {
   "cell_type": "markdown",
   "metadata": {
    "id": "vvA8PkEoBuvl"
   },
   "source": [
    "Lets visualize predicted distribution. For sake of visualization we will take negative log of softmax distribution."
   ]
  },
  {
   "cell_type": "code",
   "execution_count": 28,
   "metadata": {
    "colab": {
     "base_uri": "https://localhost:8080/",
     "height": 782
    },
    "executionInfo": {
     "elapsed": 1934,
     "status": "ok",
     "timestamp": 1652794084071,
     "user": {
      "displayName": "Олег Дмитриевич Сомов",
      "userId": "03877505905935419968"
     },
     "user_tz": -180
    },
    "id": "AX32HT-yUEc3",
    "outputId": "e010dd56-5539-4b3c-c716-c7509e6ba282"
   },
   "outputs": [
    {
     "name": "stdout",
     "output_type": "stream",
     "text": [
      "True ranking: \n",
      "Doc@0:  minecraft foam diamond sword tensor(0.6321)\n",
      "Doc@1:  minecraft foam diamond sword each tensor(0.2326)\n",
      "Doc@2:  the quest for the diamond sword a minecraft gamer s adventure tensor(0.0856)\n",
      "Doc@3:  minecraft diamond sword metal keychain tensor(0.0315)\n",
      "Doc@4:  the quest for the diamond sword a minecraft gamer s adventure paperback tensor(0.0116)\n",
      "Doc@5:  justice girls minecraft foam diamond sword multi size no size tensor(0.0043)\n",
      "Doc@6:  minecraft diamond steve vinyl 6 tensor(0.0016)\n",
      "Doc@7:  minecraft foam diamond pickaxe each tensor(0.0006)\n",
      "Doc@8:  minecraft foam diamond pickaxe tensor(0.0002)\n",
      "Doc@9:  en busca de la espada de diamante in search of the diamond sword una increå¥ìû ble aventura de minecraft an amazing adventure of minecraft paperback tensor(7.8013e-05)\n",
      "\n",
      "Predicted ranking: \n",
      "Doc@0:  minecraft foam diamond sword 0.58352077\n",
      "Doc@1:  minecraft foam diamond sword each 0.2319063\n",
      "Doc@2:  the quest for the diamond sword a minecraft gamer s adventure 0.10561496\n",
      "Doc@3:  minecraft diamond sword metal keychain 0.048537564\n",
      "Doc@4:  the quest for the diamond sword a minecraft gamer s adventure paperback 0.020002048\n",
      "Doc@5:  justice girls minecraft foam diamond sword multi size no size 0.0060941754\n",
      "Doc@6:  minecraft diamond steve vinyl 6 0.0026714634\n",
      "Doc@7:  minecraft foam diamond pickaxe 0.0010546106\n",
      "Doc@8:  minecraft foam diamond pickaxe each 0.00041912802\n",
      "Doc@9:  en busca de la espada de diamante in search of the diamond sword una increå¥ìû ble aventura de minecraft an amazing adventure of minecraft paperback 0.00017898987\n"
     ]
    },
    {
     "data": {
      "text/plain": [
       "Text(0, 0.5, 'proba')"
      ]
     },
     "execution_count": 28,
     "metadata": {},
     "output_type": "execute_result"
    },
    {
     "data": {
      "image/png": "[encoded data removed]",
      "text/plain": [
       "<Figure size 1440x360 with 2 Axes>"
      ]
     },
     "metadata": {
      "needs_background": "light"
     },
     "output_type": "display_data"
    }
   ],
   "source": [
    "example_sample = 'minecraft diamond sword'\n",
    "print('True ranking: ')\n",
    "\n",
    "docs_list = training_dict[example_sample]['docs']\n",
    "example_sample_idx = list(training_dict.keys()).index(example_sample)\n",
    "query_vec, doc_matrix, labels = ranking_dataset[example_sample_idx]\n",
    "\n",
    "true_distrib = list_net_model.softmax(labels)\n",
    "for idx, doc in enumerate(zip(reversed(docs_list), reversed(true_distrib))):\n",
    "  doc, score = doc\n",
    "  print(f'Doc@{idx}: ', doc, score)\n",
    "\n",
    "predicted_distr = list_net_model.forward(query_vec, doc_matrix).detach().numpy()\n",
    "#сортируем значения предсказаний от меньшего к большему\n",
    "sorted_distr_idx = np.array(list(reversed(np.argsort(predicted_distr))))\n",
    "predicted_docs = np.array(docs_list)[sorted_distr_idx]\n",
    "predicted_scores = predicted_distr[sorted_distr_idx]\n",
    "\n",
    "\n",
    "print()\n",
    "print('Predicted ranking: ')\n",
    "for idx, doc in enumerate(zip(predicted_docs, predicted_scores)):\n",
    "  doc, score = doc\n",
    "  print(f'Doc@{idx}: ', doc, score)\n",
    "\n",
    "plt.figure(figsize=[20, 5])\n",
    "plt.subplot(1, 2, 1)\n",
    "# так как работаем изначально - labels состоит из объектов от 0(наименее релевантный) к 1(наиболее релевантный) - перевернем список\n",
    "plt.bar(labels, list(reversed(true_distrib)), color='r')\n",
    "plt.xlabel('true document rank')\n",
    "plt.ylabel('proba')\n",
    "\n",
    "plt.subplot(1, 2, 2)\n",
    "plt.bar(labels, predicted_scores, color='g')\n",
    "plt.xlabel('predicted document rank')\n",
    "plt.ylabel('proba')"
   ]
  },
  {
   "cell_type": "code",
   "execution_count": null,
   "metadata": {
    "executionInfo": {
     "elapsed": 6,
     "status": "aborted",
     "timestamp": 1652793807286,
     "user": {
      "displayName": "Олег Дмитриевич Сомов",
      "userId": "03877505905935419968"
     },
     "user_tz": -180
    },
    "id": "_pILxhnmedAr"
   },
   "outputs": [],
   "source": []
  }
 ],
 "metadata": {
  "colab": {
   "collapsed_sections": [],
   "name": "Listwise_implementation_.ipynb",
   "provenance": []
  },
  "kernelspec": {
   "display_name": "Python 3 (ipykernel)",
   "language": "python",
   "name": "python3"
  },
  "language_info": {
   "codemirror_mode": {
    "name": "ipython",
    "version": 3
   },
   "file_extension": ".py",
   "mimetype": "text/x-python",
   "name": "python",
   "nbconvert_exporter": "python",
   "pygments_lexer": "ipython3",
   "version": "3.9.7"
  }
 },
 "nbformat": 4,
 "nbformat_minor": 4
}
